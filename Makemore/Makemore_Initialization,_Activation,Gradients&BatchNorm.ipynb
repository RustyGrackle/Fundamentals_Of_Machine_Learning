{
  "nbformat": 4,
  "nbformat_minor": 0,
  "metadata": {
    "colab": {
      "provenance": []
    },
    "kernelspec": {
      "name": "python3",
      "display_name": "Python 3"
    },
    "language_info": {
      "name": "python"
    },
    "accelerator": "TPU",
    "gpuClass": "standard"
  },
  "cells": [
    {
      "cell_type": "markdown",
      "source": [
        "* Today, we are going to understand `activations` and `how gradient descent go backward` in `neural networks` in more depth."
      ],
      "metadata": {
        "id": "pxUJyotA9b9Y"
      }
    },
    {
      "cell_type": "markdown",
      "source": [
        "* `RNN` models are not optimizable easily, we will understand this today."
      ],
      "metadata": {
        "id": "IEPTmMNrBpIC"
      }
    },
    {
      "cell_type": "code",
      "source": [
        "import torch\n",
        "import torch.nn.functional as F\n",
        "import matplotlib.pyplot as plt # for making figures\n",
        "%matplotlib inline"
      ],
      "metadata": {
        "id": "088a5ESOB4Ve"
      },
      "execution_count": 51,
      "outputs": []
    },
    {
      "cell_type": "code",
      "source": [
        "# download the names.txt file from github\n",
        "!wget https://raw.githubusercontent.com/karpathy/makemore/master/names.txt"
      ],
      "metadata": {
        "id": "t_FUxNFOCEwt",
        "colab": {
          "base_uri": "https://localhost:8080/"
        },
        "outputId": "8fb410c1-1c2f-4c28-f446-9cbd0618ce17"
      },
      "execution_count": 52,
      "outputs": [
        {
          "output_type": "stream",
          "name": "stdout",
          "text": [
            "--2023-04-01 15:18:42--  https://raw.githubusercontent.com/karpathy/makemore/master/names.txt\n",
            "Resolving raw.githubusercontent.com (raw.githubusercontent.com)... 185.199.108.133, 185.199.109.133, 185.199.110.133, ...\n",
            "Connecting to raw.githubusercontent.com (raw.githubusercontent.com)|185.199.108.133|:443... connected.\n",
            "HTTP request sent, awaiting response... 200 OK\n",
            "Length: 228145 (223K) [text/plain]\n",
            "Saving to: ‘names.txt.2’\n",
            "\n",
            "\rnames.txt.2           0%[                    ]       0  --.-KB/s               \rnames.txt.2         100%[===================>] 222.80K  --.-KB/s    in 0.03s   \n",
            "\n",
            "2023-04-01 15:18:42 (8.26 MB/s) - ‘names.txt.2’ saved [228145/228145]\n",
            "\n"
          ]
        }
      ]
    },
    {
      "cell_type": "code",
      "source": [
        "# read in all the words\n",
        "words = open('names.txt', 'r').read().splitlines()\n",
        "words[:8]"
      ],
      "metadata": {
        "id": "XKt0-ZraCI_u",
        "colab": {
          "base_uri": "https://localhost:8080/"
        },
        "outputId": "28bed012-7161-48fa-9690-46a91f825288"
      },
      "execution_count": 53,
      "outputs": [
        {
          "output_type": "execute_result",
          "data": {
            "text/plain": [
              "['emma', 'olivia', 'ava', 'isabella', 'sophia', 'charlotte', 'mia', 'amelia']"
            ]
          },
          "metadata": {},
          "execution_count": 53
        }
      ]
    },
    {
      "cell_type": "code",
      "source": [
        "len(words)"
      ],
      "metadata": {
        "id": "QmHm6BkyCLjX",
        "colab": {
          "base_uri": "https://localhost:8080/"
        },
        "outputId": "76a481f7-780c-41c0-b69a-cb44977ccdd0"
      },
      "execution_count": 54,
      "outputs": [
        {
          "output_type": "execute_result",
          "data": {
            "text/plain": [
              "32033"
            ]
          },
          "metadata": {},
          "execution_count": 54
        }
      ]
    },
    {
      "cell_type": "code",
      "source": [
        "# build the vocabulary of characters and mappings to/from integers\n",
        "chars = sorted(list(set(''.join(words))))\n",
        "stoi = {s:i+1 for i,s in enumerate(chars)}\n",
        "stoi['.'] = 0\n",
        "itos = {i:s for s,i in stoi.items()}\n",
        "vocab_size = len(itos)\n",
        "print(itos)\n",
        "print(vocab_size)"
      ],
      "metadata": {
        "id": "ZlGNERJRCNr3",
        "colab": {
          "base_uri": "https://localhost:8080/"
        },
        "outputId": "8cce7353-7a15-4f0c-a44c-74d75f6c0d86"
      },
      "execution_count": 55,
      "outputs": [
        {
          "output_type": "stream",
          "name": "stdout",
          "text": [
            "{1: 'a', 2: 'b', 3: 'c', 4: 'd', 5: 'e', 6: 'f', 7: 'g', 8: 'h', 9: 'i', 10: 'j', 11: 'k', 12: 'l', 13: 'm', 14: 'n', 15: 'o', 16: 'p', 17: 'q', 18: 'r', 19: 's', 20: 't', 21: 'u', 22: 'v', 23: 'w', 24: 'x', 25: 'y', 26: 'z', 0: '.'}\n",
            "27\n"
          ]
        }
      ]
    },
    {
      "cell_type": "code",
      "source": [
        "# build the dataset\n",
        "block_size = 3 # context length: how many characters do we take to predict the next one?\n",
        "\n",
        "def build_dataset(words):  \n",
        "  X, Y = [], []\n",
        "  \n",
        "  for w in words:\n",
        "    context = [0] * block_size\n",
        "    for ch in w + '.':\n",
        "      ix = stoi[ch]\n",
        "      X.append(context)\n",
        "      Y.append(ix)\n",
        "      context = context[1:] + [ix] # crop and append\n",
        "\n",
        "  X = torch.tensor(X)\n",
        "  Y = torch.tensor(Y)\n",
        "  print(X.shape, Y.shape)\n",
        "  return X, Y\n",
        "\n",
        "import random\n",
        "random.seed(42)\n",
        "random.shuffle(words)\n",
        "n1 = int(0.8*len(words))\n",
        "n2 = int(0.9*len(words))\n",
        "\n",
        "Xtr,  Ytr  = build_dataset(words[:n1])     # 80%\n",
        "Xdev, Ydev = build_dataset(words[n1:n2])   # 10%\n",
        "Xte,  Yte  = build_dataset(words[n2:])     # 10%\n"
      ],
      "metadata": {
        "id": "RKr5b6k1CTDs",
        "colab": {
          "base_uri": "https://localhost:8080/"
        },
        "outputId": "282fc4e9-989b-4630-8eab-d4bed1cb2f88"
      },
      "execution_count": 56,
      "outputs": [
        {
          "output_type": "stream",
          "name": "stdout",
          "text": [
            "torch.Size([182625, 3]) torch.Size([182625])\n",
            "torch.Size([22655, 3]) torch.Size([22655])\n",
            "torch.Size([22866, 3]) torch.Size([22866])\n"
          ]
        }
      ]
    },
    {
      "cell_type": "code",
      "source": [
        "# MLP revisited\n",
        "n_embd = 10 # the dimensionality of the character embedding vectors\n",
        "n_hidden = 200 # the number of neurons in the hidden layer of the MLP\n",
        "\n",
        "g = torch.Generator().manual_seed(2147483647) # for reproducibility\n",
        "C  = torch.randn((vocab_size, n_embd),            generator=g)\n",
        "W1 = torch.randn((n_embd * block_size, n_hidden), generator=g)\n",
        "b1 = torch.randn(n_hidden,                        generator=g)\n",
        "W2 = torch.randn((n_hidden, vocab_size),          generator=g)\n",
        "b2 = torch.randn(vocab_size,                      generator=g)\n",
        "\n",
        "parameters = [C, W1, b1, W2, b2]\n",
        "print(sum(p.nelement() for p in parameters)) # number of parameters in total\n",
        "for p in parameters:\n",
        "  p.requires_grad = True"
      ],
      "metadata": {
        "id": "HLTUiW_9Cb92",
        "colab": {
          "base_uri": "https://localhost:8080/"
        },
        "outputId": "328dd447-f79c-44f3-fe54-d4a63a43cf37"
      },
      "execution_count": 24,
      "outputs": [
        {
          "output_type": "stream",
          "name": "stdout",
          "text": [
            "11897\n"
          ]
        }
      ]
    },
    {
      "cell_type": "markdown",
      "source": [
        "* By randomly selecting W1, b1, W2, b2... the `logits` we get at the end is not normalized due to which initial loss is too high, that is, to make loss low to start, initially we don't know out of 27 characters which will come next so,\n",
        "all the `logits` should either be `zero` or `equal` `to give equally likely probability` for all 27 characters `(1/27)`,  \n",
        "\n",
        "* we don't initially need bias b2, so make it zero by multiplying it by `0`. i.e we are `not biased with any character`.\n",
        "* Multiply W2 by `0.01 to make all values decrease by factor of 100`."
      ],
      "metadata": {
        "id": "gKzob7TmzCqb"
      }
    },
    {
      "cell_type": "markdown",
      "source": [
        "#### Normalizing our logits by editing W2, b2 and issues with it:"
      ],
      "metadata": {
        "id": "n5M_KaCR-T9A"
      }
    },
    {
      "cell_type": "code",
      "source": [
        "# MLP revisited\n",
        "n_embd = 10 # the dimensionality of the character embedding vectors\n",
        "n_hidden = 200 # the number of neurons in the hidden layer of the MLP\n",
        "\n",
        "g = torch.Generator().manual_seed(2147483647) # for reproducibility\n",
        "C  = torch.randn((vocab_size, n_embd),            generator=g)\n",
        "W1 = torch.randn((n_embd * block_size, n_hidden), generator=g)\n",
        "b1 = torch.randn(n_hidden,                        generator=g)\n",
        "W2 = torch.randn((n_hidden, vocab_size),          generator=g) * 0.01\n",
        "b2 = torch.randn(vocab_size,                      generator=g) * 0\n",
        "\n",
        "parameters = [C, W1, b1, W2, b2]\n",
        "print(sum(p.nelement() for p in parameters)) # number of parameters in total\n",
        "for p in parameters:\n",
        "  p.requires_grad = True"
      ],
      "metadata": {
        "id": "LyDJlo_3zBkZ",
        "colab": {
          "base_uri": "https://localhost:8080/"
        },
        "outputId": "83ebace9-bd5f-4349-cc34-ae45e88e7fcb"
      },
      "execution_count": 25,
      "outputs": [
        {
          "output_type": "stream",
          "name": "stdout",
          "text": [
            "11897\n"
          ]
        }
      ]
    },
    {
      "cell_type": "code",
      "source": [
        " # same optimization as last time\n",
        "max_steps = 200000\n",
        "batch_size = 32\n",
        "lossi = []\n",
        "\n",
        "for i in range(max_steps): # no. of epochs\n",
        "  \n",
        "  # minibatch construct\n",
        "  ix = torch.randint(0, Xtr.shape[0], (batch_size,), generator=g)\n",
        "  Xb, Yb = Xtr[ix], Ytr[ix] # batch X,Y\n",
        "  \n",
        "  # forward pass\n",
        "  emb = C[Xb] # embed the characters into vectors\n",
        "  embcat = emb.view(emb.shape[0], -1) # concatenate the vectors\n",
        "  # Linear layer\n",
        "  hpreact = embcat @ W1 + b1 # hidden layer pre-activation\n",
        "\n",
        "  # Non-linearity\n",
        "  h = torch.tanh(hpreact) # hidden layer\n",
        "  logits = h @ W2 + b2 # output layer\n",
        "  loss = F.cross_entropy(logits, Yb) # loss function\n",
        "  \n",
        "  # backward pass\n",
        "  for p in parameters:\n",
        "    p.grad = None\n",
        "  loss.backward()\n",
        "  \n",
        "  # update\n",
        "  lr = 0.1 if i < 100000 else 0.01 # step learning rate decay\n",
        "  for p in parameters:\n",
        "    p.data += -lr * p.grad\n",
        "\n",
        "  # track stats\n",
        "  if i % 10000 == 0: # print every once in a while\n",
        "    print(f'{i:7d}/{max_steps:7d}: {loss.item():.4f}')\n",
        "  lossi.append(loss.log10().item())\n",
        "  "
      ],
      "metadata": {
        "id": "F_TKpNpgCit3",
        "colab": {
          "base_uri": "https://localhost:8080/"
        },
        "outputId": "955bb196-8475-4338-9539-6cc76d74205e"
      },
      "execution_count": 26,
      "outputs": [
        {
          "output_type": "stream",
          "name": "stdout",
          "text": [
            "      0/ 200000: 3.3221\n",
            "  10000/ 200000: 2.1900\n",
            "  20000/ 200000: 2.4196\n",
            "  30000/ 200000: 2.6067\n",
            "  40000/ 200000: 2.0601\n",
            "  50000/ 200000: 2.4988\n",
            "  60000/ 200000: 2.3902\n",
            "  70000/ 200000: 2.1344\n",
            "  80000/ 200000: 2.3369\n",
            "  90000/ 200000: 2.1299\n",
            " 100000/ 200000: 1.8329\n",
            " 110000/ 200000: 2.2053\n",
            " 120000/ 200000: 1.8540\n",
            " 130000/ 200000: 2.4566\n",
            " 140000/ 200000: 2.1879\n",
            " 150000/ 200000: 2.1118\n",
            " 160000/ 200000: 1.8956\n",
            " 170000/ 200000: 1.8644\n",
            " 180000/ 200000: 2.0326\n",
            " 190000/ 200000: 1.8417\n"
          ]
        }
      ]
    },
    {
      "cell_type": "code",
      "source": [
        "plt.figure(figsize=(20,10))\n",
        "plt.imshow(h.abs() > 0.99, cmap='gray', interpolation='nearest') # asking how many values of h are above 0.99 and it shows a boolean figure,"
      ],
      "metadata": {
        "id": "pTYZlhHx7OrT",
        "colab": {
          "base_uri": "https://localhost:8080/",
          "height": 277
        },
        "outputId": "65dd6d99-dcd5-4dff-9827-bdb1648ce69f"
      },
      "execution_count": 27,
      "outputs": [
        {
          "output_type": "execute_result",
          "data": {
            "text/plain": [
              "<matplotlib.image.AxesImage at 0x7f2d2259b6a0>"
            ]
          },
          "metadata": {},
          "execution_count": 27
        },
        {
          "output_type": "display_data",
          "data": {
            "text/plain": [
              "<Figure size 2000x1000 with 1 Axes>"
            ],
            "image/png": "[encoded data removed]"
          },
          "metadata": {}
        }
      ]
    },
    {
      "cell_type": "markdown",
      "source": [
        "* Here, white spots means `True` and black spots means `False`, hence, there are lot of values `greater than 0.99`.\n",
        "\n",
        "* If any of the column above, becomes purely white, then it is becomes, what we call a `dead neuron`, which basically does nothing in our neural net, just a trash."
      ],
      "metadata": {
        "id": "x5zoK3Ze7jz5"
      }
    },
    {
      "cell_type": "code",
      "source": [
        "plt.plot(lossi)"
      ],
      "metadata": {
        "id": "o3uOr3ckFLKU",
        "colab": {
          "base_uri": "https://localhost:8080/",
          "height": 448
        },
        "outputId": "f32773ea-0210-4016-e4c6-8612b477fadb"
      },
      "execution_count": 28,
      "outputs": [
        {
          "output_type": "execute_result",
          "data": {
            "text/plain": [
              "[<matplotlib.lines.Line2D at 0x7f2dcd140fd0>]"
            ]
          },
          "metadata": {},
          "execution_count": 28
        },
        {
          "output_type": "display_data",
          "data": {
            "text/plain": [
              "<Figure size 640x480 with 1 Axes>"
            ],
            "image/png": "[encoded data removed]"
          },
          "metadata": {}
        }
      ]
    },
    {
      "cell_type": "code",
      "source": [
        "plt.hist(h.view(-1).tolist(), 50)"
      ],
      "metadata": {
        "id": "LG7EPDGU5OgQ",
        "colab": {
          "base_uri": "https://localhost:8080/",
          "height": 662
        },
        "outputId": "2e01360b-29b6-45d8-bdc5-7f7f0ed89291"
      },
      "execution_count": 29,
      "outputs": [
        {
          "output_type": "execute_result",
          "data": {
            "text/plain": [
              "(array([2165.,  152.,   94.,   59.,   51.,   49.,   48.,   36.,   35.,\n",
              "          33.,   42.,   31.,   45.,   30.,   37.,   24.,   17.,   20.,\n",
              "          20.,   14.,   28.,   17.,   12.,   22.,   34.,   20.,   22.,\n",
              "          15.,    8.,   26.,   23.,   22.,   24.,   28.,   40.,   15.,\n",
              "          23.,   36.,   20.,   27.,   21.,   25.,   30.,   53.,   45.,\n",
              "          64.,   64.,   88.,  115., 2431.]),\n",
              " array([-1.  , -0.96, -0.92, -0.88, -0.84, -0.8 , -0.76, -0.72, -0.68,\n",
              "        -0.64, -0.6 , -0.56, -0.52, -0.48, -0.44, -0.4 , -0.36, -0.32,\n",
              "        -0.28, -0.24, -0.2 , -0.16, -0.12, -0.08, -0.04,  0.  ,  0.04,\n",
              "         0.08,  0.12,  0.16,  0.2 ,  0.24,  0.28,  0.32,  0.36,  0.4 ,\n",
              "         0.44,  0.48,  0.52,  0.56,  0.6 ,  0.64,  0.68,  0.72,  0.76,\n",
              "         0.8 ,  0.84,  0.88,  0.92,  0.96,  1.  ]),\n",
              " <BarContainer object of 50 artists>)"
            ]
          },
          "metadata": {},
          "execution_count": 29
        },
        {
          "output_type": "display_data",
          "data": {
            "text/plain": [
              "<Figure size 640x480 with 1 Axes>"
            ],
            "image/png": "[encoded data removed]"
          },
          "metadata": {}
        }
      ]
    },
    {
      "cell_type": "code",
      "source": [
        "plt.hist(hpreact.view(-1).tolist(), 50) # 50 here is, 50 pins."
      ],
      "metadata": {
        "id": "XeQ3-D4u4-1K",
        "colab": {
          "base_uri": "https://localhost:8080/",
          "height": 769
        },
        "outputId": "d8784a8b-4200-497d-c23b-9acc7a160e31"
      },
      "execution_count": 30,
      "outputs": [
        {
          "output_type": "execute_result",
          "data": {
            "text/plain": [
              "(array([  1.,   0.,   0.,   1.,   3.,   0.,   4.,   6.,   8.,  10.,  11.,\n",
              "         20.,  26.,  51.,  67.,  76., 120., 156., 178., 223., 255., 301.,\n",
              "        333., 348., 449., 557., 501., 375., 362., 311., 300., 278., 225.,\n",
              "        215., 166., 106., 111.,  89.,  48.,  35.,  24.,  19.,  17.,   7.,\n",
              "          3.,   3.,   0.,   0.,   0.,   1.]),\n",
              " array([-26.79987907, -25.76185238, -24.72382568, -23.68579899,\n",
              "        -22.64777229, -21.6097456 , -20.5717189 , -19.53369221,\n",
              "        -18.49566551, -17.45763882, -16.41961212, -15.38158543,\n",
              "        -14.34355873, -13.30553204, -12.26750534, -11.22947865,\n",
              "        -10.19145195,  -9.15342525,  -8.11539856,  -7.07737186,\n",
              "         -6.03934517,  -5.00131847,  -3.96329178,  -2.92526508,\n",
              "         -1.88723839,  -0.84921169,   0.188815  ,   1.2268417 ,\n",
              "          2.26486839,   3.30289509,   4.34092178,   5.37894848,\n",
              "          6.41697517,   7.45500187,   8.49302856,   9.53105526,\n",
              "         10.56908195,  11.60710865,  12.64513535,  13.68316204,\n",
              "         14.72118874,  15.75921543,  16.79724213,  17.83526882,\n",
              "         18.87329552,  19.91132221,  20.94934891,  21.9873756 ,\n",
              "         23.0254023 ,  24.06342899,  25.10145569]),\n",
              " <BarContainer object of 50 artists>)"
            ]
          },
          "metadata": {},
          "execution_count": 30
        },
        {
          "output_type": "display_data",
          "data": {
            "text/plain": [
              "<Figure size 640x480 with 1 Axes>"
            ],
            "image/png": "[encoded data removed]"
          },
          "metadata": {}
        }
      ]
    },
    {
      "cell_type": "markdown",
      "source": [
        "* Now here are the two problems you will see by editing W2 :-\n",
        "  * Firstly, we are not getting the `hockey stick curve as we expect` in `neural networks`, this is because during initialization, before editing our `neural net` was starting loss from around `27` and now it is only around `3`.\n",
        "  * Secondly, you will see that, `hpreact` is taking lot's of values between `-15 and 15` ,and so `h` is taking lots of values as `1 or -1`, due to which during `back propagation`, `gradient of tanh` becomes `0`, and hence our `back prop algo` becomes useless on those neurons. It increases chance of `Dead Neurons`, which do nothing in the `neural net` for any of the examples.\n",
        "  * Second point is also true for other `non-linearity activation functions` such as:\n",
        "    * Sigmoid\n",
        "    * tanh\n",
        "    * Relu\n",
        "    * Leaky Relu\n",
        "    * Maxout\n",
        "    * ELU\n"
      ],
      "metadata": {
        "id": "3cL6lRhP4C2z"
      }
    },
    {
      "cell_type": "code",
      "source": [
        "@torch.no_grad() # this decorator disables gradient tracking\n",
        "def split_loss(split):\n",
        "  x,y = {\n",
        "    'train': (Xtr, Ytr),\n",
        "    'val': (Xdev, Ydev),\n",
        "    'test': (Xte, Yte),\n",
        "  }[split]\n",
        "  emb = C[x] # (N, block_size, n_embd)\n",
        "  embcat = emb.view(emb.shape[0], -1) # concat into (N, block_size * n_embd)\n",
        "  hpreact = embcat @ W1 + b1\n",
        "  h = torch.tanh(hpreact) # (N, n_hidden)\n",
        "  logits = h @ W2 + b2 # (N, vocab_size)\n",
        "  loss = F.cross_entropy(logits, y)\n",
        "  print(split, loss.item())\n",
        "\n",
        "split_loss('train')\n",
        "split_loss('val')"
      ],
      "metadata": {
        "id": "6DCfo5frHBif",
        "colab": {
          "base_uri": "https://localhost:8080/"
        },
        "outputId": "e654d85a-7ed9-4f91-ea0d-fd22743dc2cd"
      },
      "execution_count": 31,
      "outputs": [
        {
          "output_type": "stream",
          "name": "stdout",
          "text": [
            "train 2.0695888996124268\n",
            "val 2.1310746669769287\n"
          ]
        }
      ]
    },
    {
      "cell_type": "markdown",
      "source": [
        "* `@torch.no_grad()` - This is a decorator. what this decorator does on top of this function is that whatever happens in this function is assumed by torch to never require any gradients so it will not do any of the `bookkeeping`, that it does, to keep `track of all the gradients` in anticipation of an eventual `backward pass`."
      ],
      "metadata": {
        "id": "o4kkYCmmHZFl"
      }
    },
    {
      "cell_type": "markdown",
      "source": [
        "* It's almost as if all the `tensors` that get created here have a `requires_grad = False`. So this `decorator` makes everything much more efficient."
      ],
      "metadata": {
        "id": "iwtaB04pJenp"
      }
    },
    {
      "cell_type": "markdown",
      "source": [
        "#### Let's change all the weights and bias this time"
      ],
      "metadata": {
        "id": "N4aOM3HdAKEF"
      }
    },
    {
      "cell_type": "code",
      "source": [
        "# MLP revisited\n",
        "n_embd = 10 # the dimensionality of the character embedding vectors\n",
        "n_hidden = 200 # the number of neurons in the hidden layer of the MLP\n",
        "\n",
        "g = torch.Generator().manual_seed(2147483647) # for reproducibility\n",
        "C  = torch.randn((vocab_size, n_embd),            generator=g)\n",
        "W1 = torch.randn((n_embd * block_size, n_hidden), generator=g) * (5/3) / ((n_embd * block_size)**0.5)   #* 0.2 # 5/3 is for tanh\n",
        "b1 = torch.randn(n_hidden,                        generator=g) * 0.01\n",
        "W2 = torch.randn((n_hidden, vocab_size),          generator=g) * 0.01\n",
        "b2 = torch.randn(vocab_size,                      generator=g) * 0\n",
        "\n",
        "parameters = [C, W1, b1, W2, b2]\n",
        "print(sum(p.nelement() for p in parameters)) # number of parameters in total\n",
        "for p in parameters:\n",
        "  p.requires_grad = True"
      ],
      "metadata": {
        "id": "VBejVZZCAUsx",
        "colab": {
          "base_uri": "https://localhost:8080/"
        },
        "outputId": "766657cb-c033-47f5-ee00-d3c732b49c4e"
      },
      "execution_count": 32,
      "outputs": [
        {
          "output_type": "stream",
          "name": "stdout",
          "text": [
            "11897\n"
          ]
        }
      ]
    },
    {
      "cell_type": "markdown",
      "source": [
        "* `Real question` is how we set these numbers, that we multiplied to W1, b1, W2, b2."
      ],
      "metadata": {
        "id": "3hAB5TjEED9a"
      }
    },
    {
      "cell_type": "code",
      "source": [
        "# JUST A EXAMPLE BELOW\n",
        "\n",
        "x = torch.randn(1000, 10)\n",
        "n = 1 / 10**0.5\n",
        "w = torch.randn(10, 200) * n\n",
        "y = x @ w\n",
        "print(x.mean(), x.std())\n",
        "print(y.mean(), y.std())\n",
        "plt.figure(figsize=(20,5))\n",
        "plt.subplot(121)\n",
        "plt.hist(x.view(-1).tolist(), 50, density=True);\n",
        "plt.subplot(122)\n",
        "plt.hist(y.view(-1).tolist(), 50, density=True);\n",
        "\n",
        "# EXAMPLE ENDED"
      ],
      "metadata": {
        "id": "90u1fndFEbQz",
        "colab": {
          "base_uri": "https://localhost:8080/",
          "height": 404
        },
        "outputId": "617f87cd-a2b3-4160-dc0f-69b2e540f9d8"
      },
      "execution_count": 33,
      "outputs": [
        {
          "output_type": "stream",
          "name": "stdout",
          "text": [
            "tensor(0.0029) tensor(0.9918)\n",
            "tensor(0.0010) tensor(0.9874)\n"
          ]
        },
        {
          "output_type": "display_data",
          "data": {
            "text/plain": [
              "<Figure size 2000x500 with 2 Axes>"
            ],
            "image/png": "[encoded data removed]"
          },
          "metadata": {}
        }
      ]
    },
    {
      "cell_type": "markdown",
      "source": [
        "* In a `neural net`, what we want is, that the values of w are such that the `standard deviation of x any y remains approximately equal`.\n",
        "* So, to get values of `w`, we have to multiply by a number `n` to get the best close standard deviation for both x and y.\n",
        "* It is found that the best value of `n` is `1/(square root of fanin)` , like here fanin is (number of input elements) `10`."
      ],
      "metadata": {
        "id": "BkiShuy8GfSQ"
      }
    },
    {
      "cell_type": "markdown",
      "source": [
        "* `Many papers has been published on how to initialize neural nets, to get best results`.\n",
        "\n",
        "* One such <a href=\"https://arxiv.org/abs/1502.01852\">paper</a> was given by, Kaiming He (One of the researchers), `Delving Deep into Rectifiers: Surpassing Human-level Performance on ImageNet Classification`:\n",
        "  * They studied , `CNN and ReLU and PReLU non-linearities.` Due to using ReLU, They are throwing almost half of the distribution, that's where they have to compensate by (called as) `Gain.` They initialize there weights with zero mean Gaussian distribution whose `std` is `sq.root of (2/fanin)`, fanin denoted as `nl`. They added this factor of `2` because of `Relu` which basically discards half of distribution and clamps it as zero.\n",
        "  * Also in `Back Propagation`; what they find is basically if you properly initialize the forward pass, the backward pass is also approximately initialized up to a constant factor, that has to do with size of the number of hidden neurons in an early and late layer. but this choice not matters too much. \n",
        "  * this timing initialization is also implemented in `pytorch`.\n",
        "\n",
        "* In `pytorch` for initialization,\n",
        "  * `torch.nn.init.kaiming_normal_()` : Most common way of initializing our neural network.\n",
        "    * keyword argument: `mode=` whether you want to normalize `activations` or like to `normalize the gradients` to always have gaussian with zero mean and a unit or `a standard deviation`. but we set it to default - `fan_in`\n",
        "    * keyword argument: `nonlinearity=` you have to provide which activation you are using.\n",
        "\n",
        "        `std = gain/sqroot(fan_mode)` for different activations has different gain."
      ],
      "metadata": {
        "id": "LanpG6suIZpB"
      }
    },
    {
      "cell_type": "markdown",
      "source": [
        "* `NOTE`: This is section is now not that important in the modern neural networks, because now there are number of modern innovations that have made everything significantly more stable and more well-behaved and has become \n",
        "`less important to initialize these networks exactly right`.\n",
        "* Some of modern innovations are : `residual connections`, `use of no. of normalization layers like **batch normalization**, **layer normalization**, **group normalization**`, now much better optimizers like `RMSprop`, `Adam`"
      ],
      "metadata": {
        "id": "c4RUMeB4Z-ux"
      }
    },
    {
      "cell_type": "markdown",
      "source": [
        "* So without giving so much maths in it, simply normalize `weights` by dividing them by the `square root of fan-in`."
      ],
      "metadata": {
        "id": "Jd2JDjDVbq2H"
      }
    },
    {
      "cell_type": "code",
      "source": [
        " # same optimization as last time\n",
        "max_steps = 200000\n",
        "batch_size = 32\n",
        "lossi = []\n",
        "\n",
        "for i in range(max_steps): # no. of epochs\n",
        "  \n",
        "  # minibatch construct\n",
        "  ix = torch.randint(0, Xtr.shape[0], (batch_size,), generator=g)\n",
        "  Xb, Yb = Xtr[ix], Ytr[ix] # batch X,Y\n",
        "  \n",
        "  # forward pass\n",
        "  emb = C[Xb] # embed the characters into vectors\n",
        "  embcat = emb.view(emb.shape[0], -1) # concatenate the vectors\n",
        "  # Linear layer\n",
        "  hpreact = embcat @ W1 + b1 # hidden layer pre-activation\n",
        "\n",
        "  # Non-linearity\n",
        "  h = torch.tanh(hpreact) # hidden layer\n",
        "  logits = h @ W2 + b2 # output layer\n",
        "  loss = F.cross_entropy(logits, Yb) # loss function\n",
        "  \n",
        "  # backward pass\n",
        "  for p in parameters:\n",
        "    p.grad = None\n",
        "  loss.backward()\n",
        "  \n",
        "  # update\n",
        "  lr = 0.1 if i < 100000 else 0.01 # step learning rate decay\n",
        "  for p in parameters:\n",
        "    p.data += -lr * p.grad\n",
        "\n",
        "  # track stats\n",
        "  if i % 10000 == 0: # print every once in a while\n",
        "    print(f'{i:7d}/{max_steps:7d}: {loss.item():.4f}')\n",
        "  lossi.append(loss.log10().item())"
      ],
      "metadata": {
        "id": "Wkz_TBmPAVGD",
        "colab": {
          "base_uri": "https://localhost:8080/"
        },
        "outputId": "77a141d8-fd69-4638-ba29-03944cf061e3"
      },
      "execution_count": 34,
      "outputs": [
        {
          "output_type": "stream",
          "name": "stdout",
          "text": [
            "      0/ 200000: 3.3179\n",
            "  10000/ 200000: 2.1910\n",
            "  20000/ 200000: 2.3270\n",
            "  30000/ 200000: 2.5396\n",
            "  40000/ 200000: 1.9468\n",
            "  50000/ 200000: 2.3331\n",
            "  60000/ 200000: 2.3852\n",
            "  70000/ 200000: 2.1173\n",
            "  80000/ 200000: 2.3159\n",
            "  90000/ 200000: 2.2010\n",
            " 100000/ 200000: 1.8591\n",
            " 110000/ 200000: 2.0881\n",
            " 120000/ 200000: 1.9389\n",
            " 130000/ 200000: 2.3913\n",
            " 140000/ 200000: 2.0949\n",
            " 150000/ 200000: 2.1458\n",
            " 160000/ 200000: 1.7824\n",
            " 170000/ 200000: 1.7249\n",
            " 180000/ 200000: 1.9752\n",
            " 190000/ 200000: 1.8614\n"
          ]
        }
      ]
    },
    {
      "cell_type": "code",
      "source": [
        "plt.figure(figsize=(20,10))\n",
        "plt.imshow(h.abs() > 0.99, cmap='gray', interpolation='nearest') # asking how many values of h are above 0.99 and it shows a boolean figure,"
      ],
      "metadata": {
        "id": "G9xy7l5hAVRP",
        "colab": {
          "base_uri": "https://localhost:8080/",
          "height": 277
        },
        "outputId": "df9a1491-7bf0-4c17-95c7-df3329a4bcfe"
      },
      "execution_count": 35,
      "outputs": [
        {
          "output_type": "execute_result",
          "data": {
            "text/plain": [
              "<matplotlib.image.AxesImage at 0x7f2d21d1ba00>"
            ]
          },
          "metadata": {},
          "execution_count": 35
        },
        {
          "output_type": "display_data",
          "data": {
            "text/plain": [
              "<Figure size 2000x1000 with 1 Axes>"
            ],
            "image/png": "[encoded data removed]"
          },
          "metadata": {}
        }
      ]
    },
    {
      "cell_type": "code",
      "source": [
        "plt.plot(lossi)"
      ],
      "metadata": {
        "id": "4FsW-Mp3AVZt",
        "colab": {
          "base_uri": "https://localhost:8080/",
          "height": 448
        },
        "outputId": "e3da0e64-cb58-40fd-9cff-877331dcad2c"
      },
      "execution_count": 36,
      "outputs": [
        {
          "output_type": "execute_result",
          "data": {
            "text/plain": [
              "[<matplotlib.lines.Line2D at 0x7f2d1fc34370>]"
            ]
          },
          "metadata": {},
          "execution_count": 36
        },
        {
          "output_type": "display_data",
          "data": {
            "text/plain": [
              "<Figure size 640x480 with 1 Axes>"
            ],
            "image/png": "[encoded data removed]"
          },
          "metadata": {}
        }
      ]
    },
    {
      "cell_type": "code",
      "source": [
        "plt.hist(h.view(-1).tolist(), 50)"
      ],
      "metadata": {
        "id": "Qli44s9nBiRQ",
        "colab": {
          "base_uri": "https://localhost:8080/",
          "height": 787
        },
        "outputId": "1a377d8d-28d6-410f-86ff-48d70eeeab54"
      },
      "execution_count": 37,
      "outputs": [
        {
          "output_type": "execute_result",
          "data": {
            "text/plain": [
              "(array([1059.,  229.,  163.,  142.,   95.,   83.,   67.,   63.,   57.,\n",
              "          65.,   76.,   51.,   69.,   65.,   85.,   91.,   75.,   53.,\n",
              "          62.,   76.,   70.,  100.,  117.,   91.,  110.,  125.,  104.,\n",
              "          72.,  108.,   70.,   62.,   62.,   65.,   64.,   54.,   58.,\n",
              "          65.,   62.,   53.,   53.,   53.,   66.,   67.,   81.,   93.,\n",
              "         101.,  116.,  179.,  231., 1122.]),\n",
              " array([-9.99999940e-01, -9.59999942e-01, -9.19999943e-01, -8.79999944e-01,\n",
              "        -8.39999945e-01, -7.99999946e-01, -7.59999948e-01, -7.19999949e-01,\n",
              "        -6.79999950e-01, -6.39999951e-01, -5.99999952e-01, -5.59999954e-01,\n",
              "        -5.19999955e-01, -4.79999956e-01, -4.39999957e-01, -3.99999958e-01,\n",
              "        -3.59999959e-01, -3.19999961e-01, -2.79999962e-01, -2.39999963e-01,\n",
              "        -1.99999964e-01, -1.59999965e-01, -1.19999967e-01, -7.99999678e-02,\n",
              "        -3.99999690e-02,  2.98023224e-08,  4.00000286e-02,  8.00000274e-02,\n",
              "         1.20000026e-01,  1.60000025e-01,  2.00000024e-01,  2.40000023e-01,\n",
              "         2.80000021e-01,  3.20000020e-01,  3.60000019e-01,  4.00000018e-01,\n",
              "         4.40000017e-01,  4.80000015e-01,  5.20000014e-01,  5.60000013e-01,\n",
              "         6.00000012e-01,  6.40000011e-01,  6.80000010e-01,  7.20000008e-01,\n",
              "         7.60000007e-01,  8.00000006e-01,  8.40000005e-01,  8.80000004e-01,\n",
              "         9.20000002e-01,  9.60000001e-01,  1.00000000e+00]),\n",
              " <BarContainer object of 50 artists>)"
            ]
          },
          "metadata": {},
          "execution_count": 37
        },
        {
          "output_type": "display_data",
          "data": {
            "text/plain": [
              "<Figure size 640x480 with 1 Axes>"
            ],
            "image/png": "[encoded data removed]"
          },
          "metadata": {}
        }
      ]
    },
    {
      "cell_type": "code",
      "source": [
        "plt.hist(hpreact.view(-1).tolist(), 50) # 50 here is, 50 pins."
      ],
      "metadata": {
        "id": "S9gxvO3bAVwL",
        "colab": {
          "base_uri": "https://localhost:8080/",
          "height": 734
        },
        "outputId": "05d25501-6f54-4900-b40a-f3d4881c9704"
      },
      "execution_count": 38,
      "outputs": [
        {
          "output_type": "execute_result",
          "data": {
            "text/plain": [
              "(array([  4.,   3.,   0.,   6.,   4.,   8.,   9.,  14.,  32.,  30.,  39.,\n",
              "         69.,  68.,  73., 124., 156., 164., 192., 232., 291., 318., 369.,\n",
              "        630., 891., 491., 340., 310., 299., 224., 221., 173., 124., 112.,\n",
              "         92.,  67.,  43.,  49.,  31.,  34.,  21.,  17.,   8.,   3.,   4.,\n",
              "          5.,   1.,   1.,   1.,   2.,   1.]),\n",
              " array([-8.91671085, -8.53556993, -8.15442902, -7.7732881 , -7.39214718,\n",
              "        -7.01100626, -6.62986534, -6.24872442, -5.8675835 , -5.48644258,\n",
              "        -5.10530167, -4.72416075, -4.34301983, -3.96187891, -3.58073799,\n",
              "        -3.19959707, -2.81845615, -2.43731524, -2.05617432, -1.6750334 ,\n",
              "        -1.29389248, -0.91275156, -0.53161064, -0.15046972,  0.2306712 ,\n",
              "         0.61181211,  0.99295303,  1.37409395,  1.75523487,  2.13637579,\n",
              "         2.51751671,  2.89865763,  3.27979855,  3.66093946,  4.04208038,\n",
              "         4.4232213 ,  4.80436222,  5.18550314,  5.56664406,  5.94778498,\n",
              "         6.3289259 ,  6.71006681,  7.09120773,  7.47234865,  7.85348957,\n",
              "         8.23463049,  8.61577141,  8.99691233,  9.37805325,  9.75919416,\n",
              "        10.14033508]),\n",
              " <BarContainer object of 50 artists>)"
            ]
          },
          "metadata": {},
          "execution_count": 38
        },
        {
          "output_type": "display_data",
          "data": {
            "text/plain": [
              "<Figure size 640x480 with 1 Axes>"
            ],
            "image/png": "[encoded data removed]"
          },
          "metadata": {}
        }
      ]
    },
    {
      "cell_type": "code",
      "source": [
        "@torch.no_grad() # this decorator disables gradient tracking\n",
        "def split_loss(split):\n",
        "  x,y = {\n",
        "    'train': (Xtr, Ytr),\n",
        "    'val': (Xdev, Ydev),\n",
        "    'test': (Xte, Yte),\n",
        "  }[split]\n",
        "  emb = C[x] # (N, block_size, n_embd)\n",
        "  embcat = emb.view(emb.shape[0], -1) # concat into (N, block_size * n_embd)\n",
        "  hpreact = embcat @ W1 + b1\n",
        "  h = torch.tanh(hpreact) # (N, n_hidden)\n",
        "  logits = h @ W2 + b2 # (N, vocab_size)\n",
        "  loss = F.cross_entropy(logits, y)\n",
        "  print(split, loss.item())\n",
        "\n",
        "split_loss('train')\n",
        "split_loss('val')"
      ],
      "metadata": {
        "id": "DCTUxxIRAWGE",
        "colab": {
          "base_uri": "https://localhost:8080/"
        },
        "outputId": "d6fd18b8-29c6-40b1-a5e0-aa5f90a8c70d"
      },
      "execution_count": 39,
      "outputs": [
        {
          "output_type": "stream",
          "name": "stdout",
          "text": [
            "train 2.0376641750335693\n",
            "val 2.106989622116089\n"
          ]
        }
      ]
    },
    {
      "cell_type": "markdown",
      "source": [
        "* `SO OUR MODEL TRAINED LIKE THIS`:\n",
        "\n",
        "* loss log\n",
        "\n",
        "* `original`:\n",
        "  * train 2.1245384216308594\n",
        "  * val   2.168196439743042\n",
        "\n",
        "* `fix softmax confidently wrong`:\n",
        "  * train 2.07\n",
        "  * val   2.13\n",
        "\n",
        "* `fix tanh layer too saturated at init`:\n",
        "  * train 2.0355966091156006\n",
        "  * val   2.1026785373687744\n",
        "\n",
        "* `use semi-principled \"kaiming init\" instead of hacky init`:\n",
        "  * train 2.0376641750335693\n",
        "  * val   2.106989622116089\n",
        "\n",
        "* `add batch norm layer`\n",
        "  * train 2.0668270587921143\n",
        "  * val 2.104844808578491"
      ],
      "metadata": {
        "id": "immOo1mxBQDI"
      }
    },
    {
      "cell_type": "code",
      "source": [
        "# sample from the model\n",
        "g = torch.Generator().manual_seed(2147483647 + 10)\n",
        "\n",
        "for _ in range(20):\n",
        "    \n",
        "    out = []\n",
        "    context = [0] * block_size # initialize with all ...\n",
        "    while True:\n",
        "      # forward pass the neural net\n",
        "      emb = C[torch.tensor([context])] # (1,block_size,n_embd)\n",
        "      h = torch.tanh(emb.view(1, -1) @ W1 + b1)\n",
        "      logits = h @ W2 + b2\n",
        "      probs = F.softmax(logits, dim=1)\n",
        "      # sample from the distribution\n",
        "      ix = torch.multinomial(probs, num_samples=1, generator=g).item()\n",
        "      # shift the context window and track the samples\n",
        "      context = context[1:] + [ix]\n",
        "      out.append(ix)\n",
        "      # if we sample the special '.' token, break\n",
        "      if ix == 0:\n",
        "        break\n",
        "\n",
        "    print(''.join(itos[i] for i in out)) # decode and print the generated word"
      ],
      "metadata": {
        "id": "Zamm5xLSJz45",
        "colab": {
          "base_uri": "https://localhost:8080/"
        },
        "outputId": "abce5d56-1324-4bea-8532-d22f550cee37"
      },
      "execution_count": 40,
      "outputs": [
        {
          "output_type": "stream",
          "name": "stdout",
          "text": [
            "carmahzaylyn.\n",
            "kiffinleige.\n",
            "tyrencessa.\n",
            "jazon.\n",
            "nadelynn.\n",
            "jareei.\n",
            "nellara.\n",
            "chaiivan.\n",
            "legyn.\n",
            "ham.\n",
            "joce.\n",
            "quint.\n",
            "salin.\n",
            "alianni.\n",
            "waveron.\n",
            "jaryxin.\n",
            "kaellissa.\n",
            "med.\n",
            "edi.\n",
            "abette.\n"
          ]
        }
      ]
    },
    {
      "cell_type": "code",
      "source": [
        "# 4-dimensional example\n",
        "logits = torch.tensor([0.0, 0.0, 0.0 ,0.0])\n",
        "probs1 = torch.softmax(logits, dim=0)\n",
        "probs1"
      ],
      "metadata": {
        "id": "M_YOgHVtLT4s",
        "colab": {
          "base_uri": "https://localhost:8080/"
        },
        "outputId": "33f9b45f-8859-467a-cca1-3e9c9030cbac"
      },
      "execution_count": 41,
      "outputs": [
        {
          "output_type": "execute_result",
          "data": {
            "text/plain": [
              "tensor([0.2500, 0.2500, 0.2500, 0.2500])"
            ]
          },
          "metadata": {},
          "execution_count": 41
        }
      ]
    },
    {
      "cell_type": "markdown",
      "source": [
        "## BATCH NORMALIZATION"
      ],
      "metadata": {
        "id": "8AhvhlezwtOB"
      }
    },
    {
      "cell_type": "markdown",
      "source": [
        "* Given by the team at google in 2015 and it was an extremely impactful paper. It made it possible to train deep neural nets quite reliably."
      ],
      "metadata": {
        "id": "rX6yE5uWdZM9"
      }
    },
    {
      "cell_type": "markdown",
      "source": [
        "* Paper says that, you have these `hidden layers before giving non-linearity`,  you'd like them to be roughly `gaussian` then why not `take the hidden states and just normalize them to be gaussian`."
      ],
      "metadata": {
        "id": "kQ70CBibtTV9"
      }
    },
    {
      "cell_type": "markdown",
      "source": [
        "* `REASON OF DOING BATCH NORMALIZATION:`\n",
        "  * Idea here is we're trying to make `hpreact` roughly gaussian and that's because during `initialization` if these are way too small numbers then the `tanh` is kind of connective.\n",
        "  * But during `initialization` if these are very large numbers then the `tanh` is way too `saturated` and gradient is in the `flow`."
      ],
      "metadata": {
        "id": "En0Aawm4t-Ds"
      }
    },
    {
      "cell_type": "code",
      "source": [
        "hpreact.shape"
      ],
      "metadata": {
        "id": "oyk84CvQvY3e",
        "colab": {
          "base_uri": "https://localhost:8080/"
        },
        "outputId": "489d0bd6-61a1-4985-926a-02fa8bebf2d1"
      },
      "execution_count": 42,
      "outputs": [
        {
          "output_type": "execute_result",
          "data": {
            "text/plain": [
              "torch.Size([32, 200])"
            ]
          },
          "metadata": {},
          "execution_count": 42
        }
      ]
    },
    {
      "cell_type": "code",
      "source": [
        "hpreact.mean(0, keepdim=True).shape # 0 means along 0 dimension, mean is calculated"
      ],
      "metadata": {
        "id": "U4C4v2pgviRh",
        "colab": {
          "base_uri": "https://localhost:8080/"
        },
        "outputId": "8e671af1-cfbc-424a-e67e-dc087130100a"
      },
      "execution_count": 43,
      "outputs": [
        {
          "output_type": "execute_result",
          "data": {
            "text/plain": [
              "torch.Size([1, 200])"
            ]
          },
          "metadata": {},
          "execution_count": 43
        }
      ]
    },
    {
      "cell_type": "code",
      "source": [
        "hpreact.std(0, keepdim=True).shape # 0 means along 0 dimension, standard deviation is calculated\n",
        "# keepdim = False will remove that particular dimension"
      ],
      "metadata": {
        "id": "5LGljzBewKId",
        "colab": {
          "base_uri": "https://localhost:8080/"
        },
        "outputId": "f529b64b-35f7-4997-948f-b6bd6cd43829"
      },
      "execution_count": 44,
      "outputs": [
        {
          "output_type": "execute_result",
          "data": {
            "text/plain": [
              "torch.Size([1, 200])"
            ]
          },
          "metadata": {},
          "execution_count": 44
        }
      ]
    },
    {
      "cell_type": "markdown",
      "source": [
        "Now according to Batch Normalization, we can change `hpreact` as:\n",
        "\n",
        "  * `hpreact = (hpreact - hpreact.mean(0, keepdim=True)) / hpreact.std(0, keepdim=True)`.\n",
        "  * But we won't achieve a very good result from this, we want these `roughly to be gaussian but only at initialization` but we don't want these to be forced to be gaussian always.\n",
        "\n",
        "  * So we will also introduce `scale and shift` to fix this issue:\n",
        "    * we're taking these normalized inputs and we are additionally scaling them by some `gain` and offsetting them by some bias to get our final output from this layer."
      ],
      "metadata": {
        "id": "TSD5n-MXwY1d"
      }
    },
    {
      "cell_type": "code",
      "source": [
        "# MLP revisited\n",
        "n_embd = 10 # the dimensionality of the character embedding vectors\n",
        "n_hidden = 200 # the number of neurons in the hidden layer of the MLP\n",
        "\n",
        "g = torch.Generator().manual_seed(2147483647) # for reproducibility\n",
        "C  = torch.randn((vocab_size, n_embd),            generator=g)\n",
        "W1 = torch.randn((n_embd * block_size, n_hidden), generator=g) * (5/3) / ((n_embd * block_size)**0.5)   #* 0.2 # 5/3 is for tanh\n",
        "# b1 = torch.randn(n_hidden,                        generator=g) * 0.01\n",
        "W2 = torch.randn((n_hidden, vocab_size),          generator=g) * 0.01\n",
        "b2 = torch.randn(vocab_size,                      generator=g) * 0\n",
        "\n",
        "bngain = torch.ones((1, n_hidden))\n",
        "bnbias = torch.zeros((1, n_hidden))\n",
        "# allowing batch normalization gain to be initialized at just ones, ones will be in the shape of 1 by n hidden.\n",
        "# we will also have bias which will be torched at zeros, it will also be of shape n by 1\n",
        "\n",
        "bnmean_running = torch.zeros((1, n_hidden)) # not part of gradient based optimization.\n",
        "bnstd_running = torch.ones((1, n_hidden)) # not part of gradient based optimization.\n",
        "\n",
        "parameters = [C, W1, W2, b2, bngain, bnbias] # adding new parameters - bngain and bnbias.\n",
        "print(sum(p.nelement() for p in parameters)) # number of parameters in total\n",
        "for p in parameters:\n",
        "  p.requires_grad = True"
      ],
      "metadata": {
        "id": "A8Es5UU-y6R5",
        "colab": {
          "base_uri": "https://localhost:8080/"
        },
        "outputId": "60e9aeca-bedf-42f9-a300-8bc346d38c95"
      },
      "execution_count": 61,
      "outputs": [
        {
          "output_type": "stream",
          "name": "stdout",
          "text": [
            "12097\n"
          ]
        }
      ]
    },
    {
      "cell_type": "markdown",
      "source": [
        "* after `hpreact` is normalized, also multiply and add, `bngain` and `bnbias` to it."
      ],
      "metadata": {
        "id": "E6hvXfdUDPhn"
      }
    },
    {
      "cell_type": "markdown",
      "source": [
        "Now, at initialization each neuron's firing values in this batch will be exactly `unit gaussian` and we'll have nice numbers, no matter what the distribution of the `hpreact` is `coming in`/ `coming out`, it will be in `gaussian` for each neuron and that's what we roughly want at least at initialization.\n",
        "\n",
        "During optimization, we will be able to back propagate to be in game and being biased and change them so the network is given the full ability to do with this whatever it wants, internally."
      ],
      "metadata": {
        "id": "jguoHt8UER15"
      }
    },
    {
      "cell_type": "code",
      "source": [
        "# same optimization as last time\n",
        "max_steps = 200000\n",
        "batch_size = 32\n",
        "lossi = []\n",
        "\n",
        "for i in range(max_steps): # no. of epochs\n",
        "  \n",
        "  # minibatch construct\n",
        "  ix = torch.randint(0, Xtr.shape[0], (batch_size,), generator=g)\n",
        "  Xb, Yb = Xtr[ix], Ytr[ix] # batch X,Y\n",
        "  \n",
        "  # forward pass\n",
        "  emb = C[Xb] # embed the characters into vectors\n",
        "  embcat = emb.view(emb.shape[0], -1) # concatenate the vectors\n",
        "  # Linear layer\n",
        "  hpreact = embcat @ W1 #+ b1 # hidden layer pre-activation # no use of bias b1 due to modified hpreact.\n",
        "  bnmeani = hpreact.mean(0, keepdim=True)\n",
        "  bnstdi = hpreact.std(0, keepdim=True)\n",
        "  hpreact = bngain * (hpreact - bnmeani) / bnstdi + bnbias # batch Normalization\n",
        "\n",
        "  with torch.no_grad():\n",
        "    bnmean_running = 0.999 * bnmean_running + 0.001 * bnmeani\n",
        "    bnstd_running = 0.999 * bnstd_running + 0.001 * bnstdi \n",
        "\n",
        "  # Non-linearity\n",
        "  h = torch.tanh(hpreact) # hidden layer\n",
        "  logits = h @ W2 + b2 # output layer\n",
        "  loss = F.cross_entropy(logits, Yb) # loss function\n",
        "  \n",
        "  # backward pass\n",
        "  for p in parameters:\n",
        "    p.grad = None\n",
        "  loss.backward()\n",
        "  \n",
        "  # update\n",
        "  lr = 0.1 if i < 100000 else 0.01 # step learning rate decay\n",
        "  for p in parameters:\n",
        "    p.data += -lr * p.grad\n",
        "\n",
        "  # track stats\n",
        "  if i % 10000 == 0: # print every once in a while\n",
        "    print(f'{i:7d}/{max_steps:7d}: {loss.item():.4f}')\n",
        "  lossi.append(loss.log10().item())\n"
      ],
      "metadata": {
        "id": "BGMtYBmPujFc",
        "colab": {
          "base_uri": "https://localhost:8080/"
        },
        "outputId": "5bc803a6-36fd-4ded-d3dd-6805262040ad"
      },
      "execution_count": 62,
      "outputs": [
        {
          "output_type": "stream",
          "name": "stdout",
          "text": [
            "      0/ 200000: 3.3239\n",
            "  10000/ 200000: 2.0322\n",
            "  20000/ 200000: 2.5675\n",
            "  30000/ 200000: 2.0125\n",
            "  40000/ 200000: 2.2446\n",
            "  50000/ 200000: 1.8897\n",
            "  60000/ 200000: 2.0785\n",
            "  70000/ 200000: 2.3681\n",
            "  80000/ 200000: 2.2918\n",
            "  90000/ 200000: 2.0238\n",
            " 100000/ 200000: 2.3673\n",
            " 110000/ 200000: 2.3132\n",
            " 120000/ 200000: 1.6414\n",
            " 130000/ 200000: 1.9311\n",
            " 140000/ 200000: 2.2231\n",
            " 150000/ 200000: 2.0027\n",
            " 160000/ 200000: 2.0997\n",
            " 170000/ 200000: 2.4949\n",
            " 180000/ 200000: 2.0199\n",
            " 190000/ 200000: 2.1707\n"
          ]
        }
      ]
    },
    {
      "cell_type": "code",
      "source": [
        "plt.plot(lossi)"
      ],
      "metadata": {
        "id": "82faMDjnvIxb",
        "colab": {
          "base_uri": "https://localhost:8080/",
          "height": 448
        },
        "outputId": "cc62d9c2-fe1f-4654-8c4b-9e59e6f3cb8d"
      },
      "execution_count": 63,
      "outputs": [
        {
          "output_type": "execute_result",
          "data": {
            "text/plain": [
              "[<matplotlib.lines.Line2D at 0x7f2d21697490>]"
            ]
          },
          "metadata": {},
          "execution_count": 63
        },
        {
          "output_type": "display_data",
          "data": {
            "text/plain": [
              "<Figure size 640x480 with 1 Axes>"
            ],
            "image/png": "[encoded data removed]"
          },
          "metadata": {}
        }
      ]
    },
    {
      "cell_type": "markdown",
      "source": [
        "* To calculate a single input example from the model, we perform a one more step after training,"
      ],
      "metadata": {
        "id": "yEiP8qm0HYbs"
      }
    },
    {
      "cell_type": "code",
      "source": [
        "# calibrate the batch norm at the end of training\n",
        "\n",
        "with torch.no_grad():\n",
        "  # pass the training set through\n",
        "  emb = C[Xtr] # we take the training set\n",
        "  embcat = emb.view(emb.shape[0], -1)\n",
        "  hpreact = embcat @ W1 #+ b1 # get the pre-activations for every single training example.\n",
        "  # measure the mean/std over the entire training set\n",
        "  bnmean = hpreact.mean(0, keepdim=True)\n",
        "  bnstd = hpreact.std(0, keepdim=True)\n",
        "  # and now these are fixed numbers as the meaning of the entire training set."
      ],
      "metadata": {
        "id": "MIrRRfPgHpny"
      },
      "execution_count": 64,
      "outputs": []
    },
    {
      "cell_type": "markdown",
      "source": [
        "`NOTE:` To remove above code block, `bnmean_running` and `bnstd_running`, are used during training."
      ],
      "metadata": {
        "id": "qPa_wWdDLsvB"
      }
    },
    {
      "cell_type": "code",
      "source": [
        "@torch.no_grad() # this decorator disables gradient tracking\n",
        "def split_loss(split):\n",
        "  x,y = {\n",
        "    'train': (Xtr, Ytr),\n",
        "    'val': (Xdev, Ydev),\n",
        "    'test': (Xte, Yte),\n",
        "  }[split]\n",
        "  emb = C[x] # (N, block_size, n_embd)\n",
        "  embcat = emb.view(emb.shape[0], -1) # concat into (N, block_size * n_embd)\n",
        "  hpreact = embcat @ W1 #+ b1 # no use of bias due to subtraction in modified hpreact.\n",
        "  # hpreact = bngain * (hpreact - hpreact.mean(0, keepdim=True)) / hpreact.std(0, keepdim=True) + bnbias # single examples not possible. \n",
        "  # hpreact = bngain + (hpreact - bnmean) / bnstd + bnbias # (with above code block)\n",
        "  hpreact = bngain + (hpreact - bnmean_running) / bnstd_running + bnbias # (without above code)\n",
        "  # So this time we are going to fix this clamp them and use them during  inference\n",
        "  h = torch.tanh(hpreact) # (N, n_hidden)\n",
        "  logits = h @ W2 + b2 # (N, vocab_size)\n",
        "  loss = F.cross_entropy(logits, y)\n",
        "  print(split, loss.item())\n",
        "\n",
        "split_loss('train')\n",
        "split_loss('val')"
      ],
      "metadata": {
        "id": "IkaD4JATHPGj",
        "colab": {
          "base_uri": "https://localhost:8080/"
        },
        "outputId": "1d224634-f137-4ac1-c746-14a6a58a32ad"
      },
      "execution_count": 65,
      "outputs": [
        {
          "output_type": "stream",
          "name": "stdout",
          "text": [
            "train 5.8622894287109375\n",
            "val 5.8664703369140625\n"
          ]
        }
      ]
    },
    {
      "cell_type": "markdown",
      "source": [
        "we get the same result after using `bnmean` and `bnstd`, but benefit is , `we can now also forward a single example` because mean and standard deviation are now fixed.\n",
        "\n",
        "but nobody wants to use them as second stage, because everyone is lazy, so batch normalization gives one more idea, we can estimate mean and standard deviation in a `running manner` during training of the neural net, then we have single stage of training, and on the side of training we are estimating the running mean and standard deviation."
      ],
      "metadata": {
        "id": "2rQya_oOJHdM"
      }
    },
    {
      "cell_type": "markdown",
      "source": [
        "* we also add a `ε` in denominator, which is designated very small value, such that, `if some how std gets zero, it will save denominator from getting zero.`"
      ],
      "metadata": {
        "id": "F9iZhkGGO9ys"
      }
    },
    {
      "cell_type": "markdown",
      "source": [
        "#### `SO OUR MODEL TRAINED LIKE THIS`:\n",
        "\n",
        "* loss log\n",
        "\n",
        "* `original`:\n",
        "  * train 2.1245384216308594\n",
        "  * val   2.168196439743042\n",
        "\n",
        "* `fix softmax confidently wrong`:\n",
        "  * train 2.07\n",
        "  * val   2.13\n",
        "\n",
        "* `fix tanh layer too saturated at init`:\n",
        "  * train 2.0355966091156006\n",
        "  * val   2.1026785373687744\n",
        "\n",
        "* `use semi-principled \"kaiming init\" instead of hacky init`:\n",
        "  * train 2.0376641750335693\n",
        "  * val   2.106989622116089\n",
        "\n",
        "* `add batch norm layer`\n",
        "  * train 2.0668270587921143\n",
        "  * val 2.104844808578491\n",
        "\n",
        "* `add a batch norm layer`\n",
        "  * train 2.0668270587921143\n",
        "  * val 2.104844808578491"
      ],
      "metadata": {
        "id": "QDKAQq6bH5SA"
      }
    },
    {
      "cell_type": "markdown",
      "source": [
        "![Screenshot 2023-04-01 at 8.25.58 PM.png](data:image/png;base64,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)"
      ],
      "metadata": {
        "id": "12kb5d3UUim1"
      }
    },
    {
      "cell_type": "markdown",
      "source": [
        "#### `BATCH NORMALIZATION:`\n",
        "\n",
        "* We don't want to just randomly initialize our parameters (weights & biases), because it can result into `Dead Neurons`. `(Some values of parameters get initialized such that, there is no effect of back propagation on that neurons, gradient remains zero all the time, already at the start.)`\n",
        "* So, before doing batch normalization, we scaled our weights and biases so our inputs and outputs remain roughly gaussian of same mean and standard deviation, such as by using `kaiming init`, and so they don't become dead neurons.\n",
        "* But in practice, we will not have only one hidden layer, that is, we will have multiple hidden layers, and `then scaling all the weights and biases like this will not be efficient and easily possible`, so `this method of initialization is depricated.`\n",
        "\n",
        "=> That's where the idea comes of `batch normalization`.\n",
        "\n",
        "* It says that, rather than making all the weights & biases normalized, let's `simply normalize our hidden layer's values`, before giving these values into `activation functions`, because than, not all the hidden layer neuron's gradient will become `zero` on back prop, and `our model will remain optimum`.\n",
        "  * before giving values to activation function, Our hidden layer values are:\n",
        "    * `hpreact = embcat @ W1 + b1`\n",
        "    * So batch normalize (providing gaussian distribution) it by this, `hpreact = (hpreact - hpreact.mean(0, keepdim=True)) / hpreact.std(0, keepdim=True)`\n",
        "    * Now, Note that, we want to `normalize them only during initialization`, that is we want our neural net's values to tune themselves accordingly to different examples, using back propagation, and we don't want them to standard normalized all the time,\n",
        "    * we can do this by introducing `gain: bngain` and `shift: bnbias` which will provide some increase in values of gausian distribution (using gain) and shift accordingly (using bias), using back prop.\n",
        "    * `hpreact = bngain * (hpreact - hpreact.mean(0, keepdim=True)) / hpreact.std(0, keepdim=True) + bnbias`, and now bngain and bnbias are also parameters, which will be calculated using backpropagation.\n",
        "\n",
        "* Now stability of back propagation, comes with a terrible cost, that cost is , if you think deeply, you realize we are using all the examples in a batch to do batch normalization, but in practice, during prediction, we give one example as input to predict our output, then how our model will work, if we are giving only single example.\n",
        "  * So, our h is a function of all the examples in a batch, so when we provide a input, h is going to change subtly and it's going to like jitter, if imagine sampling different examples because the statistics of mean and std are going to be impacted.\n",
        "  * So, you get jitter for h and you'll get jitter for logits.\n",
        "  * Now, it looks like a `bug`, something undesirable, but in a very strange way this actually turns out to be `good` in neural network training and `as a side effect`, reason it to be good is that, \n",
        "  * You can think of this as a `regularizer`, you have your input and you get h, and then depending on the other examples, this h is generating a bit and so what that does is, it's effectively padding out any one of these input examples and it's introducing little bit of `entropy`. and because of it padding out, it's actually kind of like a form of data augmentation, makes it harder for the neural nets to overfit to these concrete specific examples, so by introducing all these noise it actually pads out the examples and it regularizes the neural net and that's one of the reasons why this is deceivingly as a second order effect, This batch normalization also acts like a `regularizer`.\n",
        "\n",
        "\n",
        "* But it gives a lot of bugs, so people liked to move different normalizations, such as layer normalization, instance normalization, group normalization and so on. "
      ],
      "metadata": {
        "id": "v-58EwrF7NFV"
      }
    },
    {
      "cell_type": "markdown",
      "source": [
        "`NOTE:` Clearly, you can see in `hpreact` due to subtraction, bias `b1` is useless, so don't use them."
      ],
      "metadata": {
        "id": "pDJHsEocHV0g"
      }
    },
    {
      "cell_type": "markdown",
      "source": [
        "* `FOR A NOTE`,  Something same is happening in the `resnet50` in `CNN`, `convolution => batch normalization => relu activation`."
      ],
      "metadata": {
        "id": "41l86B1JTAaR"
      }
    },
    {
      "cell_type": "markdown",
      "source": [
        "* `In Pytorch we use above batch normalization as:`\n",
        "  * `torch.nn.BatchNorm1d(num_features, eps=1e-05), momentum=0.1, affline=True, track_running_stats=True, device=None, dtype=None)`\n",
        "    * `num_features:` here it is 200.\n",
        "    * `eps:` value of epsilon `ε`\n",
        "    * `momentum:` `0.001` used in bnmean_running and bnstd_running, during training.\n",
        "    * `affline:` whether this batch normalization has `bngain` and `bnbias` or not. \n",
        "    * `track_running_stats:` determining whether or not bachelorization layer of pytorch will be doing this `bnmean_running and bnstd_running`.\n",
        "    * `device:` On which device we are going to run, CPU or GPU or TPU.\n",
        "    * `dtype:` what data type should it have, Half-precision, single-precision, double-precision and so on."
      ],
      "metadata": {
        "id": "ZMGZ90I0TTRS"
      }
    },
    {
      "cell_type": "markdown",
      "source": [
        "* Just Remember, We removed `hockey stick graph` initially from loss curve, by giving `proper initialization`, because we don't want our model to waste its iterations on this wasteful loss decrease, and so want our model to provide better result, `more less loss` ."
      ],
      "metadata": {
        "id": "DzIe0JRSYKXX"
      }
    },
    {
      "cell_type": "markdown",
      "source": [
        "* Also, no one likes this `batch normalization layer` during training, it causes lot amount of bugs because it's coupling examples  in the foward pass of a neural net.\n",
        "\n",
        "* So try to avoid it as much as possible, some of the other alternatives of these layers are `group normalization`, `layer normalization`, etc."
      ],
      "metadata": {
        "id": "ORc0N4PuYx0C"
      }
    }
  ]
}