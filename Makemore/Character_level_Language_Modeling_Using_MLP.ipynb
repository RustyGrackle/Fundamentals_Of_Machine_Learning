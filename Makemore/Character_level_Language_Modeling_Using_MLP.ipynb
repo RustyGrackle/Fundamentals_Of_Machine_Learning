{
  "nbformat": 4,
  "nbformat_minor": 0,
  "metadata": {
    "colab": {
      "provenance": []
    },
    "kernelspec": {
      "name": "python3",
      "display_name": "Python 3"
    },
    "language_info": {
      "name": "python"
    }
  },
  "cells": [
    {
      "cell_type": "markdown",
      "source": [
        "* In previous Notebook, we had taken `2 characters` only as the context to build a Bigram model or the Neural Network, that result into `27*27 = 729` elements matrix."
      ],
      "metadata": {
        "id": "J5th9iYPPA-b"
      }
    },
    {
      "cell_type": "markdown",
      "source": [
        "* If we have used `3 characters`, It would have been `27*27*27=19,683` `(Trigram)`, so it is increasing exponentially, and so `to predict names` more efficiently, It will `become so tedious and computationally impossible` to make model with this approach."
      ],
      "metadata": {
        "id": "CJkXIV24Pz9v"
      }
    },
    {
      "cell_type": "markdown",
      "source": [
        "* So, Today, we will use `Multi-layer Perceptron Model` to `predict next character in the sequence`."
      ],
      "metadata": {
        "id": "xave2g4PQiVv"
      }
    },
    {
      "cell_type": "markdown",
      "source": [
        "* This `MLP Model` is based on <a href=\"https://www.jmlr.org/papers/volume3/bengio03a/bengio03a.pdf\">Bengio et al. 2003</a> Research Paper."
      ],
      "metadata": {
        "id": "M10-y6GBQ0lw"
      }
    },
    {
      "cell_type": "markdown",
      "source": [
        "# Multi-Layer Perceptron Model"
      ],
      "metadata": {
        "id": "xYdbOZyESFxs"
      }
    },
    {
      "cell_type": "code",
      "source": [
        "import torch\n",
        "import torch.nn.functional as F\n",
        "import matplotlib.pyplot as plt # for making figures\n",
        "%matplotlib inline"
      ],
      "metadata": {
        "id": "tpR8eeVra78Q"
      },
      "execution_count": 185,
      "outputs": []
    },
    {
      "cell_type": "code",
      "source": [
        "# download the names.txt file from github\n",
        "!wget https://raw.githubusercontent.com/karpathy/makemore/master/names.txt"
      ],
      "metadata": {
        "colab": {
          "base_uri": "https://localhost:8080/"
        },
        "id": "F433LffmbL0M",
        "outputId": "74b02880-dd95-4565-db2b-46df82e234f0"
      },
      "execution_count": 186,
      "outputs": [
        {
          "output_type": "stream",
          "name": "stdout",
          "text": [
            "--2023-03-26 08:12:41--  https://raw.githubusercontent.com/karpathy/makemore/master/names.txt\n",
            "Resolving raw.githubusercontent.com (raw.githubusercontent.com)... 185.199.108.133, 185.199.109.133, 185.199.111.133, ...\n",
            "Connecting to raw.githubusercontent.com (raw.githubusercontent.com)|185.199.108.133|:443... connected.\n",
            "HTTP request sent, awaiting response... 200 OK\n",
            "Length: 228145 (223K) [text/plain]\n",
            "Saving to: ‘names.txt.1’\n",
            "\n",
            "\rnames.txt.1           0%[                    ]       0  --.-KB/s               \rnames.txt.1         100%[===================>] 222.80K  --.-KB/s    in 0.02s   \n",
            "\n",
            "2023-03-26 08:12:41 (10.5 MB/s) - ‘names.txt.1’ saved [228145/228145]\n",
            "\n"
          ]
        }
      ]
    },
    {
      "cell_type": "code",
      "source": [
        "# read in all the words\n",
        "words = open('names.txt', 'r').read().splitlines()\n",
        "words[:8]"
      ],
      "metadata": {
        "colab": {
          "base_uri": "https://localhost:8080/"
        },
        "id": "zxlt320hbCKf",
        "outputId": "c59dcebd-86f4-4c6d-d51a-9b927c573c32"
      },
      "execution_count": 187,
      "outputs": [
        {
          "output_type": "execute_result",
          "data": {
            "text/plain": [
              "['emma', 'olivia', 'ava', 'isabella', 'sophia', 'charlotte', 'mia', 'amelia']"
            ]
          },
          "metadata": {},
          "execution_count": 187
        }
      ]
    },
    {
      "cell_type": "code",
      "source": [
        "len(words)"
      ],
      "metadata": {
        "colab": {
          "base_uri": "https://localhost:8080/"
        },
        "id": "LuaJ1ltwbPSd",
        "outputId": "fa755489-a713-4cdc-9b6f-039c8aa9e0a5"
      },
      "execution_count": 188,
      "outputs": [
        {
          "output_type": "execute_result",
          "data": {
            "text/plain": [
              "32033"
            ]
          },
          "metadata": {},
          "execution_count": 188
        }
      ]
    },
    {
      "cell_type": "code",
      "source": [
        "# build the vocabulary of characters and mappings to/from integers\n",
        "chars = sorted(list(set(''.join(words))))\n",
        "stoi = {s:i+1 for i,s in enumerate(chars)}\n",
        "stoi['.'] = 0\n",
        "itos = {i:s for s, i in stoi.items()}\n",
        "print(itos)"
      ],
      "metadata": {
        "colab": {
          "base_uri": "https://localhost:8080/"
        },
        "id": "f9LezwVGbRoI",
        "outputId": "03e2645d-a3f4-48bf-8636-6521dd3b691d"
      },
      "execution_count": 189,
      "outputs": [
        {
          "output_type": "stream",
          "name": "stdout",
          "text": [
            "{1: 'a', 2: 'b', 3: 'c', 4: 'd', 5: 'e', 6: 'f', 7: 'g', 8: 'h', 9: 'i', 10: 'j', 11: 'k', 12: 'l', 13: 'm', 14: 'n', 15: 'o', 16: 'p', 17: 'q', 18: 'r', 19: 's', 20: 't', 21: 'u', 22: 'v', 23: 'w', 24: 'x', 25: 'y', 26: 'z', 0: '.'}\n"
          ]
        }
      ]
    },
    {
      "cell_type": "markdown",
      "source": [
        "* Building our DataSet."
      ],
      "metadata": {
        "id": "vTana0jNgW9X"
      }
    },
    {
      "cell_type": "markdown",
      "source": [
        "#### Understanding our data set and neural network with 5 words"
      ],
      "metadata": {
        "id": "rab1PLTm0z3t"
      }
    },
    {
      "cell_type": "code",
      "source": [
        "# build the dataset\n",
        "block_size = 3 # context length: how many characters do we take to predict the next one?\n",
        "\n",
        "\n",
        "X, Y = [], []\n",
        "for w in words[:5]:\n",
        "\n",
        "  print(w)\n",
        "  context = [0] * block_size # [0, 0, 0] for block_size = 3\n",
        "  for ch in w + '.':\n",
        "    ix = stoi[ch]\n",
        "    X.append(context)\n",
        "    Y.append(ix)\n",
        "    print(''.join(itos[i] for i in context), '--->', itos[ix])\n",
        "    context = context[1:] + [ix] # crop and append\n",
        "\n",
        "X = torch.tensor(X)\n",
        "Y = torch.tensor(Y)"
      ],
      "metadata": {
        "colab": {
          "base_uri": "https://localhost:8080/"
        },
        "id": "AC_VStemgLSv",
        "outputId": "4483be07-47d0-43c9-fcd4-ff4f4994d2fe"
      },
      "execution_count": 190,
      "outputs": [
        {
          "output_type": "stream",
          "name": "stdout",
          "text": [
            "emma\n",
            "... ---> e\n",
            "..e ---> m\n",
            ".em ---> m\n",
            "emm ---> a\n",
            "mma ---> .\n",
            "olivia\n",
            "... ---> o\n",
            "..o ---> l\n",
            ".ol ---> i\n",
            "oli ---> v\n",
            "liv ---> i\n",
            "ivi ---> a\n",
            "via ---> .\n",
            "ava\n",
            "... ---> a\n",
            "..a ---> v\n",
            ".av ---> a\n",
            "ava ---> .\n",
            "isabella\n",
            "... ---> i\n",
            "..i ---> s\n",
            ".is ---> a\n",
            "isa ---> b\n",
            "sab ---> e\n",
            "abe ---> l\n",
            "bel ---> l\n",
            "ell ---> a\n",
            "lla ---> .\n",
            "sophia\n",
            "... ---> s\n",
            "..s ---> o\n",
            ".so ---> p\n",
            "sop ---> h\n",
            "oph ---> i\n",
            "phi ---> a\n",
            "hia ---> .\n"
          ]
        }
      ]
    },
    {
      "cell_type": "code",
      "source": [
        "X.shape, X.dtype, Y.shape, Y.dtype"
      ],
      "metadata": {
        "colab": {
          "base_uri": "https://localhost:8080/"
        },
        "id": "ocQm5imAjtsy",
        "outputId": "92b9c208-109b-42c6-de71-3677c678f4e8"
      },
      "execution_count": 191,
      "outputs": [
        {
          "output_type": "execute_result",
          "data": {
            "text/plain": [
              "(torch.Size([32, 3]), torch.int64, torch.Size([32]), torch.int64)"
            ]
          },
          "metadata": {},
          "execution_count": 191
        }
      ]
    },
    {
      "cell_type": "code",
      "source": [
        "X"
      ],
      "metadata": {
        "colab": {
          "base_uri": "https://localhost:8080/"
        },
        "id": "3Pi_mMQUj2ko",
        "outputId": "b1a100d2-a4ef-4e6e-be77-0067d88fffba"
      },
      "execution_count": 192,
      "outputs": [
        {
          "output_type": "execute_result",
          "data": {
            "text/plain": [
              "tensor([[ 0,  0,  0],\n",
              "        [ 0,  0,  5],\n",
              "        [ 0,  5, 13],\n",
              "        [ 5, 13, 13],\n",
              "        [13, 13,  1],\n",
              "        [ 0,  0,  0],\n",
              "        [ 0,  0, 15],\n",
              "        [ 0, 15, 12],\n",
              "        [15, 12,  9],\n",
              "        [12,  9, 22],\n",
              "        [ 9, 22,  9],\n",
              "        [22,  9,  1],\n",
              "        [ 0,  0,  0],\n",
              "        [ 0,  0,  1],\n",
              "        [ 0,  1, 22],\n",
              "        [ 1, 22,  1],\n",
              "        [ 0,  0,  0],\n",
              "        [ 0,  0,  9],\n",
              "        [ 0,  9, 19],\n",
              "        [ 9, 19,  1],\n",
              "        [19,  1,  2],\n",
              "        [ 1,  2,  5],\n",
              "        [ 2,  5, 12],\n",
              "        [ 5, 12, 12],\n",
              "        [12, 12,  1],\n",
              "        [ 0,  0,  0],\n",
              "        [ 0,  0, 19],\n",
              "        [ 0, 19, 15],\n",
              "        [19, 15, 16],\n",
              "        [15, 16,  8],\n",
              "        [16,  8,  9],\n",
              "        [ 8,  9,  1]])"
            ]
          },
          "metadata": {},
          "execution_count": 192
        }
      ]
    },
    {
      "cell_type": "code",
      "source": [
        "Y\n"
      ],
      "metadata": {
        "colab": {
          "base_uri": "https://localhost:8080/"
        },
        "id": "pEcnbGxmj4xx",
        "outputId": "52063faf-78b0-4923-9068-4ebbb08c71ff"
      },
      "execution_count": 193,
      "outputs": [
        {
          "output_type": "execute_result",
          "data": {
            "text/plain": [
              "tensor([ 5, 13, 13,  1,  0, 15, 12,  9, 22,  9,  1,  0,  1, 22,  1,  0,  9, 19,\n",
              "         1,  2,  5, 12, 12,  1,  0, 19, 15, 16,  8,  9,  1,  0])"
            ]
          },
          "metadata": {},
          "execution_count": 193
        }
      ]
    },
    {
      "cell_type": "code",
      "source": [
        "X.shape, X.dtype, Y.shape, Y.dtype"
      ],
      "metadata": {
        "colab": {
          "base_uri": "https://localhost:8080/"
        },
        "id": "8ikR4eiS1AYQ",
        "outputId": "3dbb4444-1872-45b6-8a23-66bf29177889"
      },
      "execution_count": 194,
      "outputs": [
        {
          "output_type": "execute_result",
          "data": {
            "text/plain": [
              "(torch.Size([32, 3]), torch.int64, torch.Size([32]), torch.int64)"
            ]
          },
          "metadata": {},
          "execution_count": 194
        }
      ]
    },
    {
      "cell_type": "markdown",
      "source": [
        "##### `Embedding`"
      ],
      "metadata": {
        "id": "9-mCLjXb1JdC"
      }
    },
    {
      "cell_type": "markdown",
      "source": [
        "![MLP.png](data:image/png;base64,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)"
      ],
      "metadata": {
        "id": "tGxBOXab2FoM"
      }
    },
    {
      "cell_type": "code",
      "source": [
        "C = torch.randn((27,2)) # embedding lookup table C"
      ],
      "metadata": {
        "id": "LWuP0pH21deg"
      },
      "execution_count": 195,
      "outputs": []
    },
    {
      "cell_type": "code",
      "source": [
        "C"
      ],
      "metadata": {
        "colab": {
          "base_uri": "https://localhost:8080/"
        },
        "id": "9f_2dHVyQ42Z",
        "outputId": "bbdd17e9-ad43-4d6a-8732-a46d4fa4f99d"
      },
      "execution_count": 196,
      "outputs": [
        {
          "output_type": "execute_result",
          "data": {
            "text/plain": [
              "tensor([[ 0.1722,  0.6197],\n",
              "        [ 0.7203, -0.9509],\n",
              "        [-0.5019,  2.3684],\n",
              "        [-0.2406,  1.0590],\n",
              "        [-0.1292,  0.5157],\n",
              "        [-0.8353, -2.1217],\n",
              "        [-0.3438, -0.5029],\n",
              "        [ 0.6235, -2.0501],\n",
              "        [-0.1429, -1.3824],\n",
              "        [-0.4214,  0.3601],\n",
              "        [-0.4574,  1.1951],\n",
              "        [ 0.4673,  0.3050],\n",
              "        [ 0.1628, -0.3579],\n",
              "        [ 1.6825, -0.4062],\n",
              "        [-0.6402, -0.9946],\n",
              "        [-0.4957, -1.6070],\n",
              "        [-0.6812, -1.2705],\n",
              "        [ 0.9628,  2.8217],\n",
              "        [-0.1288, -0.3062],\n",
              "        [-1.2979,  3.6105],\n",
              "        [ 1.0044, -1.7084],\n",
              "        [ 0.6651,  0.3093],\n",
              "        [-0.0487, -0.6607],\n",
              "        [ 1.3830, -0.1094],\n",
              "        [-1.8317, -1.5540],\n",
              "        [-0.8911,  1.8920],\n",
              "        [-0.6342, -2.0784]])"
            ]
          },
          "metadata": {},
          "execution_count": 196
        }
      ]
    },
    {
      "cell_type": "markdown",
      "source": [
        "* let's embed our 27 characters in a 2 dimensional space.\n"
      ],
      "metadata": {
        "id": "er7cOP6D7FKD"
      }
    },
    {
      "cell_type": "markdown",
      "source": [
        "* we have 27 possible characters we're going to embed them in a lower dimensional space.\n",
        "* say `we have 17000 words and so we're going to embed them in spaces as small dimensional as 30`."
      ],
      "metadata": {
        "id": "3P55XqBz6g5t"
      }
    },
    {
      "cell_type": "code",
      "source": [
        "C[5]"
      ],
      "metadata": {
        "id": "oGGT591t7SUN",
        "colab": {
          "base_uri": "https://localhost:8080/"
        },
        "outputId": "ec3b4b38-d83d-40f0-edb2-b7619e3cdafe"
      },
      "execution_count": 197,
      "outputs": [
        {
          "output_type": "execute_result",
          "data": {
            "text/plain": [
              "tensor([-0.8353, -2.1217])"
            ]
          },
          "metadata": {},
          "execution_count": 197
        }
      ]
    },
    {
      "cell_type": "code",
      "source": [
        "C[torch.tensor([1, 2, 3])].shape"
      ],
      "metadata": {
        "colab": {
          "base_uri": "https://localhost:8080/"
        },
        "id": "mipC6tXTQjt_",
        "outputId": "5a644c3c-203b-47ae-a07b-8d44cf522c3d"
      },
      "execution_count": 198,
      "outputs": [
        {
          "output_type": "execute_result",
          "data": {
            "text/plain": [
              "torch.Size([3, 2])"
            ]
          },
          "metadata": {},
          "execution_count": 198
        }
      ]
    },
    {
      "cell_type": "code",
      "source": [
        "C[torch.tensor([1, 2, 3])]"
      ],
      "metadata": {
        "colab": {
          "base_uri": "https://localhost:8080/"
        },
        "id": "mlQSf8uhQ1K8",
        "outputId": "b70f6934-316b-4147-af88-fcd25af25df8"
      },
      "execution_count": 199,
      "outputs": [
        {
          "output_type": "execute_result",
          "data": {
            "text/plain": [
              "tensor([[ 0.7203, -0.9509],\n",
              "        [-0.5019,  2.3684],\n",
              "        [-0.2406,  1.0590]])"
            ]
          },
          "metadata": {},
          "execution_count": 199
        }
      ]
    },
    {
      "cell_type": "code",
      "source": [
        "torch.tensor([1, 2, 3]).shape"
      ],
      "metadata": {
        "colab": {
          "base_uri": "https://localhost:8080/"
        },
        "id": "_nhnzTUIRby0",
        "outputId": "e03ea68a-1061-497e-9f7b-72b189b703d3"
      },
      "execution_count": 200,
      "outputs": [
        {
          "output_type": "execute_result",
          "data": {
            "text/plain": [
              "torch.Size([3])"
            ]
          },
          "metadata": {},
          "execution_count": 200
        }
      ]
    },
    {
      "cell_type": "code",
      "source": [
        "C"
      ],
      "metadata": {
        "colab": {
          "base_uri": "https://localhost:8080/"
        },
        "id": "KaL7ZoE3SqGH",
        "outputId": "52957969-02e9-48c2-b2bb-406021a65375"
      },
      "execution_count": 201,
      "outputs": [
        {
          "output_type": "execute_result",
          "data": {
            "text/plain": [
              "tensor([[ 0.1722,  0.6197],\n",
              "        [ 0.7203, -0.9509],\n",
              "        [-0.5019,  2.3684],\n",
              "        [-0.2406,  1.0590],\n",
              "        [-0.1292,  0.5157],\n",
              "        [-0.8353, -2.1217],\n",
              "        [-0.3438, -0.5029],\n",
              "        [ 0.6235, -2.0501],\n",
              "        [-0.1429, -1.3824],\n",
              "        [-0.4214,  0.3601],\n",
              "        [-0.4574,  1.1951],\n",
              "        [ 0.4673,  0.3050],\n",
              "        [ 0.1628, -0.3579],\n",
              "        [ 1.6825, -0.4062],\n",
              "        [-0.6402, -0.9946],\n",
              "        [-0.4957, -1.6070],\n",
              "        [-0.6812, -1.2705],\n",
              "        [ 0.9628,  2.8217],\n",
              "        [-0.1288, -0.3062],\n",
              "        [-1.2979,  3.6105],\n",
              "        [ 1.0044, -1.7084],\n",
              "        [ 0.6651,  0.3093],\n",
              "        [-0.0487, -0.6607],\n",
              "        [ 1.3830, -0.1094],\n",
              "        [-1.8317, -1.5540],\n",
              "        [-0.8911,  1.8920],\n",
              "        [-0.6342, -2.0784]])"
            ]
          },
          "metadata": {},
          "execution_count": 201
        }
      ]
    },
    {
      "cell_type": "code",
      "source": [
        "torch.tensor([[0, 1], [2, 3]]).shape"
      ],
      "metadata": {
        "colab": {
          "base_uri": "https://localhost:8080/"
        },
        "id": "LV1p6rtiS0dg",
        "outputId": "dc5a13aa-5f01-4eda-f6e2-97149d1168f4"
      },
      "execution_count": 202,
      "outputs": [
        {
          "output_type": "execute_result",
          "data": {
            "text/plain": [
              "torch.Size([2, 2])"
            ]
          },
          "metadata": {},
          "execution_count": 202
        }
      ]
    },
    {
      "cell_type": "code",
      "source": [
        "C[torch.tensor([[0, 1], [2, 3]])]"
      ],
      "metadata": {
        "colab": {
          "base_uri": "https://localhost:8080/"
        },
        "id": "_PX93UrPRcUS",
        "outputId": "c7f37903-a2e0-4fb9-eec0-642809ec6d88"
      },
      "execution_count": 203,
      "outputs": [
        {
          "output_type": "execute_result",
          "data": {
            "text/plain": [
              "tensor([[[ 0.1722,  0.6197],\n",
              "         [ 0.7203, -0.9509]],\n",
              "\n",
              "        [[-0.5019,  2.3684],\n",
              "         [-0.2406,  1.0590]]])"
            ]
          },
          "metadata": {},
          "execution_count": 203
        }
      ]
    },
    {
      "cell_type": "code",
      "source": [
        "C[torch.tensor([[0, 1], [2, 3]])].shape"
      ],
      "metadata": {
        "colab": {
          "base_uri": "https://localhost:8080/"
        },
        "id": "Th0ZNxpNRgr4",
        "outputId": "aa74962d-2e08-4df4-a2e7-7e464c60f35b"
      },
      "execution_count": 204,
      "outputs": [
        {
          "output_type": "execute_result",
          "data": {
            "text/plain": [
              "torch.Size([2, 2, 2])"
            ]
          },
          "metadata": {},
          "execution_count": 204
        }
      ]
    },
    {
      "cell_type": "code",
      "source": [
        "C[X]"
      ],
      "metadata": {
        "colab": {
          "base_uri": "https://localhost:8080/"
        },
        "id": "puFANYj4Rgym",
        "outputId": "57c11e9b-ea3e-4b21-fcaa-e3beb5927db4"
      },
      "execution_count": 205,
      "outputs": [
        {
          "output_type": "execute_result",
          "data": {
            "text/plain": [
              "tensor([[[ 0.1722,  0.6197],\n",
              "         [ 0.1722,  0.6197],\n",
              "         [ 0.1722,  0.6197]],\n",
              "\n",
              "        [[ 0.1722,  0.6197],\n",
              "         [ 0.1722,  0.6197],\n",
              "         [-0.8353, -2.1217]],\n",
              "\n",
              "        [[ 0.1722,  0.6197],\n",
              "         [-0.8353, -2.1217],\n",
              "         [ 1.6825, -0.4062]],\n",
              "\n",
              "        [[-0.8353, -2.1217],\n",
              "         [ 1.6825, -0.4062],\n",
              "         [ 1.6825, -0.4062]],\n",
              "\n",
              "        [[ 1.6825, -0.4062],\n",
              "         [ 1.6825, -0.4062],\n",
              "         [ 0.7203, -0.9509]],\n",
              "\n",
              "        [[ 0.1722,  0.6197],\n",
              "         [ 0.1722,  0.6197],\n",
              "         [ 0.1722,  0.6197]],\n",
              "\n",
              "        [[ 0.1722,  0.6197],\n",
              "         [ 0.1722,  0.6197],\n",
              "         [-0.4957, -1.6070]],\n",
              "\n",
              "        [[ 0.1722,  0.6197],\n",
              "         [-0.4957, -1.6070],\n",
              "         [ 0.1628, -0.3579]],\n",
              "\n",
              "        [[-0.4957, -1.6070],\n",
              "         [ 0.1628, -0.3579],\n",
              "         [-0.4214,  0.3601]],\n",
              "\n",
              "        [[ 0.1628, -0.3579],\n",
              "         [-0.4214,  0.3601],\n",
              "         [-0.0487, -0.6607]],\n",
              "\n",
              "        [[-0.4214,  0.3601],\n",
              "         [-0.0487, -0.6607],\n",
              "         [-0.4214,  0.3601]],\n",
              "\n",
              "        [[-0.0487, -0.6607],\n",
              "         [-0.4214,  0.3601],\n",
              "         [ 0.7203, -0.9509]],\n",
              "\n",
              "        [[ 0.1722,  0.6197],\n",
              "         [ 0.1722,  0.6197],\n",
              "         [ 0.1722,  0.6197]],\n",
              "\n",
              "        [[ 0.1722,  0.6197],\n",
              "         [ 0.1722,  0.6197],\n",
              "         [ 0.7203, -0.9509]],\n",
              "\n",
              "        [[ 0.1722,  0.6197],\n",
              "         [ 0.7203, -0.9509],\n",
              "         [-0.0487, -0.6607]],\n",
              "\n",
              "        [[ 0.7203, -0.9509],\n",
              "         [-0.0487, -0.6607],\n",
              "         [ 0.7203, -0.9509]],\n",
              "\n",
              "        [[ 0.1722,  0.6197],\n",
              "         [ 0.1722,  0.6197],\n",
              "         [ 0.1722,  0.6197]],\n",
              "\n",
              "        [[ 0.1722,  0.6197],\n",
              "         [ 0.1722,  0.6197],\n",
              "         [-0.4214,  0.3601]],\n",
              "\n",
              "        [[ 0.1722,  0.6197],\n",
              "         [-0.4214,  0.3601],\n",
              "         [-1.2979,  3.6105]],\n",
              "\n",
              "        [[-0.4214,  0.3601],\n",
              "         [-1.2979,  3.6105],\n",
              "         [ 0.7203, -0.9509]],\n",
              "\n",
              "        [[-1.2979,  3.6105],\n",
              "         [ 0.7203, -0.9509],\n",
              "         [-0.5019,  2.3684]],\n",
              "\n",
              "        [[ 0.7203, -0.9509],\n",
              "         [-0.5019,  2.3684],\n",
              "         [-0.8353, -2.1217]],\n",
              "\n",
              "        [[-0.5019,  2.3684],\n",
              "         [-0.8353, -2.1217],\n",
              "         [ 0.1628, -0.3579]],\n",
              "\n",
              "        [[-0.8353, -2.1217],\n",
              "         [ 0.1628, -0.3579],\n",
              "         [ 0.1628, -0.3579]],\n",
              "\n",
              "        [[ 0.1628, -0.3579],\n",
              "         [ 0.1628, -0.3579],\n",
              "         [ 0.7203, -0.9509]],\n",
              "\n",
              "        [[ 0.1722,  0.6197],\n",
              "         [ 0.1722,  0.6197],\n",
              "         [ 0.1722,  0.6197]],\n",
              "\n",
              "        [[ 0.1722,  0.6197],\n",
              "         [ 0.1722,  0.6197],\n",
              "         [-1.2979,  3.6105]],\n",
              "\n",
              "        [[ 0.1722,  0.6197],\n",
              "         [-1.2979,  3.6105],\n",
              "         [-0.4957, -1.6070]],\n",
              "\n",
              "        [[-1.2979,  3.6105],\n",
              "         [-0.4957, -1.6070],\n",
              "         [-0.6812, -1.2705]],\n",
              "\n",
              "        [[-0.4957, -1.6070],\n",
              "         [-0.6812, -1.2705],\n",
              "         [-0.1429, -1.3824]],\n",
              "\n",
              "        [[-0.6812, -1.2705],\n",
              "         [-0.1429, -1.3824],\n",
              "         [-0.4214,  0.3601]],\n",
              "\n",
              "        [[-0.1429, -1.3824],\n",
              "         [-0.4214,  0.3601],\n",
              "         [ 0.7203, -0.9509]]])"
            ]
          },
          "metadata": {},
          "execution_count": 205
        }
      ]
    },
    {
      "cell_type": "code",
      "source": [
        "D = torch.randn((28, 2))"
      ],
      "metadata": {
        "id": "uN8NPwGsRcdW"
      },
      "execution_count": 206,
      "outputs": []
    },
    {
      "cell_type": "code",
      "source": [
        "C[X].shape == D[X].shape"
      ],
      "metadata": {
        "colab": {
          "base_uri": "https://localhost:8080/"
        },
        "id": "I8jgmeJjRclj",
        "outputId": "8af5a3d8-1f7c-4154-8ea5-bd9eb019ef3e"
      },
      "execution_count": 207,
      "outputs": [
        {
          "output_type": "execute_result",
          "data": {
            "text/plain": [
              "True"
            ]
          },
          "metadata": {},
          "execution_count": 207
        }
      ]
    },
    {
      "cell_type": "markdown",
      "source": [
        "* we've done something similar in part 1, that is one-hot encoding"
      ],
      "metadata": {
        "id": "C-_IrcT87Vwd"
      }
    },
    {
      "cell_type": "code",
      "source": [
        "F.one_hot(torch.tensor(5), num_classes=27).dtype"
      ],
      "metadata": {
        "colab": {
          "base_uri": "https://localhost:8080/"
        },
        "id": "ylsL5NDF8vBk",
        "outputId": "4c0f806e-0bd7-405f-9c45-b1860182f2a8"
      },
      "execution_count": 208,
      "outputs": [
        {
          "output_type": "execute_result",
          "data": {
            "text/plain": [
              "torch.int64"
            ]
          },
          "metadata": {},
          "execution_count": 208
        }
      ]
    },
    {
      "cell_type": "code",
      "source": [
        "F.one_hot(torch.tensor(5), num_classes=27)"
      ],
      "metadata": {
        "colab": {
          "base_uri": "https://localhost:8080/"
        },
        "id": "GXB1UaKbfyU_",
        "outputId": "ffbae891-a44b-493f-9eb0-0fa3b3cfdc05"
      },
      "execution_count": 209,
      "outputs": [
        {
          "output_type": "execute_result",
          "data": {
            "text/plain": [
              "tensor([0, 0, 0, 0, 0, 1, 0, 0, 0, 0, 0, 0, 0, 0, 0, 0, 0, 0, 0, 0, 0, 0, 0, 0,\n",
              "        0, 0, 0])"
            ]
          },
          "metadata": {},
          "execution_count": 209
        }
      ]
    },
    {
      "cell_type": "code",
      "source": [
        "F.one_hot(torch.tensor(5), num_classes=27).shape"
      ],
      "metadata": {
        "colab": {
          "base_uri": "https://localhost:8080/"
        },
        "id": "5JYEAPF6RwuT",
        "outputId": "a261b93f-a829-4b12-d12e-6f6d5f8d2e4e"
      },
      "execution_count": 210,
      "outputs": [
        {
          "output_type": "execute_result",
          "data": {
            "text/plain": [
              "torch.Size([27])"
            ]
          },
          "metadata": {},
          "execution_count": 210
        }
      ]
    },
    {
      "cell_type": "code",
      "source": [
        "F.one_hot(torch.tensor(5), num_classes=27).float() @ C # Only float and float can do multiplication not int and float"
      ],
      "metadata": {
        "colab": {
          "base_uri": "https://localhost:8080/"
        },
        "id": "tf9lIoEB8M0D",
        "outputId": "85a7239a-e586-44f0-8d9c-156fab109727"
      },
      "execution_count": 211,
      "outputs": [
        {
          "output_type": "execute_result",
          "data": {
            "text/plain": [
              "tensor([-0.8353, -2.1217])"
            ]
          },
          "metadata": {},
          "execution_count": 211
        }
      ]
    },
    {
      "cell_type": "markdown",
      "source": [
        "* we get the same result as `C[5]`, this means,\n",
        "\n",
        "![Screenshot 2023-03-25 at 6.58.31 PM.png](data:image/png;base64,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)"
      ],
      "metadata": {
        "id": "mcZizM2xjGVn"
      }
    },
    {
      "cell_type": "markdown",
      "source": [
        "* This embedding of integer, we can think it as the `integer indexing` into a `lookup table C` But equivalently we can also think of this `little blue square` as a first layer of this bigger neural net, This `Blue rectangle box with red dots` is like a `layer`, that has no non-linearity, there is no `tanh`, it's just linear `neurons`, and `their weight matrix is C`. "
      ],
      "metadata": {
        "id": "pOe_14Bw9EM0"
      }
    },
    {
      "cell_type": "markdown",
      "source": [
        "* And then we are encoding integers into `one-hot` and feeding those into a `neural net` and `this first layer basically embeds them`."
      ],
      "metadata": {
        "id": "hmew0s6a-3Eq"
      }
    },
    {
      "cell_type": "markdown",
      "source": [
        "* So this is `two equivalent ways of doing same thing.` we will use `indexing`, because it is much more faster than `one-hot encoding`."
      ],
      "metadata": {
        "id": "oInygPxX_Mj7"
      }
    },
    {
      "cell_type": "markdown",
      "source": [
        "#### embedding whole `X` in `C`."
      ],
      "metadata": {
        "id": "AvIjTlQf_TtU"
      }
    },
    {
      "cell_type": "code",
      "source": [
        "C[X].shape"
      ],
      "metadata": {
        "colab": {
          "base_uri": "https://localhost:8080/"
        },
        "id": "KklR9S_w_-WU",
        "outputId": "b680544a-5b17-4d8b-f65c-1bbea80aab34"
      },
      "execution_count": 212,
      "outputs": [
        {
          "output_type": "execute_result",
          "data": {
            "text/plain": [
              "torch.Size([32, 3, 2])"
            ]
          },
          "metadata": {},
          "execution_count": 212
        }
      ]
    },
    {
      "cell_type": "markdown",
      "source": [
        "* 32 by 3, which is `original shape`, and now for every one of those 32 by 3 integers, we've `retrieved the embedding vector 2`."
      ],
      "metadata": {
        "id": "FPNPNjL6AAU5"
      }
    },
    {
      "cell_type": "code",
      "source": [
        "X[13, 2]"
      ],
      "metadata": {
        "colab": {
          "base_uri": "https://localhost:8080/"
        },
        "id": "udX7UNadA7Ye",
        "outputId": "63281d37-d4ae-4c60-e6af-565a9eec0c8a"
      },
      "execution_count": 213,
      "outputs": [
        {
          "output_type": "execute_result",
          "data": {
            "text/plain": [
              "tensor(1)"
            ]
          },
          "metadata": {},
          "execution_count": 213
        }
      ]
    },
    {
      "cell_type": "code",
      "source": [
        "X[13]"
      ],
      "metadata": {
        "colab": {
          "base_uri": "https://localhost:8080/"
        },
        "id": "kDGC7HcSBAT2",
        "outputId": "af20ae48-b08f-4980-d471-30868d0b6286"
      },
      "execution_count": 214,
      "outputs": [
        {
          "output_type": "execute_result",
          "data": {
            "text/plain": [
              "tensor([0, 0, 1])"
            ]
          },
          "metadata": {},
          "execution_count": 214
        }
      ]
    },
    {
      "cell_type": "code",
      "source": [
        "C[X][13, 2] # embedding for X[13, 2]"
      ],
      "metadata": {
        "colab": {
          "base_uri": "https://localhost:8080/"
        },
        "id": "NCByXiw4BCGH",
        "outputId": "4b8cda5d-89ff-47d2-d115-9a30dac9ec74"
      },
      "execution_count": 215,
      "outputs": [
        {
          "output_type": "execute_result",
          "data": {
            "text/plain": [
              "tensor([ 0.7203, -0.9509])"
            ]
          },
          "metadata": {},
          "execution_count": 215
        }
      ]
    },
    {
      "cell_type": "code",
      "source": [
        "C[1] # which is also same , why ?"
      ],
      "metadata": {
        "colab": {
          "base_uri": "https://localhost:8080/"
        },
        "id": "LK3C40i0BPwM",
        "outputId": "eb279a4f-0906-4f56-fb02-5607d398c4c3"
      },
      "execution_count": 216,
      "outputs": [
        {
          "output_type": "execute_result",
          "data": {
            "text/plain": [
              "tensor([ 0.7203, -0.9509])"
            ]
          },
          "metadata": {},
          "execution_count": 216
        }
      ]
    },
    {
      "cell_type": "markdown",
      "source": [
        "* So using, `pytorch indexing`, to embed simultaneously, all of the integers in `X`, we can simply do `C[X]`, and that is our embedding."
      ],
      "metadata": {
        "id": "ewjWtD7bBW7f"
      }
    },
    {
      "cell_type": "code",
      "source": [
        "emb = C[X]\n",
        "emb.shape"
      ],
      "metadata": {
        "colab": {
          "base_uri": "https://localhost:8080/"
        },
        "id": "7-p5_y9QB1QL",
        "outputId": "f09127c4-dff4-4c2e-b733-6c92f388d0ab"
      },
      "execution_count": 217,
      "outputs": [
        {
          "output_type": "execute_result",
          "data": {
            "text/plain": [
              "torch.Size([32, 3, 2])"
            ]
          },
          "metadata": {},
          "execution_count": 217
        }
      ]
    },
    {
      "cell_type": "markdown",
      "source": [
        "#### Now creating our hidden layer."
      ],
      "metadata": {
        "id": "cRFsbN-DB5Ze"
      }
    },
    {
      "cell_type": "code",
      "source": [
        "W1 = torch.randn((6, 100))# weights which we will initialize randomly. inputs is 6 and we can choose neurons randomly, let's take 100 neurons. \n",
        "b1 = torch.randn(100) # we will also initialize this randomly. # because we've 100 neurons in the hidden layer."
      ],
      "metadata": {
        "id": "71Hh8PV7CB_6"
      },
      "execution_count": 218,
      "outputs": []
    },
    {
      "cell_type": "markdown",
      "source": [
        "* No. of inputs to this layer is going to be `3 times 2 (From emb.shape)`, because we've `two dimensional embeddings` and we've `three of them`.\n",
        "\n",
        "* So, `number of inputs = 6`."
      ],
      "metadata": {
        "id": "S-z7t6xiCaxK"
      }
    },
    {
      "cell_type": "markdown",
      "source": [
        "* Now, we roughly want to do `emb @ W1 + b1` , but note that, it's not possible to do so, because of `dimensions`.\n",
        "\n",
        "* To make `dimensions` OK, for this `matrix multiplication`, we've to convert `32 * 3 * 2` into `32 * 6`."
      ],
      "metadata": {
        "id": "P407hj6lCxXJ"
      }
    },
    {
      "cell_type": "markdown",
      "source": [
        "* there are many ways to do this."
      ],
      "metadata": {
        "id": "rnR2kGEkD8o5"
      }
    },
    {
      "cell_type": "markdown",
      "source": [
        "#### Making 32 * 6"
      ],
      "metadata": {
        "id": "1ZTIqQDE2Lnx"
      }
    },
    {
      "cell_type": "markdown",
      "source": [
        "`torch.cat(tensors, dim=0, out=None) -> Tensor` : `Concatenates` the given sequence of `seq` tensors in a given dimension. All the tensors must either have the same shape (except in the concatenating dimension) or be empty."
      ],
      "metadata": {
        "id": "SSWbPCkTEfGG"
      }
    },
    {
      "cell_type": "code",
      "source": [
        "# 3 pieces are:\n",
        "emb[:, 0, :], emb[:, 1, :], emb[:, 2, :] # We want to treat them as sequence.\n",
        "torch.cat([emb[:, 0, :], emb[:, 1, :], emb[:, 2, :]], 1) # takes sequence and along which we have to concatenate (across dimension 1)."
      ],
      "metadata": {
        "colab": {
          "base_uri": "https://localhost:8080/"
        },
        "id": "ULGcVkDjFSTP",
        "outputId": "1669096b-1c3f-4be2-9a30-3800ce24d5ea"
      },
      "execution_count": 219,
      "outputs": [
        {
          "output_type": "execute_result",
          "data": {
            "text/plain": [
              "tensor([[ 0.1722,  0.6197,  0.1722,  0.6197,  0.1722,  0.6197],\n",
              "        [ 0.1722,  0.6197,  0.1722,  0.6197, -0.8353, -2.1217],\n",
              "        [ 0.1722,  0.6197, -0.8353, -2.1217,  1.6825, -0.4062],\n",
              "        [-0.8353, -2.1217,  1.6825, -0.4062,  1.6825, -0.4062],\n",
              "        [ 1.6825, -0.4062,  1.6825, -0.4062,  0.7203, -0.9509],\n",
              "        [ 0.1722,  0.6197,  0.1722,  0.6197,  0.1722,  0.6197],\n",
              "        [ 0.1722,  0.6197,  0.1722,  0.6197, -0.4957, -1.6070],\n",
              "        [ 0.1722,  0.6197, -0.4957, -1.6070,  0.1628, -0.3579],\n",
              "        [-0.4957, -1.6070,  0.1628, -0.3579, -0.4214,  0.3601],\n",
              "        [ 0.1628, -0.3579, -0.4214,  0.3601, -0.0487, -0.6607],\n",
              "        [-0.4214,  0.3601, -0.0487, -0.6607, -0.4214,  0.3601],\n",
              "        [-0.0487, -0.6607, -0.4214,  0.3601,  0.7203, -0.9509],\n",
              "        [ 0.1722,  0.6197,  0.1722,  0.6197,  0.1722,  0.6197],\n",
              "        [ 0.1722,  0.6197,  0.1722,  0.6197,  0.7203, -0.9509],\n",
              "        [ 0.1722,  0.6197,  0.7203, -0.9509, -0.0487, -0.6607],\n",
              "        [ 0.7203, -0.9509, -0.0487, -0.6607,  0.7203, -0.9509],\n",
              "        [ 0.1722,  0.6197,  0.1722,  0.6197,  0.1722,  0.6197],\n",
              "        [ 0.1722,  0.6197,  0.1722,  0.6197, -0.4214,  0.3601],\n",
              "        [ 0.1722,  0.6197, -0.4214,  0.3601, -1.2979,  3.6105],\n",
              "        [-0.4214,  0.3601, -1.2979,  3.6105,  0.7203, -0.9509],\n",
              "        [-1.2979,  3.6105,  0.7203, -0.9509, -0.5019,  2.3684],\n",
              "        [ 0.7203, -0.9509, -0.5019,  2.3684, -0.8353, -2.1217],\n",
              "        [-0.5019,  2.3684, -0.8353, -2.1217,  0.1628, -0.3579],\n",
              "        [-0.8353, -2.1217,  0.1628, -0.3579,  0.1628, -0.3579],\n",
              "        [ 0.1628, -0.3579,  0.1628, -0.3579,  0.7203, -0.9509],\n",
              "        [ 0.1722,  0.6197,  0.1722,  0.6197,  0.1722,  0.6197],\n",
              "        [ 0.1722,  0.6197,  0.1722,  0.6197, -1.2979,  3.6105],\n",
              "        [ 0.1722,  0.6197, -1.2979,  3.6105, -0.4957, -1.6070],\n",
              "        [-1.2979,  3.6105, -0.4957, -1.6070, -0.6812, -1.2705],\n",
              "        [-0.4957, -1.6070, -0.6812, -1.2705, -0.1429, -1.3824],\n",
              "        [-0.6812, -1.2705, -0.1429, -1.3824, -0.4214,  0.3601],\n",
              "        [-0.1429, -1.3824, -0.4214,  0.3601,  0.7203, -0.9509]])"
            ]
          },
          "metadata": {},
          "execution_count": 219
        }
      ]
    },
    {
      "cell_type": "code",
      "source": [
        "torch.cat([emb[:, 0, :], emb[:, 1, :], emb[:, 2, :]], 1).shape"
      ],
      "metadata": {
        "colab": {
          "base_uri": "https://localhost:8080/"
        },
        "id": "_iyCyehQGp-u",
        "outputId": "741ebd75-1d22-43ff-e2b1-5d72de96e60a"
      },
      "execution_count": 220,
      "outputs": [
        {
          "output_type": "execute_result",
          "data": {
            "text/plain": [
              "torch.Size([32, 6])"
            ]
          },
          "metadata": {},
          "execution_count": 220
        }
      ]
    },
    {
      "cell_type": "markdown",
      "source": [
        "* `32 * 6` : we got what we wanted"
      ],
      "metadata": {
        "id": "WytEZyqsHfUV"
      }
    },
    {
      "cell_type": "markdown",
      "source": [
        "* If we had `block size = 5`, we have to change the above code,\n",
        "* thankfully pytorch has a function called `torch.unbind`\n",
        "  * This `function` removes a tensor dimension, Returns a `tuple` of all slices along a given dimension, already without it."
      ],
      "metadata": {
        "id": "4ojAY6XWHktx"
      }
    },
    {
      "cell_type": "code",
      "source": [
        "torch.unbind(emb, 1) # this is a tuple"
      ],
      "metadata": {
        "colab": {
          "base_uri": "https://localhost:8080/"
        },
        "id": "G9ZWf7P4zcDm",
        "outputId": "603214b7-77cb-4443-f45f-76b3addb8dd0"
      },
      "execution_count": 221,
      "outputs": [
        {
          "output_type": "execute_result",
          "data": {
            "text/plain": [
              "(tensor([[ 0.1722,  0.6197],\n",
              "         [ 0.1722,  0.6197],\n",
              "         [ 0.1722,  0.6197],\n",
              "         [-0.8353, -2.1217],\n",
              "         [ 1.6825, -0.4062],\n",
              "         [ 0.1722,  0.6197],\n",
              "         [ 0.1722,  0.6197],\n",
              "         [ 0.1722,  0.6197],\n",
              "         [-0.4957, -1.6070],\n",
              "         [ 0.1628, -0.3579],\n",
              "         [-0.4214,  0.3601],\n",
              "         [-0.0487, -0.6607],\n",
              "         [ 0.1722,  0.6197],\n",
              "         [ 0.1722,  0.6197],\n",
              "         [ 0.1722,  0.6197],\n",
              "         [ 0.7203, -0.9509],\n",
              "         [ 0.1722,  0.6197],\n",
              "         [ 0.1722,  0.6197],\n",
              "         [ 0.1722,  0.6197],\n",
              "         [-0.4214,  0.3601],\n",
              "         [-1.2979,  3.6105],\n",
              "         [ 0.7203, -0.9509],\n",
              "         [-0.5019,  2.3684],\n",
              "         [-0.8353, -2.1217],\n",
              "         [ 0.1628, -0.3579],\n",
              "         [ 0.1722,  0.6197],\n",
              "         [ 0.1722,  0.6197],\n",
              "         [ 0.1722,  0.6197],\n",
              "         [-1.2979,  3.6105],\n",
              "         [-0.4957, -1.6070],\n",
              "         [-0.6812, -1.2705],\n",
              "         [-0.1429, -1.3824]]), tensor([[ 0.1722,  0.6197],\n",
              "         [ 0.1722,  0.6197],\n",
              "         [-0.8353, -2.1217],\n",
              "         [ 1.6825, -0.4062],\n",
              "         [ 1.6825, -0.4062],\n",
              "         [ 0.1722,  0.6197],\n",
              "         [ 0.1722,  0.6197],\n",
              "         [-0.4957, -1.6070],\n",
              "         [ 0.1628, -0.3579],\n",
              "         [-0.4214,  0.3601],\n",
              "         [-0.0487, -0.6607],\n",
              "         [-0.4214,  0.3601],\n",
              "         [ 0.1722,  0.6197],\n",
              "         [ 0.1722,  0.6197],\n",
              "         [ 0.7203, -0.9509],\n",
              "         [-0.0487, -0.6607],\n",
              "         [ 0.1722,  0.6197],\n",
              "         [ 0.1722,  0.6197],\n",
              "         [-0.4214,  0.3601],\n",
              "         [-1.2979,  3.6105],\n",
              "         [ 0.7203, -0.9509],\n",
              "         [-0.5019,  2.3684],\n",
              "         [-0.8353, -2.1217],\n",
              "         [ 0.1628, -0.3579],\n",
              "         [ 0.1628, -0.3579],\n",
              "         [ 0.1722,  0.6197],\n",
              "         [ 0.1722,  0.6197],\n",
              "         [-1.2979,  3.6105],\n",
              "         [-0.4957, -1.6070],\n",
              "         [-0.6812, -1.2705],\n",
              "         [-0.1429, -1.3824],\n",
              "         [-0.4214,  0.3601]]), tensor([[ 0.1722,  0.6197],\n",
              "         [-0.8353, -2.1217],\n",
              "         [ 1.6825, -0.4062],\n",
              "         [ 1.6825, -0.4062],\n",
              "         [ 0.7203, -0.9509],\n",
              "         [ 0.1722,  0.6197],\n",
              "         [-0.4957, -1.6070],\n",
              "         [ 0.1628, -0.3579],\n",
              "         [-0.4214,  0.3601],\n",
              "         [-0.0487, -0.6607],\n",
              "         [-0.4214,  0.3601],\n",
              "         [ 0.7203, -0.9509],\n",
              "         [ 0.1722,  0.6197],\n",
              "         [ 0.7203, -0.9509],\n",
              "         [-0.0487, -0.6607],\n",
              "         [ 0.7203, -0.9509],\n",
              "         [ 0.1722,  0.6197],\n",
              "         [-0.4214,  0.3601],\n",
              "         [-1.2979,  3.6105],\n",
              "         [ 0.7203, -0.9509],\n",
              "         [-0.5019,  2.3684],\n",
              "         [-0.8353, -2.1217],\n",
              "         [ 0.1628, -0.3579],\n",
              "         [ 0.1628, -0.3579],\n",
              "         [ 0.7203, -0.9509],\n",
              "         [ 0.1722,  0.6197],\n",
              "         [-1.2979,  3.6105],\n",
              "         [-0.4957, -1.6070],\n",
              "         [-0.6812, -1.2705],\n",
              "         [-0.1429, -1.3824],\n",
              "         [-0.4214,  0.3601],\n",
              "         [ 0.7203, -0.9509]]))"
            ]
          },
          "metadata": {},
          "execution_count": 221
        }
      ]
    },
    {
      "cell_type": "code",
      "source": [
        "torch.cat(torch.unbind(emb, 1), 1).shape # 32 * 6"
      ],
      "metadata": {
        "colab": {
          "base_uri": "https://localhost:8080/"
        },
        "id": "iGapQW2Ez04y",
        "outputId": "668f7192-91ee-451f-c28c-ec6a6ddfb8b4"
      },
      "execution_count": 222,
      "outputs": [
        {
          "output_type": "execute_result",
          "data": {
            "text/plain": [
              "torch.Size([32, 6])"
            ]
          },
          "metadata": {},
          "execution_count": 222
        }
      ]
    },
    {
      "cell_type": "markdown",
      "source": [
        "#### Another way of making 32 * 6 dimension"
      ],
      "metadata": {
        "id": "QPkjTpR92Cv_"
      }
    },
    {
      "cell_type": "code",
      "source": [
        "a = torch.arange(18)\n",
        "a"
      ],
      "metadata": {
        "colab": {
          "base_uri": "https://localhost:8080/"
        },
        "id": "_y-FH-7f0KNS",
        "outputId": "e9af0da7-cd5b-4e12-ab47-718990e77a92"
      },
      "execution_count": 223,
      "outputs": [
        {
          "output_type": "execute_result",
          "data": {
            "text/plain": [
              "tensor([ 0,  1,  2,  3,  4,  5,  6,  7,  8,  9, 10, 11, 12, 13, 14, 15, 16, 17])"
            ]
          },
          "metadata": {},
          "execution_count": 223
        }
      ]
    },
    {
      "cell_type": "code",
      "source": [
        "a.shape"
      ],
      "metadata": {
        "colab": {
          "base_uri": "https://localhost:8080/"
        },
        "id": "B5OA4em60dFp",
        "outputId": "b675eec3-6998-4507-f8ea-1eea84a0562f"
      },
      "execution_count": 224,
      "outputs": [
        {
          "output_type": "execute_result",
          "data": {
            "text/plain": [
              "torch.Size([18])"
            ]
          },
          "metadata": {},
          "execution_count": 224
        }
      ]
    },
    {
      "cell_type": "code",
      "source": [
        "a.view(18)"
      ],
      "metadata": {
        "colab": {
          "base_uri": "https://localhost:8080/"
        },
        "id": "yeaTmFdc1IqY",
        "outputId": "2aaa9b8d-4315-484f-97f5-7f53bbd80bfd"
      },
      "execution_count": 225,
      "outputs": [
        {
          "output_type": "execute_result",
          "data": {
            "text/plain": [
              "tensor([ 0,  1,  2,  3,  4,  5,  6,  7,  8,  9, 10, 11, 12, 13, 14, 15, 16, 17])"
            ]
          },
          "metadata": {},
          "execution_count": 225
        }
      ]
    },
    {
      "cell_type": "code",
      "source": [
        "a.view(3, 3, 2) # 3*3*2 = 18"
      ],
      "metadata": {
        "colab": {
          "base_uri": "https://localhost:8080/"
        },
        "id": "llK8RM8E1LVz",
        "outputId": "36f7ddc4-8fa1-4f8c-bf88-4ee412d2fdf5"
      },
      "execution_count": 226,
      "outputs": [
        {
          "output_type": "execute_result",
          "data": {
            "text/plain": [
              "tensor([[[ 0,  1],\n",
              "         [ 2,  3],\n",
              "         [ 4,  5]],\n",
              "\n",
              "        [[ 6,  7],\n",
              "         [ 8,  9],\n",
              "         [10, 11]],\n",
              "\n",
              "        [[12, 13],\n",
              "         [14, 15],\n",
              "         [16, 17]]])"
            ]
          },
          "metadata": {},
          "execution_count": 226
        }
      ]
    },
    {
      "cell_type": "code",
      "source": [
        "a.storage()"
      ],
      "metadata": {
        "colab": {
          "base_uri": "https://localhost:8080/"
        },
        "id": "giRmD--v1VVw",
        "outputId": "5f93836c-1c6d-4ced-ed3e-077ca0fe45a9"
      },
      "execution_count": 227,
      "outputs": [
        {
          "output_type": "execute_result",
          "data": {
            "text/plain": [
              " 0\n",
              " 1\n",
              " 2\n",
              " 3\n",
              " 4\n",
              " 5\n",
              " 6\n",
              " 7\n",
              " 8\n",
              " 9\n",
              " 10\n",
              " 11\n",
              " 12\n",
              " 13\n",
              " 14\n",
              " 15\n",
              " 16\n",
              " 17\n",
              "[torch.storage.TypedStorage(dtype=torch.int64, device=cpu) of size 18]"
            ]
          },
          "metadata": {},
          "execution_count": 227
        }
      ]
    },
    {
      "cell_type": "markdown",
      "source": [
        "* In computer, `values of tensors` are stored as `1Darray`, so `a.view()` basically, somehow manipulates this `1Darray` to get this data in `desired shape`."
      ],
      "metadata": {
        "id": "8tJAWR821bWe"
      }
    },
    {
      "cell_type": "code",
      "source": [
        "emb.shape"
      ],
      "metadata": {
        "id": "Nzn4kS-t13dg",
        "colab": {
          "base_uri": "https://localhost:8080/"
        },
        "outputId": "c517d508-6504-4aa9-f01c-6f0157b6d00e"
      },
      "execution_count": 228,
      "outputs": [
        {
          "output_type": "execute_result",
          "data": {
            "text/plain": [
              "torch.Size([32, 3, 2])"
            ]
          },
          "metadata": {},
          "execution_count": 228
        }
      ]
    },
    {
      "cell_type": "code",
      "source": [
        "emb.view(32, 6) # we get 32 * 6"
      ],
      "metadata": {
        "colab": {
          "base_uri": "https://localhost:8080/"
        },
        "id": "J5-UeFxN2cJH",
        "outputId": "e060c875-addd-441a-9f1a-be7788a4cc37"
      },
      "execution_count": 229,
      "outputs": [
        {
          "output_type": "execute_result",
          "data": {
            "text/plain": [
              "tensor([[ 0.1722,  0.6197,  0.1722,  0.6197,  0.1722,  0.6197],\n",
              "        [ 0.1722,  0.6197,  0.1722,  0.6197, -0.8353, -2.1217],\n",
              "        [ 0.1722,  0.6197, -0.8353, -2.1217,  1.6825, -0.4062],\n",
              "        [-0.8353, -2.1217,  1.6825, -0.4062,  1.6825, -0.4062],\n",
              "        [ 1.6825, -0.4062,  1.6825, -0.4062,  0.7203, -0.9509],\n",
              "        [ 0.1722,  0.6197,  0.1722,  0.6197,  0.1722,  0.6197],\n",
              "        [ 0.1722,  0.6197,  0.1722,  0.6197, -0.4957, -1.6070],\n",
              "        [ 0.1722,  0.6197, -0.4957, -1.6070,  0.1628, -0.3579],\n",
              "        [-0.4957, -1.6070,  0.1628, -0.3579, -0.4214,  0.3601],\n",
              "        [ 0.1628, -0.3579, -0.4214,  0.3601, -0.0487, -0.6607],\n",
              "        [-0.4214,  0.3601, -0.0487, -0.6607, -0.4214,  0.3601],\n",
              "        [-0.0487, -0.6607, -0.4214,  0.3601,  0.7203, -0.9509],\n",
              "        [ 0.1722,  0.6197,  0.1722,  0.6197,  0.1722,  0.6197],\n",
              "        [ 0.1722,  0.6197,  0.1722,  0.6197,  0.7203, -0.9509],\n",
              "        [ 0.1722,  0.6197,  0.7203, -0.9509, -0.0487, -0.6607],\n",
              "        [ 0.7203, -0.9509, -0.0487, -0.6607,  0.7203, -0.9509],\n",
              "        [ 0.1722,  0.6197,  0.1722,  0.6197,  0.1722,  0.6197],\n",
              "        [ 0.1722,  0.6197,  0.1722,  0.6197, -0.4214,  0.3601],\n",
              "        [ 0.1722,  0.6197, -0.4214,  0.3601, -1.2979,  3.6105],\n",
              "        [-0.4214,  0.3601, -1.2979,  3.6105,  0.7203, -0.9509],\n",
              "        [-1.2979,  3.6105,  0.7203, -0.9509, -0.5019,  2.3684],\n",
              "        [ 0.7203, -0.9509, -0.5019,  2.3684, -0.8353, -2.1217],\n",
              "        [-0.5019,  2.3684, -0.8353, -2.1217,  0.1628, -0.3579],\n",
              "        [-0.8353, -2.1217,  0.1628, -0.3579,  0.1628, -0.3579],\n",
              "        [ 0.1628, -0.3579,  0.1628, -0.3579,  0.7203, -0.9509],\n",
              "        [ 0.1722,  0.6197,  0.1722,  0.6197,  0.1722,  0.6197],\n",
              "        [ 0.1722,  0.6197,  0.1722,  0.6197, -1.2979,  3.6105],\n",
              "        [ 0.1722,  0.6197, -1.2979,  3.6105, -0.4957, -1.6070],\n",
              "        [-1.2979,  3.6105, -0.4957, -1.6070, -0.6812, -1.2705],\n",
              "        [-0.4957, -1.6070, -0.6812, -1.2705, -0.1429, -1.3824],\n",
              "        [-0.6812, -1.2705, -0.1429, -1.3824, -0.4214,  0.3601],\n",
              "        [-0.1429, -1.3824, -0.4214,  0.3601,  0.7203, -0.9509]])"
            ]
          },
          "metadata": {},
          "execution_count": 229
        }
      ]
    },
    {
      "cell_type": "code",
      "source": [
        "emb.view(32, 6) == torch.cat(torch.unbind(emb, 1), 1)"
      ],
      "metadata": {
        "colab": {
          "base_uri": "https://localhost:8080/"
        },
        "id": "G_l9L2RZ2d8k",
        "outputId": "3f5f76b4-f968-4669-c053-a8020df5561b"
      },
      "execution_count": 230,
      "outputs": [
        {
          "output_type": "execute_result",
          "data": {
            "text/plain": [
              "tensor([[True, True, True, True, True, True],\n",
              "        [True, True, True, True, True, True],\n",
              "        [True, True, True, True, True, True],\n",
              "        [True, True, True, True, True, True],\n",
              "        [True, True, True, True, True, True],\n",
              "        [True, True, True, True, True, True],\n",
              "        [True, True, True, True, True, True],\n",
              "        [True, True, True, True, True, True],\n",
              "        [True, True, True, True, True, True],\n",
              "        [True, True, True, True, True, True],\n",
              "        [True, True, True, True, True, True],\n",
              "        [True, True, True, True, True, True],\n",
              "        [True, True, True, True, True, True],\n",
              "        [True, True, True, True, True, True],\n",
              "        [True, True, True, True, True, True],\n",
              "        [True, True, True, True, True, True],\n",
              "        [True, True, True, True, True, True],\n",
              "        [True, True, True, True, True, True],\n",
              "        [True, True, True, True, True, True],\n",
              "        [True, True, True, True, True, True],\n",
              "        [True, True, True, True, True, True],\n",
              "        [True, True, True, True, True, True],\n",
              "        [True, True, True, True, True, True],\n",
              "        [True, True, True, True, True, True],\n",
              "        [True, True, True, True, True, True],\n",
              "        [True, True, True, True, True, True],\n",
              "        [True, True, True, True, True, True],\n",
              "        [True, True, True, True, True, True],\n",
              "        [True, True, True, True, True, True],\n",
              "        [True, True, True, True, True, True],\n",
              "        [True, True, True, True, True, True],\n",
              "        [True, True, True, True, True, True]])"
            ]
          },
          "metadata": {},
          "execution_count": 230
        }
      ]
    },
    {
      "cell_type": "markdown",
      "source": [
        "* Now, we got `32 by 6` dimension, so let's get our hidden layer's neuron values."
      ],
      "metadata": {
        "id": "Se51g0pd2-6T"
      }
    },
    {
      "cell_type": "code",
      "source": [
        "# So to get hidden layer\n",
        "h = emb.view(32, 6) @ W1 + b1\n",
        "h"
      ],
      "metadata": {
        "colab": {
          "base_uri": "https://localhost:8080/"
        },
        "id": "x3WY57Ir2p1l",
        "outputId": "13fbd6ee-6109-403a-98e1-37495dcbd3c9"
      },
      "execution_count": 231,
      "outputs": [
        {
          "output_type": "execute_result",
          "data": {
            "text/plain": [
              "tensor([[-0.0241,  1.3837, -1.3765,  ...,  0.3973,  0.9549,  0.5831],\n",
              "        [ 0.1414,  0.5774, -3.1235,  ...,  3.0990, -3.8356, -3.3684],\n",
              "        [-0.5245,  3.2761, -3.4990,  ...,  0.4203, -4.6711, -1.1944],\n",
              "        ...,\n",
              "        [-0.9545, -0.0647, -1.1249,  ...,  1.5703, -3.6707, -7.3845],\n",
              "        [-0.6669,  1.3210,  0.7691,  ...,  1.3316, -0.1826, -3.9273],\n",
              "        [-1.6776, -1.0416, -1.4647,  ..., -0.2865, -2.4095, -6.4584]])"
            ]
          },
          "metadata": {},
          "execution_count": 231
        }
      ]
    },
    {
      "cell_type": "code",
      "source": [
        "h.shape "
      ],
      "metadata": {
        "colab": {
          "base_uri": "https://localhost:8080/"
        },
        "id": "p8iN6BG828eT",
        "outputId": "3b8b1198-36a8-4ff3-8624-c37cae1d0401"
      },
      "execution_count": 232,
      "outputs": [
        {
          "output_type": "execute_result",
          "data": {
            "text/plain": [
              "torch.Size([32, 100])"
            ]
          },
          "metadata": {},
          "execution_count": 232
        }
      ]
    },
    {
      "cell_type": "markdown",
      "source": [
        "* 100 is `100 dimensional activations` for every one of 32 examples."
      ],
      "metadata": {
        "id": "xNA1XqLQ3NUv"
      }
    },
    {
      "cell_type": "markdown",
      "source": [
        "* Let's genralize our code and not hardcode it"
      ],
      "metadata": {
        "id": "qYa_M2Uz3Thi"
      }
    },
    {
      "cell_type": "code",
      "source": [
        "h = emb.view(emb.shape[0], 6) @ W1 + b1"
      ],
      "metadata": {
        "id": "ir6VXIGq3hyo"
      },
      "execution_count": 233,
      "outputs": []
    },
    {
      "cell_type": "code",
      "source": [
        "# We can also use code below, because 6 is understandable and -1, torch will derive that it should be total no. of examples.\n",
        "h = emb.view(-1, 6) @ W1 + b1"
      ],
      "metadata": {
        "id": "keGO2c4p3xV4"
      },
      "execution_count": 234,
      "outputs": []
    },
    {
      "cell_type": "markdown",
      "source": [
        "* `Note`: `concatenating` method is not efficient because it creates new tensor, takes new space in memory, not able to simply just manipulate the given tensor."
      ],
      "metadata": {
        "id": "Ar3zPW8W4cL7"
      }
    },
    {
      "cell_type": "markdown",
      "source": [
        "#### Giving Non-Linearity"
      ],
      "metadata": {
        "id": "-bEBRB-W481l"
      }
    },
    {
      "cell_type": "code",
      "source": [
        "h = torch.tanh(emb.view(-1, 6) @ W1 + b1)"
      ],
      "metadata": {
        "id": "voChBzDg5FwK"
      },
      "execution_count": 235,
      "outputs": []
    },
    {
      "cell_type": "code",
      "source": [
        "h"
      ],
      "metadata": {
        "colab": {
          "base_uri": "https://localhost:8080/"
        },
        "id": "ePhk12Am5NZ1",
        "outputId": "5c248899-88d1-47a6-f79e-b87ecfce1f5f"
      },
      "execution_count": 236,
      "outputs": [
        {
          "output_type": "execute_result",
          "data": {
            "text/plain": [
              "tensor([[-0.0241,  0.8818, -0.8802,  ...,  0.3776,  0.7420,  0.5249],\n",
              "        [ 0.1405,  0.5208, -0.9961,  ...,  0.9959, -0.9991, -0.9976],\n",
              "        [-0.4812,  0.9972, -0.9982,  ...,  0.3972, -0.9998, -0.8319],\n",
              "        ...,\n",
              "        [-0.7418, -0.0646, -0.8093,  ...,  0.9171, -0.9987, -1.0000],\n",
              "        [-0.5829,  0.8670,  0.6464,  ...,  0.8696, -0.1806, -0.9992],\n",
              "        [-0.9326, -0.7785, -0.8986,  ..., -0.2789, -0.9840, -1.0000]])"
            ]
          },
          "metadata": {},
          "execution_count": 236
        }
      ]
    },
    {
      "cell_type": "code",
      "source": [
        "h.shape"
      ],
      "metadata": {
        "colab": {
          "base_uri": "https://localhost:8080/"
        },
        "id": "O5-QKRoF5OOB",
        "outputId": "8ad48244-b304-4679-e6d2-675ffb8327dd"
      },
      "execution_count": 237,
      "outputs": [
        {
          "output_type": "execute_result",
          "data": {
            "text/plain": [
              "torch.Size([32, 100])"
            ]
          },
          "metadata": {},
          "execution_count": 237
        }
      ]
    },
    {
      "cell_type": "code",
      "source": [
        "(emb.view(-1, 6) @ W1).shape"
      ],
      "metadata": {
        "colab": {
          "base_uri": "https://localhost:8080/"
        },
        "id": "GOcb6gM35PrU",
        "outputId": "e4665d37-af80-451d-98ec-fd24205ef0cd"
      },
      "execution_count": 238,
      "outputs": [
        {
          "output_type": "execute_result",
          "data": {
            "text/plain": [
              "torch.Size([32, 100])"
            ]
          },
          "metadata": {},
          "execution_count": 238
        }
      ]
    },
    {
      "cell_type": "code",
      "source": [
        "b1.shape"
      ],
      "metadata": {
        "colab": {
          "base_uri": "https://localhost:8080/"
        },
        "id": "5YbDNu-V5Y_M",
        "outputId": "1a84801f-4ca8-46a8-e7c6-ba4e1d2264a2"
      },
      "execution_count": 239,
      "outputs": [
        {
          "output_type": "execute_result",
          "data": {
            "text/plain": [
              "torch.Size([100])"
            ]
          },
          "metadata": {},
          "execution_count": 239
        }
      ]
    },
    {
      "cell_type": "code",
      "source": [
        "# On adding b1, it is done by `Broadcasting`\n",
        "# 32, 100 (First term: X @ W1)\n",
        "#  1, 100 (Second term: b1) (after broadcasting) "
      ],
      "metadata": {
        "id": "2elGr1PF5aA4"
      },
      "execution_count": 240,
      "outputs": []
    },
    {
      "cell_type": "markdown",
      "source": [
        "* `Broadcasting` will align on the right create a fake dimension here so this will become a `1 by 100 row vector` and then it will copy vertically for every one of these `rows of 32` and do an `element wise addition.`"
      ],
      "metadata": {
        "id": "PAhmL0JN52vq"
      }
    },
    {
      "cell_type": "markdown",
      "source": [
        "* Same `bias vector` will be added to all the rows of this matrix."
      ],
      "metadata": {
        "id": "m7xjGY_L6h_h"
      }
    },
    {
      "cell_type": "markdown",
      "source": [
        "#### Creating Final layer"
      ],
      "metadata": {
        "id": "57NGe4mR64YP"
      }
    },
    {
      "cell_type": "code",
      "source": [
        "W2 = torch.randn((100, 27))\n",
        "b2 = torch.randn(27 )"
      ],
      "metadata": {
        "id": "aQ16dwnjKDTe"
      },
      "execution_count": 241,
      "outputs": []
    },
    {
      "cell_type": "code",
      "source": [
        "#Outputs of this neural net\n",
        "logits = h @ W2 + b2"
      ],
      "metadata": {
        "id": "AXejnaJMKOLz"
      },
      "execution_count": 242,
      "outputs": []
    },
    {
      "cell_type": "code",
      "source": [
        "logits.shape"
      ],
      "metadata": {
        "colab": {
          "base_uri": "https://localhost:8080/"
        },
        "id": "ugY_RmnNKarS",
        "outputId": "7f5ba0a3-ded5-4097-d69e-b13bfe447928"
      },
      "execution_count": 243,
      "outputs": [
        {
          "output_type": "execute_result",
          "data": {
            "text/plain": [
              "torch.Size([32, 27])"
            ]
          },
          "metadata": {},
          "execution_count": 243
        }
      ]
    },
    {
      "cell_type": "markdown",
      "source": [
        "#### Implementing The negative log likelihood loss\n"
      ],
      "metadata": {
        "id": "UhEWdG_jKdI5"
      }
    },
    {
      "cell_type": "code",
      "source": [
        "counts = logits.exp() # Exponentiate our logits to get our fake counts."
      ],
      "metadata": {
        "id": "eLWAxZlIKsiR"
      },
      "execution_count": 244,
      "outputs": []
    },
    {
      "cell_type": "code",
      "source": [
        "# Now we normalize them into probability\n",
        "prob = counts / counts.sum(1, keepdims=True)"
      ],
      "metadata": {
        "id": "uFW1A-hcKyBF"
      },
      "execution_count": 245,
      "outputs": []
    },
    {
      "cell_type": "markdown",
      "source": [
        "* This is in simple terms - `softmax`"
      ],
      "metadata": {
        "id": "K4rkcxa1LPad"
      }
    },
    {
      "cell_type": "code",
      "source": [
        "prob.shape # still same as logits"
      ],
      "metadata": {
        "colab": {
          "base_uri": "https://localhost:8080/"
        },
        "id": "lisWw2i5LGVw",
        "outputId": "f8dad13f-a3c1-4c57-f8af-373ac09bc7bd"
      },
      "execution_count": 246,
      "outputs": [
        {
          "output_type": "execute_result",
          "data": {
            "text/plain": [
              "torch.Size([32, 27])"
            ]
          },
          "metadata": {},
          "execution_count": 246
        }
      ]
    },
    {
      "cell_type": "code",
      "source": [
        "prob[0].sum() # So for each example input sum of all outputs is now 1 (due to the use of softmax)"
      ],
      "metadata": {
        "colab": {
          "base_uri": "https://localhost:8080/"
        },
        "id": "WzJhurEfLMpf",
        "outputId": "aaf440c4-8149-43f6-eb32-1f1fde0a0d4d"
      },
      "execution_count": 247,
      "outputs": [
        {
          "output_type": "execute_result",
          "data": {
            "text/plain": [
              "tensor(1.)"
            ]
          },
          "metadata": {},
          "execution_count": 247
        }
      ]
    },
    {
      "cell_type": "code",
      "source": [
        "prob[torch.arange(32), Y] # This is the predicted probability of the observed output."
      ],
      "metadata": {
        "colab": {
          "base_uri": "https://localhost:8080/"
        },
        "id": "H-QfcUm0MC9H",
        "outputId": "a311e2ad-34f7-4371-b1eb-c8e55b5e50cb"
      },
      "execution_count": 248,
      "outputs": [
        {
          "output_type": "execute_result",
          "data": {
            "text/plain": [
              "tensor([1.5858e-12, 7.2897e-01, 4.7410e-07, 5.7994e-08, 5.9153e-05, 8.2976e-13,\n",
              "        5.6248e-07, 9.9731e-01, 7.0810e-08, 1.0881e-08, 2.8577e-11, 1.2450e-06,\n",
              "        4.3707e-10, 2.8589e-07, 2.8110e-12, 9.2882e-01, 5.6399e-16, 2.6893e-08,\n",
              "        6.3144e-05, 1.8449e-09, 2.0518e-08, 1.7554e-07, 6.2194e-13, 4.2581e-04,\n",
              "        2.1704e-03, 2.5856e-10, 1.2707e-01, 1.3202e-07, 6.6155e-08, 6.6503e-01,\n",
              "        1.9468e-04, 3.7215e-07])"
            ]
          },
          "metadata": {},
          "execution_count": 248
        }
      ]
    },
    {
      "cell_type": "markdown",
      "source": [
        "* `torch.arange(32)` which will iterate the rows and in each row we will like to grab this column as given by `Y`"
      ],
      "metadata": {
        "id": "S_tFemxOMWGc"
      }
    },
    {
      "cell_type": "code",
      "source": [
        "torch.arange(32) # Kind of iterator over numbers from 0 to 31 # we will use to iterate the rows."
      ],
      "metadata": {
        "colab": {
          "base_uri": "https://localhost:8080/"
        },
        "id": "uwrxDJaBL4ez",
        "outputId": "6e6ce837-accd-4f39-93ff-7de35397d794"
      },
      "execution_count": 249,
      "outputs": [
        {
          "output_type": "execute_result",
          "data": {
            "text/plain": [
              "tensor([ 0,  1,  2,  3,  4,  5,  6,  7,  8,  9, 10, 11, 12, 13, 14, 15, 16, 17,\n",
              "        18, 19, 20, 21, 22, 23, 24, 25, 26, 27, 28, 29, 30, 31])"
            ]
          },
          "metadata": {},
          "execution_count": 249
        }
      ]
    },
    {
      "cell_type": "code",
      "source": [
        "# actual letter that has to come\n",
        "Y"
      ],
      "metadata": {
        "colab": {
          "base_uri": "https://localhost:8080/"
        },
        "id": "x9pwM76mLadA",
        "outputId": "b6743bd3-e04c-422f-cd8c-862131fe216b"
      },
      "execution_count": 250,
      "outputs": [
        {
          "output_type": "execute_result",
          "data": {
            "text/plain": [
              "tensor([ 5, 13, 13,  1,  0, 15, 12,  9, 22,  9,  1,  0,  1, 22,  1,  0,  9, 19,\n",
              "         1,  2,  5, 12, 12,  1,  0, 19, 15, 16,  8,  9,  1,  0])"
            ]
          },
          "metadata": {},
          "execution_count": 250
        }
      ]
    },
    {
      "cell_type": "code",
      "source": [
        "prob[torch.arange(32), Y] # This is the predicted probability of the observed outputs we wanted.\n"
      ],
      "metadata": {
        "id": "esvhYtabLy_3",
        "colab": {
          "base_uri": "https://localhost:8080/"
        },
        "outputId": "9746bebc-f2af-4013-dc9a-64d9c8f78a99"
      },
      "execution_count": 251,
      "outputs": [
        {
          "output_type": "execute_result",
          "data": {
            "text/plain": [
              "tensor([1.5858e-12, 7.2897e-01, 4.7410e-07, 5.7994e-08, 5.9153e-05, 8.2976e-13,\n",
              "        5.6248e-07, 9.9731e-01, 7.0810e-08, 1.0881e-08, 2.8577e-11, 1.2450e-06,\n",
              "        4.3707e-10, 2.8589e-07, 2.8110e-12, 9.2882e-01, 5.6399e-16, 2.6893e-08,\n",
              "        6.3144e-05, 1.8449e-09, 2.0518e-08, 1.7554e-07, 6.2194e-13, 4.2581e-04,\n",
              "        2.1704e-03, 2.5856e-10, 1.2707e-01, 1.3202e-07, 6.6155e-08, 6.6503e-01,\n",
              "        1.9468e-04, 3.7215e-07])"
            ]
          },
          "metadata": {},
          "execution_count": 251
        }
      ]
    },
    {
      "cell_type": "markdown",
      "source": [
        "* Now, taking it's `negative log likelihood`, that is `cross entropy loss`"
      ],
      "metadata": {
        "id": "8tbc_uPxNwK4"
      }
    },
    {
      "cell_type": "code",
      "source": [
        "loss = -prob[torch.arange(32), Y].log().mean()"
      ],
      "metadata": {
        "id": "LW30_VHBN6z4"
      },
      "execution_count": 252,
      "outputs": []
    },
    {
      "cell_type": "code",
      "source": [
        "loss # that we want to minimize"
      ],
      "metadata": {
        "colab": {
          "base_uri": "https://localhost:8080/"
        },
        "id": "PWoBFtgbOONe",
        "outputId": "5b22ec14-6028-4444-9b09-5a26884254e9"
      },
      "execution_count": 253,
      "outputs": [
        {
          "output_type": "execute_result",
          "data": {
            "text/plain": [
              "tensor(15.1397)"
            ]
          },
          "metadata": {},
          "execution_count": 253
        }
      ]
    },
    {
      "cell_type": "markdown",
      "source": [
        "#### Summary"
      ],
      "metadata": {
        "id": "TWmQH2xrOR2Q"
      }
    },
    {
      "cell_type": "code",
      "source": [
        "X.shape, Y.shape # dataset"
      ],
      "metadata": {
        "colab": {
          "base_uri": "https://localhost:8080/"
        },
        "id": "uymLaSlAOXWJ",
        "outputId": "7e70cbd5-c2b5-4793-9b41-e85c23636dfb"
      },
      "execution_count": 254,
      "outputs": [
        {
          "output_type": "execute_result",
          "data": {
            "text/plain": [
              "(torch.Size([32, 3]), torch.Size([32]))"
            ]
          },
          "metadata": {},
          "execution_count": 254
        }
      ]
    },
    {
      "cell_type": "code",
      "source": [
        "g = torch.Generator().manual_seed(2147483647) # for reproducibility\n",
        "C = torch.randn((27, 2), generator=g)\n",
        "W1 = torch.randn((6, 100), generator=g)\n",
        "b1 = torch.randn(100, generator=g)\n",
        "W2 = torch.randn((100, 27), generator=g)\n",
        "b2 = torch.randn(27, generator=g)\n",
        "parameters = [C, W1, b1, W2, b2]"
      ],
      "metadata": {
        "id": "bois5UFjObm7"
      },
      "execution_count": 255,
      "outputs": []
    },
    {
      "cell_type": "code",
      "source": [
        "sum(p.nelement() for p in parameters) # number of parameters in total"
      ],
      "metadata": {
        "colab": {
          "base_uri": "https://localhost:8080/"
        },
        "id": "LBIRw2DtPRnH",
        "outputId": "f1fc6b44-3ebb-42bd-cf22-687bf3ef6d1b"
      },
      "execution_count": 256,
      "outputs": [
        {
          "output_type": "execute_result",
          "data": {
            "text/plain": [
              "3481"
            ]
          },
          "metadata": {},
          "execution_count": 256
        }
      ]
    },
    {
      "cell_type": "code",
      "source": [
        "emb = C[X] # (32, 3, 2)\n",
        "h = torch.tanh(emb.view(-1, 6) @ W1 + b1) # (32, 100)\n",
        "logits = h @ W2 + b2 # (32, 27)\n",
        "counts = logits.exp()\n",
        "prob = counts / counts.sum(1, keepdims=True)\n",
        "loss = -prob[torch.arange(32), Y].log().mean()\n",
        "loss"
      ],
      "metadata": {
        "colab": {
          "base_uri": "https://localhost:8080/"
        },
        "id": "RixAf9i_Pe8n",
        "outputId": "995a0692-b347-43de-e619-e4b3cf3d9952"
      },
      "execution_count": 257,
      "outputs": [
        {
          "output_type": "execute_result",
          "data": {
            "text/plain": [
              "tensor(17.7697)"
            ]
          },
          "metadata": {},
          "execution_count": 257
        }
      ]
    },
    {
      "cell_type": "code",
      "source": [
        "# counts = logits.exp()\n",
        "# prob = counts / counts.sum(1, keepdims=True)\n",
        "# loss = -prob[torch.arange(32), Y].log().mean()\n",
        "\n",
        "# above code can be replaced by :-\n",
        "F.cross_entropy(logits, Y)"
      ],
      "metadata": {
        "colab": {
          "base_uri": "https://localhost:8080/"
        },
        "id": "JdEPv8jxQQGw",
        "outputId": "d677b88d-b5d3-48a6-916b-0353180333f4"
      },
      "execution_count": 258,
      "outputs": [
        {
          "output_type": "execute_result",
          "data": {
            "text/plain": [
              "tensor(17.7697)"
            ]
          },
          "metadata": {},
          "execution_count": 258
        }
      ]
    },
    {
      "cell_type": "markdown",
      "source": [
        "* Same as `loss`\n",
        "* Use always `F.cross_entropy()` because:\n",
        "  * torch will `not create intermediate tensors` such as counts, prob, loss.\n",
        "  * pytorch will `cluster all these operations`.\n",
        "  * `backward` pass can be made much more efficient and not just because it's a `fused kernel` but also analytically and mathematically it's much more efficient, simpler backward pass to implement."
      ],
      "metadata": {
        "id": "jlkyXbVmQmsO"
      }
    },
    {
      "cell_type": "markdown",
      "source": [
        "* If we had like `logits = torch.tensor([-5, -3, 0, 100])` pytorch will subtract this expression by 100 that is `logits = torch.tensor([-5, -3, 0, 100]) - 100` soo that max. num 100 will become zero and all other will become some negative number, So result of `cross entropy` will be as expected.\n",
        "* `Note:` Subtracting any number to this logits will not effect values of `cross entropy`"
      ],
      "metadata": {
        "id": "mJZJJpliSjL0"
      }
    },
    {
      "cell_type": "markdown",
      "source": [
        "* `Summarizing all this :`"
      ],
      "metadata": {
        "id": "CtSQjOxkQpon"
      }
    },
    {
      "cell_type": "code",
      "source": [
        "for p in parameters:\n",
        "  p.requires_grad = True # Telling pytorch that we will use gradient descent method to learn our model."
      ],
      "metadata": {
        "id": "KoVxLcfNVmJc"
      },
      "execution_count": 259,
      "outputs": []
    },
    {
      "cell_type": "code",
      "source": [
        "for _ in range(1000): # No. of epochs you want:\n",
        "  # forward pass\n",
        "  emb = C[X] # (32, 3, 2)\n",
        "  h = torch.tanh(emb.view(32, 6) @ W1 + b1) # (32, 100)\n",
        "  logits = h @ W2 + b2 # (32, 27)\n",
        "  loss = F.cross_entropy(logits, Y)\n",
        "  # print(loss.item())\n",
        "\n",
        "  # backward pass\n",
        "  for p in parameters:\n",
        "    p.grad = None\n",
        "  loss.backward()\n",
        "  # UPDATE\n",
        "  for p in parameters:\n",
        "    p.data += -0.1 * p.grad \n",
        "\n",
        "print(loss.item())"
      ],
      "metadata": {
        "colab": {
          "base_uri": "https://localhost:8080/"
        },
        "id": "4HnAnva3TnmD",
        "outputId": "316115d6-160b-4636-8b71-f84f229e8899"
      },
      "execution_count": 260,
      "outputs": [
        {
          "output_type": "stream",
          "name": "stdout",
          "text": [
            "0.2561509907245636\n"
          ]
        }
      ]
    },
    {
      "cell_type": "markdown",
      "source": [
        "* This feels so straight forward because we are only over fitting `32 examples`, with only `5 words`"
      ],
      "metadata": {
        "id": "SUQHQVLYVQJq"
      }
    },
    {
      "cell_type": "code",
      "source": [
        "logits.max(1) # max reports both the actual values that take on the maximum number but also the indices of it "
      ],
      "metadata": {
        "colab": {
          "base_uri": "https://localhost:8080/"
        },
        "id": "8F0W70PMWVCY",
        "outputId": "d017cb39-7c50-482c-b979-40a4fdc4f758"
      },
      "execution_count": 261,
      "outputs": [
        {
          "output_type": "execute_result",
          "data": {
            "text/plain": [
              "torch.return_types.max(\n",
              "values=tensor([13.3437, 17.7879, 20.5832, 20.6042, 16.7390, 13.3437, 15.9747, 14.1889,\n",
              "        15.9158, 18.3894, 15.9409, 20.9284, 13.3437, 17.1212, 17.1498, 20.0637,\n",
              "        13.3437, 16.4564, 15.1328, 17.0537, 18.5905, 15.9655, 10.8739, 10.6874,\n",
              "        15.5062, 13.3437, 16.2394, 16.9563, 12.7426, 16.2141, 19.0840, 16.0213],\n",
              "       grad_fn=<MaxBackward0>),\n",
              "indices=tensor([ 9, 13, 13,  1,  0,  9, 12,  9, 22,  9,  1,  0,  9, 22,  1,  0,  9, 19,\n",
              "         1,  2,  5, 12, 12,  1,  0,  9, 15, 16,  8,  9,  1,  0]))"
            ]
          },
          "metadata": {},
          "execution_count": 261
        }
      ]
    },
    {
      "cell_type": "markdown",
      "source": [
        "* you will notice indices are very close to the labels but in some cases they differ."
      ],
      "metadata": {
        "id": "tLgHcjfXWu3s"
      }
    },
    {
      "cell_type": "code",
      "source": [
        "Y"
      ],
      "metadata": {
        "colab": {
          "base_uri": "https://localhost:8080/"
        },
        "id": "prhkzifUW8aQ",
        "outputId": "563da4f2-f959-4cbe-d3ff-f29a42395844"
      },
      "execution_count": 262,
      "outputs": [
        {
          "output_type": "execute_result",
          "data": {
            "text/plain": [
              "tensor([ 5, 13, 13,  1,  0, 15, 12,  9, 22,  9,  1,  0,  1, 22,  1,  0,  9, 19,\n",
              "         1,  2,  5, 12, 12,  1,  0, 19, 15, 16,  8,  9,  1,  0])"
            ]
          },
          "metadata": {},
          "execution_count": 262
        }
      ]
    },
    {
      "cell_type": "markdown",
      "source": [
        " * Now we will read in full data set and optimize our neural net."
      ],
      "metadata": {
        "id": "1Vf_BNm1W_vY"
      }
    },
    {
      "cell_type": "markdown",
      "source": [
        "## Creating Neural Net for Full data-set."
      ],
      "metadata": {
        "id": "6T4Ke6vNXUTm"
      }
    },
    {
      "cell_type": "code",
      "source": [
        "# build the dataset\n",
        "block_size = 3 # context length: how many characters do we take to predict the next one?\n",
        "\n",
        "\n",
        "X, Y = [], []\n",
        "for w in words:\n",
        "\n",
        "  #print(w)\n",
        "  context = [0] * block_size # [0, 0, 0] for block_size = 3\n",
        "  for ch in w + '.':\n",
        "    ix = stoi[ch]\n",
        "    X.append(context)\n",
        "    Y.append(ix)\n",
        "    #print(''.join(itos[i] for i in context), '--->', itos[ix])\n",
        "    context = context[1:] + [ix] # crop and append\n",
        "\n",
        "X = torch.tensor(X)\n",
        "Y = torch.tensor(Y)"
      ],
      "metadata": {
        "id": "_Co1aZTjXgVO"
      },
      "execution_count": 263,
      "outputs": []
    },
    {
      "cell_type": "code",
      "source": [
        "X.shape, X.dtype, Y.shape, Y.dtype"
      ],
      "metadata": {
        "colab": {
          "base_uri": "https://localhost:8080/"
        },
        "id": "M64ftSR6YUN3",
        "outputId": "a3ac3653-80d6-44ef-aecf-ae875c30e2ef"
      },
      "execution_count": 264,
      "outputs": [
        {
          "output_type": "execute_result",
          "data": {
            "text/plain": [
              "(torch.Size([228146, 3]), torch.int64, torch.Size([228146]), torch.int64)"
            ]
          },
          "metadata": {},
          "execution_count": 264
        }
      ]
    },
    {
      "cell_type": "code",
      "source": [
        "g = torch.Generator().manual_seed(2147483647) # for reproducibility\n",
        "C = torch.randn((27, 2), generator=g) # Going to embed each column of each row of X :[228146, 3]\n",
        "W1 = torch.randn((6, 100), generator=g) # For each of 228146 rows of X (228146 examples), there are 6 inputs (features) after embedding with C[X].\n",
        "b1 = torch.randn(100, generator=g) # Because in first hidden layer there are 100 neurons (due to W1), so 100 bias will be needed.\n",
        "W2 = torch.randn((100, 27), generator=g) # for last layer (27 outputs, so 27 neurons needed), coming from hidden layer of 100 neurons.\n",
        "b2 = torch.randn(27, generator=g) # for 27 neurons of last layer, 27 bias will be needed.\n",
        "parameters = [C, W1, b1, W2, b2] # all the parameters we used to build our neural net."
      ],
      "metadata": {
        "id": "qV-NuCYkYUhH"
      },
      "execution_count": 265,
      "outputs": []
    },
    {
      "cell_type": "code",
      "source": [
        "sum(p.nelement() for p in parameters) # number of parameters in total"
      ],
      "metadata": {
        "colab": {
          "base_uri": "https://localhost:8080/"
        },
        "id": "-3RpMZ0GZ_3i",
        "outputId": "890ee747-5e9d-49a6-ac63-60b066bd732f"
      },
      "execution_count": 266,
      "outputs": [
        {
          "output_type": "execute_result",
          "data": {
            "text/plain": [
              "3481"
            ]
          },
          "metadata": {},
          "execution_count": 266
        }
      ]
    },
    {
      "cell_type": "code",
      "source": [
        "for p in parameters:\n",
        "  p.requires_grad = True # Telling pytorch that we will use gradient descent method to learn our model."
      ],
      "metadata": {
        "id": "C1nN3YRraEVI"
      },
      "execution_count": 267,
      "outputs": []
    },
    {
      "cell_type": "code",
      "source": [
        "for _ in range(10): # No. of epochs you want:\n",
        "  \n",
        "  # forward pass\n",
        "  emb = C[X] # (228146, 3, 2) # 228146 different examples -> having 3 characters each -> each character has 2 features after embedding.\n",
        "  # So each example in total has total 3 * 2 = 6 features.\n",
        "  h = torch.tanh(emb.view(-1, 6) @ W1 + b1) # (228146, 100) # 6 features of each goes to (6 weights for 6 features, 100 neurons of first hidden layer) W1.\n",
        "  # with 100 bias b1 for each of 100 neurons. # h is the 100 neurons values of first hidden layer, for each of 228146 examples.\n",
        "  logits = h @ W2 + b2 # (228146, 27) # logits are 27 outputs after giving 6 features as input, for each of 228146 examples.\n",
        "  loss = F.cross_entropy(logits, Y) # Loss is total calculated cross-entropy for all 228146 examples.\n",
        "  # NOTE: For each example, cross-entropy is calculated only for the output that we wanted, out of 27 outputs.\n",
        "  # print(loss.item())\n",
        "\n",
        "  # backward pass\n",
        "  for p in parameters:\n",
        "    p.grad = None\n",
        "  loss.backward()\n",
        "  # UPDATE\n",
        "  for p in parameters:\n",
        "    p.data += -0.1 * p.grad \n",
        "\n",
        "print(loss.item())"
      ],
      "metadata": {
        "colab": {
          "base_uri": "https://localhost:8080/"
        },
        "id": "HJRMfZipaQ9p",
        "outputId": "9fd78668-27ce-4273-a281-9aa66f067733"
      },
      "execution_count": 268,
      "outputs": [
        {
          "output_type": "stream",
          "name": "stdout",
          "text": [
            "11.051856994628906\n"
          ]
        }
      ]
    },
    {
      "cell_type": "markdown",
      "source": [
        "* In practice, we perform `forward pass` and  `backward pass` and `update` on `many batches of data`, So `to increase the computational` speed of the model."
      ],
      "metadata": {
        "id": "N1HonKrXdr93"
      }
    },
    {
      "cell_type": "markdown",
      "source": [
        "* So, we will randomly select some portion of the data set and `that's a mini batch` and then only forward, backward and update on that little mini batch.\n",
        "and `then we iterate on those many batches`."
      ],
      "metadata": {
        "id": "If1WnD7qegpR"
      }
    },
    {
      "cell_type": "markdown",
      "source": [
        "* `torch.randint`: we can generate numbers randomly between two numbers and N number of them."
      ],
      "metadata": {
        "id": "28k88I2Qe9Xc"
      }
    },
    {
      "cell_type": "code",
      "source": [
        "# example\n",
        "torch.randint(0, 5, (32, )) # size is given as tuple: (32,)"
      ],
      "metadata": {
        "colab": {
          "base_uri": "https://localhost:8080/"
        },
        "id": "Y6NsMuK6fWTy",
        "outputId": "9e40a212-d598-48cb-af41-d2e3a6903b02"
      },
      "execution_count": 269,
      "outputs": [
        {
          "output_type": "execute_result",
          "data": {
            "text/plain": [
              "tensor([3, 4, 3, 1, 4, 2, 1, 1, 4, 1, 1, 2, 3, 0, 1, 4, 1, 3, 2, 3, 2, 4, 1, 2,\n",
              "        1, 2, 1, 1, 4, 3, 2, 2])"
            ]
          },
          "metadata": {},
          "execution_count": 269
        }
      ]
    },
    {
      "cell_type": "code",
      "source": [
        "for _ in range(100): # No. of epochs you want:\n",
        "\n",
        "  # mini-batch construct\n",
        "  ix = torch.randint(0, X.shape[0], (32,)) # will generate any of the 228146 rows index randomly, and 32 of them.\n",
        "  \n",
        "  # forward pass\n",
        "  emb = C[X[ix]] # (32, 3, 2) # X[ix] will become a tensor of (32, 3).\n",
        "  # 32 different examples -> having 3 characters each -> each character has 2 features after embedding.\n",
        "  # So each example in total has total 3 * 2 = 6 features.\n",
        "  h = torch.tanh(emb.view(-1, 6) @ W1 + b1) # (32, 100) # 6 features of each goes to (6 weights for 6 features, 100 neurons of first hidden layer) W1.\n",
        "  # with 100 bias b1 for each of 100 neurons. # h is the 100 neurons values of first hidden layer, for each of 32 examples.\n",
        "  logits = h @ W2 + b2 # (32, 27) # logits are 27 outputs after giving 6 features as input, for each of 32 examples.\n",
        "  loss = F.cross_entropy(logits, Y[ix]) # Loss is total calculated cross-entropy for all 32 examples, that we randomly selected initially by X[ix].\n",
        "  # NOTE: For each example, cross-entropy is calculated only for the output that we wanted, out of 27 outputs.\n",
        "  # print(loss.item())\n",
        "\n",
        "  # backward pass\n",
        "  for p in parameters:\n",
        "    p.grad = None\n",
        "  loss.backward()\n",
        "  # UPDATE\n",
        "  for p in parameters:\n",
        "    p.data += -0.1 * p.grad \n",
        "\n",
        "print(loss.item())"
      ],
      "metadata": {
        "colab": {
          "base_uri": "https://localhost:8080/"
        },
        "id": "b9zVYRJEfh3M",
        "outputId": "a77774fa-331a-4723-ad0d-19d255f4bba4"
      },
      "execution_count": 270,
      "outputs": [
        {
          "output_type": "stream",
          "name": "stdout",
          "text": [
            "2.4938864707946777\n"
          ]
        }
      ]
    },
    {
      "cell_type": "markdown",
      "source": [
        "* `Note:` Here loss is of 32 examples."
      ],
      "metadata": {
        "id": "rhK_CxipiYD2"
      }
    },
    {
      "cell_type": "markdown",
      "source": [
        "* Due to increasing `computational speed` by mini-batch, `quality of our gradients is lower.`"
      ],
      "metadata": {
        "id": "Gw-FEs0Yg0A-"
      }
    },
    {
      "cell_type": "markdown",
      "source": [
        "* Direction is not as reliable , it's `not the actual gradient direction` but the gradient direction is good enough even when it's estimating on only 32 examples, that it is useful.\n",
        "* So, it's much better to have `approximate gradient` and just make more steps `than` it is `to evaluate the exact gradient` and take fewer steps. "
      ],
      "metadata": {
        "id": "3HsNc5u3hSDY"
      }
    },
    {
      "cell_type": "code",
      "source": [
        "# Calculating loss for all the 228146 examples\n",
        "emb = C[X] # (228146, 3, 2)\n",
        "h = torch.tanh(emb.view(-1, 6) @ W1 + b1) # (228146, 100)\n",
        "logits = h @ W2 + b2 # (228146, 27)\n",
        "loss = F.cross_entropy(logits, Y)\n",
        "loss"
      ],
      "metadata": {
        "colab": {
          "base_uri": "https://localhost:8080/"
        },
        "id": "u3VBdXmOiCD1",
        "outputId": "2dfe0962-8018-4167-f206-bd799af5e8fa"
      },
      "execution_count": 271,
      "outputs": [
        {
          "output_type": "execute_result",
          "data": {
            "text/plain": [
              "tensor(3.5871, grad_fn=<NllLossBackward0>)"
            ]
          },
          "metadata": {},
          "execution_count": 271
        }
      ]
    },
    {
      "cell_type": "markdown",
      "source": [
        "* We have one issue: we don't know we are stepping too slow or too fast."
      ],
      "metadata": {
        "id": "8n8TSCmCivET"
      }
    },
    {
      "cell_type": "markdown",
      "source": [
        "#### How to determine the best learning rate:"
      ],
      "metadata": {
        "id": "g3aS75GEjKvN"
      }
    },
    {
      "cell_type": "code",
      "source": [
        "g = torch.Generator().manual_seed(2147483647) # for reproducibility\n",
        "C = torch.randn((27, 2), generator=g) # Going to embed each column of each row of X :[228146, 3]\n",
        "W1 = torch.randn((6, 100), generator=g) # For each of 228146 rows of X (228146 examples), there are 6 inputs (features) after embedding with C[X].\n",
        "b1 = torch.randn(100, generator=g) # Because in first hidden layer there are 100 neurons (due to W1), so 100 bias will be needed.\n",
        "W2 = torch.randn((100, 27), generator=g) # for last layer (27 outputs, so 27 neurons needed), coming from hidden layer of 100 neurons.\n",
        "b2 = torch.randn(27, generator=g) # for 27 neurons of last layer, 27 bias will be needed.\n",
        "parameters = [C, W1, b1, W2, b2] # all the parameters we used to build our neural net."
      ],
      "metadata": {
        "id": "OEF_FfX6xaYo"
      },
      "execution_count": 272,
      "outputs": []
    },
    {
      "cell_type": "code",
      "source": [
        "for p in parameters:\n",
        "  p.requires_grad = True # Telling pytorch that we will use gradient descent method to learn our model."
      ],
      "metadata": {
        "id": "aFmm8gjZxfQ4"
      },
      "execution_count": 273,
      "outputs": []
    },
    {
      "cell_type": "code",
      "source": [
        "# defining different learning rates between 0.001 and 1.\n",
        "lre = torch.linspace(-3, 0, 1000) # 1000 numbers\n",
        "lrs = 10**lre"
      ],
      "metadata": {
        "id": "oJwZFrZcjPF7"
      },
      "execution_count": 274,
      "outputs": []
    },
    {
      "cell_type": "code",
      "source": [
        "lri = []\n",
        "lossi = []\n",
        "\n",
        "for i in range(1000):\n",
        "  \n",
        "  # minibatch construct\n",
        "  ix = torch.randint(0, X.shape[0], (32,))\n",
        "  \n",
        "  # forward pass\n",
        "  emb = C[X[ix]] # (32, 3, 2)\n",
        "  h = torch.tanh(emb.view(-1, 6) @ W1 + b1) # (32, 100)\n",
        "  logits = h @ W2 + b2 # (32, 27)\n",
        "  loss = F.cross_entropy(logits, Y[ix])\n",
        "  print(loss.item())\n",
        "  \n",
        "  # backward pass\n",
        "  for p in parameters:\n",
        "    p.grad = None\n",
        "  loss.backward()\n",
        "  \n",
        "  # update\n",
        "  lr = lrs[i]\n",
        "  # lr = 0.01 \n",
        "  for p in parameters:\n",
        "    p.data += -lr * p.grad\n",
        "\n",
        "  # track stats\n",
        "  lri.append(lr)\n",
        "\n",
        "  lossi.append(loss.item())\n",
        "\n",
        "#print(loss.item())"
      ],
      "metadata": {
        "id": "NWwVgNGgsEON"
      },
      "execution_count": null,
      "outputs": []
    },
    {
      "cell_type": "code",
      "source": [
        "\n",
        "plt.plot(lri, lossi)"
      ],
      "metadata": {
        "colab": {
          "base_uri": "https://localhost:8080/",
          "height": 286
        },
        "id": "B6cdwJjdtYzM",
        "outputId": "2453219d-0baf-4011-8706-b4fa13fb0dbc"
      },
      "execution_count": 276,
      "outputs": [
        {
          "output_type": "execute_result",
          "data": {
            "text/plain": [
              "[<matplotlib.lines.Line2D at 0x7f15718464f0>]"
            ]
          },
          "metadata": {},
          "execution_count": 276
        },
        {
          "output_type": "display_data",
          "data": {
            "text/plain": [
              "<Figure size 432x288 with 1 Axes>"
            ],
            "image/png": "[encoded data removed]"
          },
          "metadata": {
            "needs_background": "light"
          }
        }
      ]
    },
    {
      "cell_type": "markdown",
      "source": [
        "* This shows our learning rate is best around 0.1"
      ],
      "metadata": {
        "id": "WatapPs2wddV"
      }
    },
    {
      "cell_type": "markdown",
      "source": [
        "* Note that more the loss is close to zero, more it is `overfitting`.\n",
        "* So in practice, in general, It is required to `split up your dataset` into three splits as we call them, `training split`, `dev split/validation split` and third, `test split`.  "
      ],
      "metadata": {
        "id": "Zk0rduXwqxPt"
      }
    },
    {
      "cell_type": "markdown",
      "source": [
        "* We can split them for example in `80%, 10%, 10%` respectively."
      ],
      "metadata": {
        "id": "Y84x84O0sClx"
      }
    },
    {
      "cell_type": "markdown",
      "source": [
        "* `training split`: To train parameters.\n",
        "* `validation split`: To train hyperparameters.\n",
        "* `test split`: To evaluate performance of our model at the end."
      ],
      "metadata": {
        "id": "An3Y2-XksRej"
      }
    },
    {
      "cell_type": "markdown",
      "source": [
        "* we can do `other things to improve our model`:\n",
        "  * we can increase `embedding neurons from 2 to any other number`\n",
        "  * we can increase `neurons` in the hidden layers.\n",
        "  * Determine the `learning rate`.\n",
        "  * `Optimize the size of mini-batch`, so our loss decreases smoothly with every step `(epoch)`."
      ],
      "metadata": {
        "id": "sTnOKgpXssHM"
      }
    },
    {
      "cell_type": "markdown",
      "source": [
        "## Our Fully Fledged MLP model to learn approx. 32,000 names to predict names."
      ],
      "metadata": {
        "id": "WTceDeJr1GNP"
      }
    },
    {
      "cell_type": "code",
      "source": [
        "# build the dataset\n",
        "block_size = 3 # context length: how many characters do we take to predict the next one?\n",
        "\n",
        "def build_dataset(words):\n",
        "  X, Y = [], []\n",
        "  for w in words:\n",
        "\n",
        "    #print(w)\n",
        "    context = [0] * block_size\n",
        "    for ch in w + '.':\n",
        "      ix = stoi[ch]\n",
        "      X.append(context)\n",
        "      Y.append(ix)\n",
        "      #print(''.join(itos[i] for i in context), '--->', itos[ix])\n",
        "      context = context[1:] + [ix] # crop and append\n",
        "\n",
        "  X = torch.tensor(X)\n",
        "  Y = torch.tensor(Y)\n",
        "  print(X.shape, Y.shape)\n",
        "  return X, Y\n",
        "\n",
        "import random\n",
        "random.seed(42)\n",
        "random.shuffle(words)\n",
        "n1 = int(0.8*len(words))\n",
        "n2 = int(0.9*len(words))\n",
        "\n",
        "Xtr, Ytr = build_dataset(words[:n1]) # training dataset\n",
        "Xdev, Ydev = build_dataset(words[n1:n2]) # validation dataset\n",
        "Xte, Yte = build_dataset(words[n2:]) # test dataset"
      ],
      "metadata": {
        "colab": {
          "base_uri": "https://localhost:8080/"
        },
        "id": "MtLm1wI91XMk",
        "outputId": "b0b34262-a255-4923-f7d2-349213ae180b"
      },
      "execution_count": 303,
      "outputs": [
        {
          "output_type": "stream",
          "name": "stdout",
          "text": [
            "torch.Size([182437, 3]) torch.Size([182437])\n",
            "torch.Size([22781, 3]) torch.Size([22781])\n",
            "torch.Size([22928, 3]) torch.Size([22928])\n"
          ]
        }
      ]
    },
    {
      "cell_type": "code",
      "source": [
        "g = torch.Generator().manual_seed(2147483647) # for reproducibility\n",
        "C = torch.randn((27, 10), generator=g) # each character splitting into 10 different features (embedding)\n",
        "W1 = torch.randn((30, 200), generator=g) # weights for first hidden layer, 200 neurons in the first layer.\n",
        "b1 = torch.randn(200, generator=g) # Bias for these 200 neurons\n",
        "W2 = torch.randn((200, 27), generator=g) # last layer (output)\n",
        "b2 = torch.randn(27, generator=g) # bias for 27 neurons (outputs)\n",
        "parameters = [C, W1, b1, W2, b2] # all the parameters used in our MLP model"
      ],
      "metadata": {
        "id": "0PF6zCte1nCH"
      },
      "execution_count": 304,
      "outputs": []
    },
    {
      "cell_type": "code",
      "source": [
        "sum(p.nelement() for p in parameters) # number of parameters in total"
      ],
      "metadata": {
        "colab": {
          "base_uri": "https://localhost:8080/"
        },
        "id": "ohbPOCI92LrF",
        "outputId": "b914756c-8549-4a2c-cc89-748d4f43ff5d"
      },
      "execution_count": 305,
      "outputs": [
        {
          "output_type": "execute_result",
          "data": {
            "text/plain": [
              "11897"
            ]
          },
          "metadata": {},
          "execution_count": 305
        }
      ]
    },
    {
      "cell_type": "code",
      "source": [
        "for p in parameters:\n",
        "  p.requires_grad = True # telling pytorch that we will use gradients in our model."
      ],
      "metadata": {
        "id": "aP1kl4oj2OF2"
      },
      "execution_count": 306,
      "outputs": []
    },
    {
      "cell_type": "code",
      "source": [
        "# making different types of learning rates so to get best learning rate for our model. (use only when optimizing the learning rate)\n",
        "lre = torch.linspace(-3, 0, 1000)\n",
        "lrs = 10**lre"
      ],
      "metadata": {
        "id": "vPCjJmWA2Wlf"
      },
      "execution_count": 307,
      "outputs": []
    },
    {
      "cell_type": "code",
      "source": [
        "lri = [] # track of learning rate of each epoch (use only when optimizing the learning rate).\n",
        "lossi = [] # track of loss after each epoch\n",
        "stepi = [] # index of each epoch"
      ],
      "metadata": {
        "id": "s7eV77p12g9u"
      },
      "execution_count": 308,
      "outputs": []
    },
    {
      "cell_type": "code",
      "source": [
        "for i in range(200000):\n",
        "  \n",
        "  # minibatch construct\n",
        "  ix = torch.randint(0, Xtr.shape[0], (32,)) # creating mini batch of size 32.\n",
        "  \n",
        "  # forward pass\n",
        "  emb = C[Xtr[ix]] # (50, 3, 10) # embedding each 3 charactes into 10 different features for each 32 examples.\n",
        "  h = torch.tanh(emb.view(-1, 30) @ W1 + b1) # (32, 200) # first hidden layer has 200 neurons\n",
        "  logits = h @ W2 + b2 # (32, 27)\n",
        "  loss = F.cross_entropy(logits, Ytr[ix]) # loss is total cross-entropy for 32 total examples.\n",
        "  #print(loss.item())\n",
        "  \n",
        "  # backward pass\n",
        "  for p in parameters:\n",
        "    p.grad = None # initializing gradient with NONE.\n",
        "  loss.backward() # Doing back propagation.\n",
        "  \n",
        "  # update\n",
        "  #lr = lrs[i]\n",
        "  lr = 0.1 if i < 100000 else 0.01 # setting our learning rate. \n",
        "  for p in parameters:\n",
        "    p.data += -lr * p.grad # changing values of each parameters after each epoch using gradient descent.\n",
        "\n",
        "  # track stats\n",
        "  #lri.append(lre[i]) # (use only when optimizing the learning rate)\n",
        "  stepi.append(i) # appending index of each epoch\n",
        "  lossi.append(loss.log10().item()) # storing loss after taking log.\n",
        "\n",
        "#print(loss.item())"
      ],
      "metadata": {
        "id": "ceKEFYMk28RF"
      },
      "execution_count": 309,
      "outputs": []
    },
    {
      "cell_type": "code",
      "source": [
        "plt.plot(stepi, lossi)"
      ],
      "metadata": {
        "colab": {
          "base_uri": "https://localhost:8080/",
          "height": 283
        },
        "id": "4hee-4th8zHv",
        "outputId": "572e7b18-dd46-4aea-9d86-5f8bd798ed1b"
      },
      "execution_count": 310,
      "outputs": [
        {
          "output_type": "execute_result",
          "data": {
            "text/plain": [
              "[<matplotlib.lines.Line2D at 0x7f1571abddc0>]"
            ]
          },
          "metadata": {},
          "execution_count": 310
        },
        {
          "output_type": "display_data",
          "data": {
            "text/plain": [
              "<Figure size 432x288 with 1 Axes>"
            ],
            "image/png": "[encoded data removed]"
          },
          "metadata": {
            "needs_background": "light"
          }
        }
      ]
    },
    {
      "cell_type": "code",
      "source": [
        "# training loss doing all Xtr together \n",
        "emb = C[Xtr] # (32, 3, 2)\n",
        "h = torch.tanh(emb.view(-1, 30) @ W1 + b1) # (32, 100)\n",
        "logits = h @ W2 + b2 # (32, 27)\n",
        "loss = F.cross_entropy(logits, Ytr)\n",
        "loss"
      ],
      "metadata": {
        "colab": {
          "base_uri": "https://localhost:8080/"
        },
        "id": "vkgrTfNR9clW",
        "outputId": "5d07fa5f-9eef-4a76-eeec-f1232d963e90"
      },
      "execution_count": 311,
      "outputs": [
        {
          "output_type": "execute_result",
          "data": {
            "text/plain": [
              "tensor(2.1417, grad_fn=<NllLossBackward0>)"
            ]
          },
          "metadata": {},
          "execution_count": 311
        }
      ]
    },
    {
      "cell_type": "code",
      "source": [
        "# validation loss doing all Xdev together\n",
        "emb = C[Xdev] # (32, 3, 2)\n",
        "h = torch.tanh(emb.view(-1, 30) @ W1 + b1) # (32, 100)\n",
        "logits = h @ W2 + b2 # (32, 27)\n",
        "loss = F.cross_entropy(logits, Ydev)\n",
        "loss"
      ],
      "metadata": {
        "colab": {
          "base_uri": "https://localhost:8080/"
        },
        "id": "eFiXzzRz9fN-",
        "outputId": "9c3dabc7-f031-4055-c731-21951e4ae068"
      },
      "execution_count": 312,
      "outputs": [
        {
          "output_type": "execute_result",
          "data": {
            "text/plain": [
              "tensor(2.1988, grad_fn=<NllLossBackward0>)"
            ]
          },
          "metadata": {},
          "execution_count": 312
        }
      ]
    },
    {
      "cell_type": "code",
      "source": [
        "# test loss doing all Xte together\n",
        "emb = C[Xte] # (32, 3, 2)\n",
        "h = torch.tanh(emb.view(-1, 30) @ W1 + b1) # (32, 100)\n",
        "logits = h @ W2 + b2 # (32, 27)\n",
        "loss = F.cross_entropy(logits, Yte)\n",
        "loss"
      ],
      "metadata": {
        "colab": {
          "base_uri": "https://localhost:8080/"
        },
        "id": "g4gUEflE94Xh",
        "outputId": "75f8150a-1323-4f38-902d-a857b6e2492e"
      },
      "execution_count": 313,
      "outputs": [
        {
          "output_type": "execute_result",
          "data": {
            "text/plain": [
              "tensor(2.1941, grad_fn=<NllLossBackward0>)"
            ]
          },
          "metadata": {},
          "execution_count": 313
        }
      ]
    },
    {
      "cell_type": "code",
      "source": [
        "# visualize only dimensions 0 and 1 out of 10 dimensions (10 features of each character) of the embedding matrix C for all characters.\n",
        "plt.figure(figsize=(8,8))\n",
        "plt.scatter(C[:,0].data, C[:,1].data, s=200)\n",
        "for i in range(C.shape[0]):\n",
        "    plt.text(C[i,0].item(), C[i,1].item(), itos[i], ha=\"center\", va=\"center\", color='white')\n",
        "plt.grid('minor')"
      ],
      "metadata": {
        "colab": {
          "base_uri": "https://localhost:8080/",
          "height": 483
        },
        "id": "xXhOwItn9-XM",
        "outputId": "4e364500-c218-4e04-9831-9bdfc24881a2"
      },
      "execution_count": 314,
      "outputs": [
        {
          "output_type": "display_data",
          "data": {
            "text/plain": [
              "<Figure size 576x576 with 1 Axes>"
            ],
            "image/png": "[encoded data removed]"
          },
          "metadata": {
            "needs_background": "light"
          }
        }
      ]
    },
    {
      "cell_type": "markdown",
      "source": [
        "#### Sampling from the model (`generating names`)"
      ],
      "metadata": {
        "id": "0-dMKizM-Kl5"
      }
    },
    {
      "cell_type": "code",
      "source": [
        "# sample from the model\n",
        "g = torch.Generator().manual_seed(2147483647 + 10)\n",
        "\n",
        "for _ in range(20):\n",
        "    \n",
        "    out = []\n",
        "    context = [0] * block_size # initialize with all ...\n",
        "    while True:\n",
        "      emb = C[torch.tensor([context])] # (1,block_size,d)\n",
        "      h = torch.tanh(emb.view(1, -1) @ W1 + b1)\n",
        "      logits = h @ W2 + b2\n",
        "      probs = F.softmax(logits, dim=1)\n",
        "      ix = torch.multinomial(probs, num_samples=1, generator=g).item()\n",
        "      context = context[1:] + [ix]\n",
        "      out.append(ix)\n",
        "      if ix == 0:\n",
        "        break\n",
        "    \n",
        "    print(''.join(itos[i] for i in out))"
      ],
      "metadata": {
        "colab": {
          "base_uri": "https://localhost:8080/"
        },
        "id": "HOV37RMs-WDi",
        "outputId": "14ebc4f6-8e80-4aaf-d02e-caf907c81384"
      },
      "execution_count": 315,
      "outputs": [
        {
          "output_type": "stream",
          "name": "stdout",
          "text": [
            "carlah.\n",
            "aal.\n",
            "havi.\n",
            "kemili.\n",
            "taty.\n",
            "skansha.\n",
            "jazon.\n",
            "nayah.\n",
            "arciarquia.\n",
            "ellara.\n",
            "chaiif.\n",
            "kaleigh.\n",
            "ham.\n",
            "joi.\n",
            "dessan.\n",
            "sulin.\n",
            "alianni.\n",
            "walell.\n",
            "dearyn.\n",
            "kal.\n"
          ]
        }
      ]
    },
    {
      "cell_type": "code",
      "source": [],
      "metadata": {
        "id": "6Qx_J0sD-YuG"
      },
      "execution_count": 315,
      "outputs": []
    }
  ]
}