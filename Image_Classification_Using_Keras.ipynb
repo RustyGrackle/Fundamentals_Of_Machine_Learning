{
  "nbformat": 4,
  "nbformat_minor": 0,
  "metadata": {
    "colab": {
      "provenance": []
    },
    "kernelspec": {
      "name": "python3",
      "display_name": "Python 3"
    },
    "language_info": {
      "name": "python"
    }
  },
  "cells": [
    {
      "cell_type": "markdown",
      "source": [
        "* In this notebook, we will make and learn various basic different types of models using keras"
      ],
      "metadata": {
        "id": "ezXy9rXSNPu7"
      }
    },
    {
      "cell_type": "markdown",
      "source": [
        "# Basic Image Classification"
      ],
      "metadata": {
        "id": "4NOw6AcrOGmo"
      }
    },
    {
      "cell_type": "code",
      "source": [
        "import tensorflow as tf\n",
        "\n",
        "import numpy as np\n",
        "import matplotlib.pyplot as plt\n",
        "import pandas as pd\n",
        "tf.__version__"
      ],
      "metadata": {
        "colab": {
          "base_uri": "https://localhost:8080/",
          "height": 35
        },
        "id": "r6r8YxMDON6E",
        "outputId": "5067258a-7695-4ea9-84de-a08b8b6109b6"
      },
      "execution_count": 1,
      "outputs": [
        {
          "output_type": "execute_result",
          "data": {
            "text/plain": [
              "'2.11.0'"
            ],
            "application/vnd.google.colaboratory.intrinsic+json": {
              "type": "string"
            }
          },
          "metadata": {},
          "execution_count": 1
        }
      ]
    },
    {
      "cell_type": "code",
      "source": [
        "fashion_mnist = tf.keras.datasets.fashion_mnist # fashion_mnist is already inside the tensorflow library show we can directly call this dataset.\n",
        "\n",
        "((train_imgs, train_labels),(test_imgs, test_labels)) = fashion_mnist.load_data() # making training and test data"
      ],
      "metadata": {
        "id": "O3E6rI2PPGax",
        "colab": {
          "base_uri": "https://localhost:8080/"
        },
        "outputId": "5feabca3-df62-41c9-f315-e2ef8ebc4a97"
      },
      "execution_count": 2,
      "outputs": [
        {
          "output_type": "stream",
          "name": "stdout",
          "text": [
            "Downloading data from https://storage.googleapis.com/tensorflow/tf-keras-datasets/train-labels-idx1-ubyte.gz\n",
            "29515/29515 [==============================] - 0s 0us/step\n",
            "Downloading data from https://storage.googleapis.com/tensorflow/tf-keras-datasets/train-images-idx3-ubyte.gz\n",
            "26421880/26421880 [==============================] - 0s 0us/step\n",
            "Downloading data from https://storage.googleapis.com/tensorflow/tf-keras-datasets/t10k-labels-idx1-ubyte.gz\n",
            "5148/5148 [==============================] - 0s 0us/step\n",
            "Downloading data from https://storage.googleapis.com/tensorflow/tf-keras-datasets/t10k-images-idx3-ubyte.gz\n",
            "4422102/4422102 [==============================] - 0s 0us/step\n"
          ]
        }
      ]
    },
    {
      "cell_type": "markdown",
      "source": [
        "* Here, labels are :"
      ],
      "metadata": {
        "id": "3HpVKhbmPtcd"
      }
    },
    {
      "cell_type": "code",
      "source": [
        "# Our Labels actually are:-\n",
        "class_names = ['T-shirt/top', 'Trouser', 'Pullover', 'Dress', 'Coat', 'Sandal', 'Shirt', 'Sneaker', 'Bag', 'Ankle boot']\n",
        "# Here index in the list is same as in labels"
      ],
      "metadata": {
        "id": "cvAuHxJ7XllX"
      },
      "execution_count": 3,
      "outputs": []
    },
    {
      "cell_type": "markdown",
      "source": [
        "* Preprocessing and Understanding the data:"
      ],
      "metadata": {
        "id": "oUUqCISBX4hE"
      }
    },
    {
      "cell_type": "code",
      "source": [
        "plt.figure() # It is a function to create a new figure"
      ],
      "metadata": {
        "colab": {
          "base_uri": "https://localhost:8080/",
          "height": 53
        },
        "id": "qPMY64VpYMNN",
        "outputId": "2684ec74-412d-4f69-dc95-083882d59ed7"
      },
      "execution_count": 4,
      "outputs": [
        {
          "output_type": "execute_result",
          "data": {
            "text/plain": [
              "<Figure size 432x288 with 0 Axes>"
            ]
          },
          "metadata": {},
          "execution_count": 4
        },
        {
          "output_type": "display_data",
          "data": {
            "text/plain": [
              "<Figure size 432x288 with 0 Axes>"
            ]
          },
          "metadata": {}
        }
      ]
    },
    {
      "cell_type": "code",
      "source": [
        "plt.imshow(train_imgs[69]) # showing 70th photo\n",
        "plt.figure() # creating another new figure\n",
        "plt.imshow(train_imgs[0]) # and showing this 1st photo\n",
        "plt.colorbar() # making colorbar for 1st photo\n",
        "plt.grid(True) # making grids for 1st photo\n",
        "plt.show() \n",
        "# plt. show() starts an event loop, looks for all currently active figure objects, \n",
        "# and opens one or more interactive windows that display your figure or figures"
      ],
      "metadata": {
        "colab": {
          "base_uri": "https://localhost:8080/",
          "height": 513
        },
        "id": "qYMMIEtZY3VD",
        "outputId": "7587e742-62e8-466a-d9ff-709e356013f2"
      },
      "execution_count": 5,
      "outputs": [
        {
          "output_type": "display_data",
          "data": {
            "text/plain": [
              "<Figure size 432x288 with 1 Axes>"
            ],
            "image/png": "[encoded data removed]"
          },
          "metadata": {
            "needs_background": "light"
          }
        },
        {
          "output_type": "display_data",
          "data": {
            "text/plain": [
              "<Figure size 432x288 with 2 Axes>"
            ],
            "image/png": "[encoded data removed]"
          },
          "metadata": {
            "needs_background": "light"
          }
        }
      ]
    },
    {
      "cell_type": "markdown",
      "source": [
        "\n",
        "- Now we scale the values of inputs (pixels) between 0 and 1. (NOTE: Here max pixel possible is 255)\n",
        "- This is also known as `normalizing the data`\n",
        "- we generally do this normalization basically for two reasons:\n",
        "  * First, for example, say `linear regression`, by normalizing, the `weights` gets adjusted more appropriately in next epochs more fastly.\n",
        "  * and, Second, while calculating `gradient descent`, by normalizing, it decreases the, what you can say the zig-zag motion during adjusting `weights` accordingly to decrease the `loss function`, and more steeply comes to the minimum point,"
      ],
      "metadata": {
        "id": "2nYeCy_KZGoV"
      }
    },
    {
      "cell_type": "code",
      "source": [
        "# So, normalizing the data:\n",
        "train_imgs = train_imgs / 255.0\n",
        "\n",
        "test_imgs = test_imgs / 255.0"
      ],
      "metadata": {
        "id": "aYvBxKboZjYH"
      },
      "execution_count": 6,
      "outputs": []
    },
    {
      "cell_type": "code",
      "source": [
        "# displaying first 25 images from training set.\n",
        "plt.figure(figsize=(10,10))\n",
        "for i in range(25):\n",
        "  plt.subplot(5,5,i+1) # subplot(nrows, ncols, index, **kwargs)\n",
        "  plt.xticks([]) # Passing an empty list removes all xticks from image.\n",
        "  plt.yticks([]) # Passing an empty list removes all yticks from image.\n",
        "  plt.grid(False) # Not displaying grids\n",
        "  plt.imshow(train_imgs[i], cmap=plt.cm.binary) # cmap=plt.cm.binary makes images binary - `black and white`\n",
        "  plt.xlabel(class_names[train_labels[i]])\n",
        "plt.show()\n"
      ],
      "metadata": {
        "colab": {
          "base_uri": "https://localhost:8080/",
          "height": 589
        },
        "id": "Bi-Q1eBHRuma",
        "outputId": "06b016cf-fb33-4c14-d5e5-fed1fbd1b185"
      },
      "execution_count": 7,
      "outputs": [
        {
          "output_type": "display_data",
          "data": {
            "text/plain": [
              "<Figure size 720x720 with 25 Axes>"
            ],
            "image/png": "[encoded data removed]"
          },
          "metadata": {}
        }
      ]
    },
    {
      "cell_type": "markdown",
      "source": [
        "### Building the Model"
      ],
      "metadata": {
        "id": "_tmyjJnhV-XT"
      }
    },
    {
      "cell_type": "markdown",
      "source": [
        "- 1) Configuring layers of the model. (Building the structure of `Neural Network` of our model)"
      ],
      "metadata": {
        "id": "8fwjuEzLWKKi"
      }
    },
    {
      "cell_type": "code",
      "source": [
        "# Making our model\n",
        "\n",
        "# Creation of model (input layer, hidden layer and output (Logits array)); layers are not connected\n",
        "# That is, weights are not still initialized.\n",
        "model = tf.keras.Sequential([\n",
        "    tf.keras.layers.Flatten(input_shape=(28,28)), # 28 * 28\n",
        "    tf.keras.layers.Dense(128, activation='relu'), # defining `relu (rectified linear unit) = max(0, a)` activation for Hidden layer's neuron.\n",
        "    tf.keras.layers.Dense(10) # output layer (Logits array)\n",
        "    # Dense - Densely connected means fully connected all neurons of all layers.\n",
        "])\n",
        "\n",
        "model.layers"
      ],
      "metadata": {
        "colab": {
          "base_uri": "https://localhost:8080/"
        },
        "id": "3jMDGZSyWY5P",
        "outputId": "05f6c0c2-28b8-4afa-98f3-03b22ebb26e9"
      },
      "execution_count": 8,
      "outputs": [
        {
          "output_type": "execute_result",
          "data": {
            "text/plain": [
              "[<keras.layers.reshaping.flatten.Flatten at 0x7f5f60844f10>,\n",
              " <keras.layers.core.dense.Dense at 0x7f5f6081a9a0>,\n",
              " <keras.layers.core.dense.Dense at 0x7f5f6087cd90>]"
            ]
          },
          "metadata": {},
          "execution_count": 8
        }
      ]
    },
    {
      "cell_type": "markdown",
      "source": [
        "- 2) After structuring our model, We will `compile` our model (giving `functionality` to our model, `Providing way of learning`)\n",
        "  * Providing `Loss function`: This measures how accurate the model is during training. You want to minimize this function to \"steer\" the model in the right direction.\n",
        "  * Providing `optimizer`: tells how the model (weights) is updated based on data it sees and loss function.\n",
        "  * Providing `Metrics`: Used to monitor the training and testing steps. The following example uses accuracy, the fraction of the images that are correctly classified."
      ],
      "metadata": {
        "id": "w8K33QvaYwWm"
      }
    },
    {
      "cell_type": "code",
      "source": [
        "# Compiling our model\n",
        "\n",
        "model.compile(optimizer='adam', \n",
        "              loss=tf.keras.losses.SparseCategoricalCrossentropy(from_logits=True),\n",
        "              metrics=['accuracy'])\n"
      ],
      "metadata": {
        "id": "stpaeSACeYbZ"
      },
      "execution_count": 9,
      "outputs": []
    },
    {
      "cell_type": "markdown",
      "source": [
        "- 3) `Feed the model`, We feed the model using our training images and training labels."
      ],
      "metadata": {
        "id": "RQeC5rbRkkc_"
      }
    },
    {
      "cell_type": "code",
      "source": [
        "# fitting our model with training data\n",
        "\n",
        "model.fit(train_imgs, train_labels, epochs=10)\n",
        "# Using 10 epochs, That is, 10 times our weights of neuron adjust themselves to decrease the loss and make accurate predictions."
      ],
      "metadata": {
        "colab": {
          "base_uri": "https://localhost:8080/"
        },
        "id": "TEEj245nk5rb",
        "outputId": "c42e2fd2-acf7-48e3-a8c4-70724b1675b5"
      },
      "execution_count": 10,
      "outputs": [
        {
          "output_type": "stream",
          "name": "stdout",
          "text": [
            "Epoch 1/10\n",
            "1875/1875 [==============================] - 7s 4ms/step - loss: 0.4982 - accuracy: 0.8231\n",
            "Epoch 2/10\n",
            "1875/1875 [==============================] - 7s 4ms/step - loss: 0.3733 - accuracy: 0.8648\n",
            "Epoch 3/10\n",
            "1875/1875 [==============================] - 6s 3ms/step - loss: 0.3348 - accuracy: 0.8782\n",
            "Epoch 4/10\n",
            "1875/1875 [==============================] - 7s 4ms/step - loss: 0.3128 - accuracy: 0.8854\n",
            "Epoch 5/10\n",
            "1875/1875 [==============================] - 6s 3ms/step - loss: 0.2923 - accuracy: 0.8942\n",
            "Epoch 6/10\n",
            "1875/1875 [==============================] - 9s 5ms/step - loss: 0.2790 - accuracy: 0.8977\n",
            "Epoch 7/10\n",
            "1875/1875 [==============================] - 7s 4ms/step - loss: 0.2661 - accuracy: 0.9015\n",
            "Epoch 8/10\n",
            "1875/1875 [==============================] - 7s 4ms/step - loss: 0.2549 - accuracy: 0.9045\n",
            "Epoch 9/10\n",
            "1875/1875 [==============================] - 8s 4ms/step - loss: 0.2445 - accuracy: 0.9084\n",
            "Epoch 10/10\n",
            "1875/1875 [==============================] - 7s 4ms/step - loss: 0.2377 - accuracy: 0.9106\n"
          ]
        },
        {
          "output_type": "execute_result",
          "data": {
            "text/plain": [
              "<keras.callbacks.History at 0x7f5f63374520>"
            ]
          },
          "metadata": {},
          "execution_count": 10
        }
      ]
    },
    {
      "cell_type": "code",
      "source": [
        "test_loss, test_acc = model.evaluate(test_imgs,  test_labels, verbose=2)\n",
        "# By setting verbose 0, 1 or 2 you just say how do you want to 'see' the training progress for each epoch.\n",
        "# verbose=0 will show you nothing (silent)\n",
        "# verbose=1 will show you an animated progress\n",
        "# verbose=2 will show you just epoch.\n",
        "print('\\nTest accuracy:', test_acc) # printing accuracy"
      ],
      "metadata": {
        "id": "feBQIhJGlVAq",
        "colab": {
          "base_uri": "https://localhost:8080/"
        },
        "outputId": "d2115b90-3755-4081-e541-473e3ff21afc"
      },
      "execution_count": 11,
      "outputs": [
        {
          "output_type": "stream",
          "name": "stdout",
          "text": [
            "313/313 - 1s - loss: 0.3342 - accuracy: 0.8845 - 643ms/epoch - 2ms/step\n",
            "\n",
            "Test accuracy: 0.8845000267028809\n"
          ]
        }
      ]
    },
    {
      "cell_type": "markdown",
      "source": [
        "- sometimes when we provide new test data, new test data predictions's accuracy are somewhat lesser than that of trained model.\n",
        "- this is due to, something called as `overfitting`."
      ],
      "metadata": {
        "id": "iquxNIph9wou"
      }
    },
    {
      "cell_type": "markdown",
      "source": [
        "#### Making `Predictions`"
      ],
      "metadata": {
        "id": "0ADSXpruA7jv"
      }
    },
    {
      "cell_type": "markdown",
      "source": [
        "- With the model trained, you can use it to make predictions about some images. Attach a softmax layer to convert the model's linear outputs—logits—to probabilities, which should be easier to interpret."
      ],
      "metadata": {
        "id": "10ghjiuZBCm8"
      }
    },
    {
      "cell_type": "code",
      "source": [
        "probability_model = tf.keras.Sequential([model, \n",
        "                                         tf.keras.layers.Softmax()])"
      ],
      "metadata": {
        "id": "RgE-YZ_zBHtk"
      },
      "execution_count": 12,
      "outputs": []
    },
    {
      "cell_type": "code",
      "source": [
        "predictions = probability_model.predict(test_imgs) # again predicting after adding softmax layer"
      ],
      "metadata": {
        "colab": {
          "base_uri": "https://localhost:8080/"
        },
        "id": "jzoIdhoyBLI1",
        "outputId": "a8542a81-4711-4502-ed1b-c7ad81abdee0"
      },
      "execution_count": 13,
      "outputs": [
        {
          "output_type": "stream",
          "name": "stdout",
          "text": [
            "313/313 [==============================] - 1s 2ms/step\n"
          ]
        }
      ]
    },
    {
      "cell_type": "code",
      "source": [
        "predictions[0] # prediction of test data: test_imgs[0]"
      ],
      "metadata": {
        "colab": {
          "base_uri": "https://localhost:8080/"
        },
        "id": "3QoifTgwBUsD",
        "outputId": "284a1fbf-eb6e-4a95-c7aa-b9c3f23ef91a"
      },
      "execution_count": 14,
      "outputs": [
        {
          "output_type": "execute_result",
          "data": {
            "text/plain": [
              "array([2.7618175e-06, 7.1132789e-10, 2.3141843e-07, 2.1269231e-10,\n",
              "       2.2710282e-07, 3.6224175e-02, 1.7906290e-06, 6.0303900e-02,\n",
              "       3.7559673e-08, 9.0346688e-01], dtype=float32)"
            ]
          },
          "metadata": {},
          "execution_count": 14
        }
      ]
    },
    {
      "cell_type": "markdown",
      "source": [
        "* A prediction is an array of 10 numbers. They represent the model's \"confidence\" that the image corresponds to each of the 10 different articles of clothing. You can see which label has the highest confidence value:"
      ],
      "metadata": {
        "id": "Fb8vjg5TBadF"
      }
    },
    {
      "cell_type": "code",
      "source": [
        "np.argmax(predictions[0]) # `argmax` shows which has highest probability in predictions[0]"
      ],
      "metadata": {
        "colab": {
          "base_uri": "https://localhost:8080/"
        },
        "id": "VOlweSSOBoUB",
        "outputId": "c794b282-2836-4f04-e04c-eb98f659dbbe"
      },
      "execution_count": 15,
      "outputs": [
        {
          "output_type": "execute_result",
          "data": {
            "text/plain": [
              "9"
            ]
          },
          "metadata": {},
          "execution_count": 15
        }
      ]
    },
    {
      "cell_type": "code",
      "source": [
        "test_labels[0]"
      ],
      "metadata": {
        "colab": {
          "base_uri": "https://localhost:8080/"
        },
        "id": "w1pinuNOCGgu",
        "outputId": "061f0dde-b993-4c84-d947-9ad08d95c179"
      },
      "execution_count": 16,
      "outputs": [
        {
          "output_type": "execute_result",
          "data": {
            "text/plain": [
              "9"
            ]
          },
          "metadata": {},
          "execution_count": 16
        }
      ]
    },
    {
      "cell_type": "markdown",
      "source": [
        "* So our prediction is correct"
      ],
      "metadata": {
        "id": "uFi6p9w_DOvj"
      }
    },
    {
      "cell_type": "code",
      "source": [
        "\n",
        "def plot_image(i, predictions_array, true_label, img):\n",
        "  true_label, img = true_label[i], img[i]\n",
        "  plt.grid(False)\n",
        "  plt.xticks([])\n",
        "  plt.yticks([])\n",
        "\n",
        "  plt.imshow(img, cmap=plt.cm.binary)\n",
        "\n",
        "  predicted_label = np.argmax(predictions_array)\n",
        "  if predicted_label == true_label:\n",
        "    color = 'blue'\n",
        "  else:\n",
        "    color = 'red'\n",
        "\n",
        "  plt.xlabel(\"{} {:2.0f}% ({})\".format(class_names[predicted_label],\n",
        "                                100*np.max(predictions_array),\n",
        "                                class_names[true_label]),\n",
        "                                color=color)\n",
        "\n",
        "def plot_value_array(i, predictions_array, true_label):\n",
        "  true_label = true_label[i]\n",
        "  plt.grid(False)\n",
        "  plt.xticks(range(10))\n",
        "  plt.yticks([])\n",
        "  thisplot = plt.bar(range(10), predictions_array, color=\"#777777\")\n",
        "  plt.ylim([0, 1])\n",
        "  predicted_label = np.argmax(predictions_array)\n",
        "\n",
        "  thisplot[predicted_label].set_color('red')\n",
        "  thisplot[true_label].set_color('blue')"
      ],
      "metadata": {
        "id": "CuyvMxpGDTn0"
      },
      "execution_count": 17,
      "outputs": []
    },
    {
      "cell_type": "markdown",
      "source": [
        "#### Verify predictions"
      ],
      "metadata": {
        "id": "E9wMTFWLDaE0"
      }
    },
    {
      "cell_type": "code",
      "source": [
        "i = 0\n",
        "plt.figure(figsize=(6,3))\n",
        "plt.subplot(1,2,1)\n",
        "plot_image(i, predictions[i], test_labels, test_imgs)\n",
        "plt.subplot(1,2,2)\n",
        "plot_value_array(i, predictions[i],  test_labels)\n",
        "plt.show()"
      ],
      "metadata": {
        "colab": {
          "base_uri": "https://localhost:8080/",
          "height": 211
        },
        "id": "iEreLj9tDgSb",
        "outputId": "9809bd89-cdfd-44e4-de22-46f7917984fc"
      },
      "execution_count": 18,
      "outputs": [
        {
          "output_type": "display_data",
          "data": {
            "text/plain": [
              "<Figure size 432x216 with 2 Axes>"
            ],
            "image/png": "[encoded data removed]"
          },
          "metadata": {
            "needs_background": "light"
          }
        }
      ]
    },
    {
      "cell_type": "code",
      "source": [
        "i = 12\n",
        "plt.figure(figsize=(6,3))\n",
        "plt.subplot(1,2,1)\n",
        "plot_image(i, predictions[i], test_labels, test_imgs)\n",
        "plt.subplot(1,2,2)\n",
        "plot_value_array(i, predictions[i],  test_labels)\n",
        "plt.show()"
      ],
      "metadata": {
        "colab": {
          "base_uri": "https://localhost:8080/",
          "height": 211
        },
        "id": "ZnhBQP3wDioj",
        "outputId": "bbf8af17-d6d9-40eb-d6ab-93c9ab6233bf"
      },
      "execution_count": 19,
      "outputs": [
        {
          "output_type": "display_data",
          "data": {
            "text/plain": [
              "<Figure size 432x216 with 2 Axes>"
            ],
            "image/png": "[encoded data removed]"
          },
          "metadata": {
            "needs_background": "light"
          }
        }
      ]
    },
    {
      "cell_type": "code",
      "source": [
        "# Plot the first X test images, their predicted labels, and the true labels.\n",
        "# Color correct predictions in blue and incorrect predictions in red.\n",
        "num_rows = 5\n",
        "num_cols = 3\n",
        "num_images = num_rows*num_cols\n",
        "plt.figure(figsize=(2*2*num_cols, 2*num_rows))\n",
        "for i in range(num_images):\n",
        "  plt.subplot(num_rows, 2*num_cols, 2*i+1)\n",
        "  plot_image(i, predictions[i], test_labels, test_imgs)\n",
        "  plt.subplot(num_rows, 2*num_cols, 2*i+2)\n",
        "  plot_value_array(i, predictions[i], test_labels)\n",
        "plt.tight_layout()\n",
        "plt.show()"
      ],
      "metadata": {
        "colab": {
          "base_uri": "https://localhost:8080/",
          "height": 729
        },
        "id": "qTfFWP46Dp0w",
        "outputId": "2ff010f0-f0a7-48c6-eeee-069afe2ea8bf"
      },
      "execution_count": 20,
      "outputs": [
        {
          "output_type": "display_data",
          "data": {
            "text/plain": [
              "<Figure size 864x720 with 30 Axes>"
            ],
            "image/png": "[encoded data removed]"
          },
          "metadata": {
            "needs_background": "light"
          }
        }
      ]
    },
    {
      "cell_type": "markdown",
      "source": [
        "#### Use the trained model"
      ],
      "metadata": {
        "id": "wXwvJHCGDxVP"
      }
    },
    {
      "cell_type": "code",
      "source": [
        "# Grab an image from the test dataset.\n",
        "img = test_imgs[1]\n",
        "\n",
        "print(img.shape)"
      ],
      "metadata": {
        "colab": {
          "base_uri": "https://localhost:8080/"
        },
        "id": "L6un5cZrERR9",
        "outputId": "453d78a9-20b2-4318-e356-469267984664"
      },
      "execution_count": 21,
      "outputs": [
        {
          "output_type": "stream",
          "name": "stdout",
          "text": [
            "(28, 28)\n"
          ]
        }
      ]
    },
    {
      "cell_type": "markdown",
      "source": [
        "- `tf.keras` models are optimized to make predictions on a batch, or collection, of examples at once. Accordingly, even though you're using a single image, you need to add it to a list:"
      ],
      "metadata": {
        "id": "BBOaQv9aEYA3"
      }
    },
    {
      "cell_type": "code",
      "source": [
        "# Add the image to a batch where it's the only member.\n",
        "img = (np.expand_dims(img,0))\n",
        "\n",
        "print(img.shape)"
      ],
      "metadata": {
        "colab": {
          "base_uri": "https://localhost:8080/"
        },
        "id": "mDFTEMsREzNb",
        "outputId": "702364b3-e167-444b-e126-5aa37455bd3f"
      },
      "execution_count": 22,
      "outputs": [
        {
          "output_type": "stream",
          "name": "stdout",
          "text": [
            "(1, 28, 28)\n"
          ]
        }
      ]
    },
    {
      "cell_type": "code",
      "source": [
        "predictions_single = probability_model.predict(img)\n",
        "\n",
        "print(predictions_single)"
      ],
      "metadata": {
        "colab": {
          "base_uri": "https://localhost:8080/"
        },
        "id": "GyKLRcqfFELE",
        "outputId": "0f592eb5-2352-4f5f-83c8-d225e2d5dd68"
      },
      "execution_count": 23,
      "outputs": [
        {
          "output_type": "stream",
          "name": "stdout",
          "text": [
            "1/1 [==============================] - 0s 30ms/step\n",
            "[[2.0795645e-05 1.4624388e-13 9.9401408e-01 8.7352375e-10 5.2293012e-04\n",
            "  8.1196256e-12 5.4422016e-03 5.2344503e-16 1.6855597e-10 2.1949621e-13]]\n"
          ]
        }
      ]
    },
    {
      "cell_type": "code",
      "source": [
        "plot_value_array(1, predictions_single[0], test_labels)\n",
        "_ = plt.xticks(range(10), class_names, rotation=45)\n",
        "plt.show()"
      ],
      "metadata": {
        "colab": {
          "base_uri": "https://localhost:8080/",
          "height": 300
        },
        "id": "_xSpyWKZFIFS",
        "outputId": "dfbc9b4c-add0-46c4-9edd-15303b123cb3"
      },
      "execution_count": 24,
      "outputs": [
        {
          "output_type": "display_data",
          "data": {
            "text/plain": [
              "<Figure size 432x288 with 1 Axes>"
            ],
            "image/png": "[encoded data removed]"
          },
          "metadata": {
            "needs_background": "light"
          }
        }
      ]
    },
    {
      "cell_type": "markdown",
      "source": [
        "`tf.keras.Model.predict` returns a list of lists—one list for each image in the batch of data. Grab the predictions for our (only) image in the batch:"
      ],
      "metadata": {
        "id": "p8-7ZJgvFK6X"
      }
    },
    {
      "cell_type": "code",
      "source": [
        "np.argmax(predictions_single[0])"
      ],
      "metadata": {
        "colab": {
          "base_uri": "https://localhost:8080/"
        },
        "id": "g61ut3DBFrud",
        "outputId": "14355430-6081-4f3a-b925-c74a8cddd809"
      },
      "execution_count": 25,
      "outputs": [
        {
          "output_type": "execute_result",
          "data": {
            "text/plain": [
              "2"
            ]
          },
          "metadata": {},
          "execution_count": 25
        }
      ]
    },
    {
      "cell_type": "markdown",
      "source": [
        "* So Our Model predicted as expected"
      ],
      "metadata": {
        "id": "2CIuMdVfFw-c"
      }
    }
  ]
}